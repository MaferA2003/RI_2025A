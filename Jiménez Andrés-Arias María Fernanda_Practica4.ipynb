{
  "cells": [
    {
      "cell_type": "markdown",
      "source": [
        "## INTEGRANTES: Mafer Arias y Andrés Jiménez\n",
        "## FECHA: 21-05-2025"
      ],
      "metadata": {
        "id": "BeFimplvpyzd"
      },
      "id": "BeFimplvpyzd"
    },
    {
      "metadata": {
        "id": "941741204a003f44"
      },
      "cell_type": "markdown",
      "source": [
        "# Ejercicio 4: Modelo Probabilístico\n",
        "\n",
        "## Objetivo de la práctica\n",
        "- Comprender los componentes del modelo vectorial mediante cálculos manuales y observación directa.\n",
        "- Aplicar el modelo de espacio vectorial con TF-IDF para recuperar documentos relevantes.\n",
        "- Comparar la recuperación con BM25 frente a TF-IDF.\n",
        "- Analizar visualmente las diferencias entre los modelos.\n",
        "- Evaluar si los rankings generados son consistentes con lo que considerarías documentos relevantes."
      ],
      "id": "941741204a003f44"
    },
    {
      "metadata": {
        "id": "93bafe7a6a4ef9e5"
      },
      "cell_type": "markdown",
      "source": [
        "## Parte 0: Carga del Corpus"
      ],
      "id": "93bafe7a6a4ef9e5"
    },
    {
      "metadata": {
        "ExecuteTime": {
          "end_time": "2025-05-21T14:16:07.323562Z",
          "start_time": "2025-05-21T14:16:05.364309Z"
        },
        "id": "ad08bb8bd43ae327"
      },
      "cell_type": "code",
      "source": [
        "from sklearn.datasets import fetch_20newsgroups\n",
        "\n",
        "newsgroups = fetch_20newsgroups(subset='all', remove=('headers', 'footers', 'quotes'))\n",
        "newsgroupsdocs = newsgroups.data\n"
      ],
      "id": "ad08bb8bd43ae327",
      "outputs": [],
      "execution_count": 1
    },
    {
      "cell_type": "code",
      "source": [
        "print(len(newsgroupsdocs))\n"
      ],
      "metadata": {
        "colab": {
          "base_uri": "https://localhost:8080/"
        },
        "id": "mpDMmzZor1Kv",
        "outputId": "2d70eb3a-e831-4d27-f51f-f6b68c5ab974"
      },
      "id": "mpDMmzZor1Kv",
      "execution_count": 2,
      "outputs": [
        {
          "output_type": "stream",
          "name": "stdout",
          "text": [
            "18846\n"
          ]
        }
      ]
    },
    {
      "metadata": {
        "id": "10f8c7f78934f497"
      },
      "cell_type": "markdown",
      "source": [
        "## Parte 1: Cálculo de TF, DF, IDF y TF-IDF\n",
        "\n",
        "### Actividad\n",
        "1. Utiliza el corpus cargado.\n",
        "2. Construye la matriz de términos (TF), y calcula la frecuencia de documentos (DF)\n",
        "3. Calcula TF-IDF utilizando sklearn.\n",
        "4. Visualiza los valores en un DataFrame para analizar las diferencias entre los términos."
      ],
      "id": "10f8c7f78934f497"
    },
    {
      "metadata": {
        "colab": {
          "base_uri": "https://localhost:8080/"
        },
        "id": "d2ebd9f1c1b6c787",
        "outputId": "5c748100-ae43-46dd-b111-c00a45271508"
      },
      "cell_type": "code",
      "source": [
        "import pandas as pd\n",
        "import numpy as np\n",
        "from sklearn.feature_extraction.text import TfidfVectorizer\n",
        "print(newsgroupsdocs[3])\n",
        "vocab = set()\n",
        "for doc in newsgroupsdocs:\n",
        "    for word in doc.lower().strip('.').split(sep=\" \"):\n",
        "        vocab.add(word)\n",
        "print(len(vocab))\n"
      ],
      "id": "d2ebd9f1c1b6c787",
      "outputs": [
        {
          "output_type": "stream",
          "name": "stdout",
          "text": [
            "\n",
            "Think!\n",
            "\n",
            "It's the SCSI card doing the DMA transfers NOT the disks...\n",
            "\n",
            "The SCSI card can do DMA transfers containing data from any of the SCSI devices\n",
            "it is attached when it wants to.\n",
            "\n",
            "An important feature of SCSI is the ability to detach a device. This frees the\n",
            "SCSI bus for other devices. This is typically used in a multi-tasking OS to\n",
            "start transfers on several devices. While each device is seeking the data the\n",
            "bus is free for other commands and data transfers. When the devices are\n",
            "ready to transfer the data they can aquire the bus and send the data.\n",
            "\n",
            "On an IDE bus when you start a transfer the bus is busy until the disk has seeked\n",
            "the data and transfered it. This is typically a 10-20ms second lock out for other\n",
            "processes wanting the bus irrespective of transfer time.\n",
            "\n",
            "408755\n"
          ]
        }
      ],
      "execution_count": 3
    },
    {
      "cell_type": "code",
      "source": [
        "\n",
        "from sklearn.feature_extraction.text import CountVectorizer, TfidfTransformer\n",
        "import pandas as pd\n",
        "import numpy as np\n",
        "\n",
        "#Crear la matriz TF (frecuencia de términos)\n",
        "vectorizer = CountVectorizer(stop_words='english')  # Limitamos para mejor visualización\n",
        "X_counts = vectorizer.fit_transform(newsgroupsdocs)\n",
        "terms = vectorizer.get_feature_names_out()\n",
        "\n",
        "#Calcular la frecuencia de documentos (DF)\n",
        "df = np.sum(X_counts.toarray() > 0, axis=0)  # cuántos documentos contienen cada término\n",
        "df_series = pd.Series(df, index=terms, name='Document Frequency')\n",
        "\n",
        "#Calcular TF-IDF\n",
        "tfidf_transformer = TfidfTransformer()\n",
        "X_tfidf = tfidf_transformer.fit_transform(X_counts)\n",
        "\n",
        "#Convertir a DataFrame para visualizar\n",
        "tfidf_df = pd.DataFrame(X_tfidf.toarray(), columns=terms)\n",
        "\n",
        "# Mostrar los primeros términos y su DF\n",
        "print(\"Frecuencia de documentos (DF) para los términos más comunes:\")\n",
        "print(df_series.sort_values(ascending=False).head(10))\n",
        "\n",
        "# Mostrar una muestra del TF-IDF\n",
        "print(\"\\nMatriz TF-IDF\")\n",
        "print(tfidf_df.iloc[:10, :100])"
      ],
      "metadata": {
        "colab": {
          "base_uri": "https://localhost:8080/"
        },
        "id": "S-_dH4rq1RdD",
        "outputId": "f7c56cf2-7972-46ca-e676-87f3503342fb"
      },
      "id": "S-_dH4rq1RdD",
      "execution_count": 6,
      "outputs": [
        {
          "output_type": "stream",
          "name": "stdout",
          "text": [
            "Frecuencia de documentos (DF) para los términos más comunes:\n",
            "like      4212\n",
            "just      4081\n",
            "don       3894\n",
            "know      3799\n",
            "think     3144\n",
            "does      2988\n",
            "people    2988\n",
            "time      2949\n",
            "use       2705\n",
            "good      2558\n",
            "Name: Document Frequency, dtype: int64\n",
            "\n",
            "Matriz TF-IDF\n",
            "         00  000  0000  00000  000000  00000000  0000000004  00000000b  \\\n",
            "0  0.000000  0.0   0.0    0.0     0.0       0.0         0.0        0.0   \n",
            "1  0.000000  0.0   0.0    0.0     0.0       0.0         0.0        0.0   \n",
            "2  0.000000  0.0   0.0    0.0     0.0       0.0         0.0        0.0   \n",
            "3  0.000000  0.0   0.0    0.0     0.0       0.0         0.0        0.0   \n",
            "4  0.000000  0.0   0.0    0.0     0.0       0.0         0.0        0.0   \n",
            "5  0.000000  0.0   0.0    0.0     0.0       0.0         0.0        0.0   \n",
            "6  0.000000  0.0   0.0    0.0     0.0       0.0         0.0        0.0   \n",
            "7  0.241059  0.0   0.0    0.0     0.0       0.0         0.0        0.0   \n",
            "8  0.000000  0.0   0.0    0.0     0.0       0.0         0.0        0.0   \n",
            "9  0.000000  0.0   0.0    0.0     0.0       0.0         0.0        0.0   \n",
            "\n",
            "   00000001  00000001b  ...  0004  00041032  0004136  00041555  0004244402  \\\n",
            "0       0.0        0.0  ...   0.0       0.0      0.0       0.0         0.0   \n",
            "1       0.0        0.0  ...   0.0       0.0      0.0       0.0         0.0   \n",
            "2       0.0        0.0  ...   0.0       0.0      0.0       0.0         0.0   \n",
            "3       0.0        0.0  ...   0.0       0.0      0.0       0.0         0.0   \n",
            "4       0.0        0.0  ...   0.0       0.0      0.0       0.0         0.0   \n",
            "5       0.0        0.0  ...   0.0       0.0      0.0       0.0         0.0   \n",
            "6       0.0        0.0  ...   0.0       0.0      0.0       0.0         0.0   \n",
            "7       0.0        0.0  ...   0.0       0.0      0.0       0.0         0.0   \n",
            "8       0.0        0.0  ...   0.0       0.0      0.0       0.0         0.0   \n",
            "9       0.0        0.0  ...   0.0       0.0      0.0       0.0         0.0   \n",
            "\n",
            "   0004246  00043819  0004422  00044513  00044808  \n",
            "0      0.0       0.0      0.0       0.0       0.0  \n",
            "1      0.0       0.0      0.0       0.0       0.0  \n",
            "2      0.0       0.0      0.0       0.0       0.0  \n",
            "3      0.0       0.0      0.0       0.0       0.0  \n",
            "4      0.0       0.0      0.0       0.0       0.0  \n",
            "5      0.0       0.0      0.0       0.0       0.0  \n",
            "6      0.0       0.0      0.0       0.0       0.0  \n",
            "7      0.0       0.0      0.0       0.0       0.0  \n",
            "8      0.0       0.0      0.0       0.0       0.0  \n",
            "9      0.0       0.0      0.0       0.0       0.0  \n",
            "\n",
            "[10 rows x 100 columns]\n"
          ]
        }
      ]
    },
    {
      "metadata": {
        "id": "64491bce5361e8b3"
      },
      "cell_type": "markdown",
      "source": [
        "## Parte 2: Ranking de documentos usando TF-IDF\n",
        "\n",
        "### Actividad\n",
        "\n",
        "1. Dada una consulta, construye el vector de consulta\n",
        "2. Calcula la similitud coseno entre la consulta y cada documento usando los vectores TF-IDF\n",
        "3. Genera un ranking de los documentos ordenados por relevancia.\n",
        "4. Muestra los resultados en una tabla."
      ],
      "id": "64491bce5361e8b3"
    },
    {
      "metadata": {
        "id": "9d082c4a156b9554",
        "colab": {
          "base_uri": "https://localhost:8080/"
        },
        "outputId": "89432aff-fd6e-44a5-9fcd-1c6700cf41bf"
      },
      "cell_type": "code",
      "source": [
        "\n",
        "from sklearn.metrics.pairwise import cosine_similarity\n",
        "import pandas as pd\n",
        "import numpy as np\n",
        "\n",
        "vectorizer = CountVectorizer(stop_words='english', max_features=1000)\n",
        "X_counts = vectorizer.fit_transform(newsgroupsdocs)\n",
        "terms = vectorizer.get_feature_names_out()\n",
        "\n",
        "tfidf_transformer = TfidfTransformer()\n",
        "X_tfidf = tfidf_transformer.fit_transform(X_counts)\n",
        "\n",
        "consulta = input(\"Ingresa tu consulta: \")\n",
        "\n",
        "consulta_counts = vectorizer.transform([consulta])\n",
        "consulta_tfidf = tfidf_transformer.transform(consulta_counts)\n",
        "\n",
        "similitudes = cosine_similarity(consulta_tfidf, X_tfidf).flatten()\n",
        "ranking_indices = similitudes.argsort()[::-1]\n",
        "ranking_scores = similitudes[ranking_indices]\n",
        "\n",
        "top_n = 10\n",
        "resultados_df = pd.DataFrame({\n",
        "    'Índice Documento': ranking_indices[:top_n],\n",
        "    'Similitud Coseno': ranking_scores[:top_n],\n",
        "    'Contenido (preview)': [newsgroupsdocs[i][:200].replace('\\n', ' ') for i in ranking_indices[:top_n]]\n",
        "})\n",
        "\n",
        "pd.set_option('display.max_colwidth', 200)\n",
        "print(\"\\nTop documentos relevantes para la consulta:\", consulta)\n",
        "print(resultados_df)\n"
      ],
      "id": "9d082c4a156b9554",
      "outputs": [
        {
          "output_type": "stream",
          "name": "stdout",
          "text": [
            "Ingresa tu consulta: nasa\n",
            "\n",
            "Top documentos relevantes para la consulta: nasa\n",
            "   Índice Documento  Similitud Coseno  \\\n",
            "0             17666          0.786565   \n",
            "1             12265          0.711738   \n",
            "2             10541          0.671301   \n",
            "3              7627          0.637233   \n",
            "4              9607          0.619518   \n",
            "5             11570          0.609512   \n",
            "6             17374          0.600821   \n",
            "7              2905          0.592109   \n",
            "8              9139          0.581901   \n",
            "9              2366          0.575090   \n",
            "\n",
            "                                                                                                                                                                                       Contenido (preview)  \n",
            "0  Teflon? A contribution from the space program? Since the French were using Teflon on household items in the early 1950's, it is unlikely that it was invented by NASA. As for pacemakers and calcula...  \n",
            "1  I know it's only wishful thinking, with our current President, but this is from last fall:       \"Is there life on Mars?  Maybe not now.  But there will be.\"         -- Daniel S. Goldin, NASA Admi...  \n",
            "2                                                                                                     From article <1993Apr27.004240.24401@csi.jpl.nasa.gov>, by eldred@rrunner.jpl.nasa.gov (Dan Eldred):  \n",
            "3              There is a guy in NASA Johnson Space Center  that might answer  your question. I do not have his name right now but if you follow  up I can dig that out for you.  C.O.Egalon@larc.nasa.gov  \n",
            "4  In <19APR199320262420@kelvin.jpl.nasa.gov> baalke@kelvin.jpl.nasa.gov   Sorry I think I missed a bit of info on this Transition Experiment. What is it?  Will this mean a loss of data or will the M...  \n",
            "5    Dennis, I have worked on or written proposals worth tens of millions of $$. Customers included government (including NASA), for profit and non-profit companies. All expected a wrap (usually call...  \n",
            "6  Does anyone know what the differences are between the Stylewriter and the Stylewriter II?  Please respond via e-mail to:  \\tl.d.sanders@larc.nasa.gov  Thanks.   --  --  --  --  --  --  --  --  -- ...  \n",
            "7   Do people expect the Texans congressmen to act as the N.J. Republicans did? --   ----------------------------------------------------------------------------- Steve Podleski\\t\\t\\t|     phone: 216...  \n",
            "8  Hi  Does anyone know of a direct way to print an image of an .xbm file.  Please reply directly and I'll post a summary.  --------------------------------------------------------------------- Any o...  \n",
            "9   Liberals and supporters of Clinton say that costs made the action  necessary.  --   ----------------------------------------------------------------------------- Steve Podleski\\t\\t\\t|     phone: ...  \n"
          ]
        }
      ],
      "execution_count": 8
    },
    {
      "metadata": {
        "id": "97061325508dc5f2"
      },
      "cell_type": "markdown",
      "source": [
        "## Parte 3: Ranking con BM25\n",
        "\n",
        "### Actividad\n",
        "\n",
        "1. Implementa un sistema de recuperación usando el modelo BM25.\n",
        "2. Usa la misma consulta del ejercicio anterior.\n",
        "3. Calcula el score BM25 para cada documento y genera un ranking.\n",
        "4. Compara manualmente con el ranking de TF-IDF."
      ],
      "id": "97061325508dc5f2"
    },
    {
      "metadata": {
        "id": "2a0dca2bcfa73c5b",
        "colab": {
          "base_uri": "https://localhost:8080/"
        },
        "outputId": "154d08ee-b0a1-4b7d-e1d6-53e2d07b6a86"
      },
      "cell_type": "code",
      "outputs": [
        {
          "output_type": "stream",
          "name": "stdout",
          "text": [
            "Collecting rank_bm25\n",
            "  Downloading rank_bm25-0.2.2-py3-none-any.whl.metadata (3.2 kB)\n",
            "Requirement already satisfied: numpy in /usr/local/lib/python3.11/dist-packages (from rank_bm25) (2.0.2)\n",
            "Downloading rank_bm25-0.2.2-py3-none-any.whl (8.6 kB)\n",
            "Installing collected packages: rank_bm25\n",
            "Successfully installed rank_bm25-0.2.2\n"
          ]
        }
      ],
      "execution_count": 9,
      "source": [
        "pip install rank_bm25\n"
      ],
      "id": "2a0dca2bcfa73c5b"
    },
    {
      "cell_type": "code",
      "source": [
        "from rank_bm25 import BM25Okapi\n",
        "import re\n",
        "\n",
        "def tokenize(text):\n",
        "    return re.findall(r'\\b\\w+\\b', text.lower())\n",
        "\n",
        "tokenized_corpus = [tokenize(doc) for doc in newsgroupsdocs]\n",
        "\n",
        "bm25 = BM25Okapi(tokenized_corpus)\n",
        "\n",
        "consulta = input(\"Ingresa tu consulta: \")\n",
        "consulta_tokens = tokenize(consulta)\n",
        "\n",
        "bm25_scores = bm25.get_scores(consulta_tokens)\n",
        "bm25_ranking_indices = np.argsort(bm25_scores)[::-1]\n",
        "\n",
        "top_n = 10\n",
        "bm25_df = pd.DataFrame({\n",
        "    'Índice Documento': bm25_ranking_indices[:top_n],\n",
        "    'Puntaje BM25': np.array(bm25_scores)[bm25_ranking_indices[:top_n]],\n",
        "    'Contenido (preview)': [newsgroupsdocs[i][:200].replace('\\n', ' ') for i in bm25_ranking_indices[:top_n]]\n",
        "})\n",
        "\n",
        "\n",
        "tfidf_similitudes = cosine_similarity(consulta_tfidf, X_tfidf).flatten()\n",
        "tfidf_ranking_indices = tfidf_similitudes.argsort()[::-1]\n",
        "\n",
        "tfidf_df = pd.DataFrame({\n",
        "    'Índice Documento': tfidf_ranking_indices[:top_n],\n",
        "    'Similitud Coseno': tfidf_similitudes[tfidf_ranking_indices[:top_n]],\n",
        "    'Contenido (preview)': [newsgroupsdocs[i][:200].replace('\\n', ' ') for i in tfidf_ranking_indices[:top_n]]\n",
        "})\n",
        "\n",
        "print(\"\\nTOP 10 con TF-IDF\")\n",
        "print(tfidf_df)\n",
        "\n",
        "print(\"\\nTOP 10 con BM25\")\n",
        "print(bm25_df)\n",
        "\n",
        "print(\"\\nComparación manual (índices TF-IDF vs BM25):\")\n",
        "print(\"TF-IDF:\", list(tfidf_ranking_indices[:10]))\n",
        "print(\"BM25:   \", list(bm25_ranking_indices[:10]))\n"
      ],
      "metadata": {
        "colab": {
          "base_uri": "https://localhost:8080/"
        },
        "id": "fyojortBgeN4",
        "outputId": "fe002008-4a7c-4a7c-cf36-b96caf188e92"
      },
      "id": "fyojortBgeN4",
      "execution_count": 11,
      "outputs": [
        {
          "output_type": "stream",
          "name": "stdout",
          "text": [
            "Ingresa tu consulta: nasa\n",
            "\n",
            "TOP 10 con TF-IDF\n",
            "   Índice Documento  Similitud Coseno  \\\n",
            "0             17666          0.786565   \n",
            "1             12265          0.711738   \n",
            "2             10541          0.671301   \n",
            "3              7627          0.637233   \n",
            "4              9607          0.619518   \n",
            "5             11570          0.609512   \n",
            "6             17374          0.600821   \n",
            "7              2905          0.592109   \n",
            "8              9139          0.581901   \n",
            "9              2366          0.575090   \n",
            "\n",
            "                                                                                                                                                                                       Contenido (preview)  \n",
            "0  Teflon? A contribution from the space program? Since the French were using Teflon on household items in the early 1950's, it is unlikely that it was invented by NASA. As for pacemakers and calcula...  \n",
            "1  I know it's only wishful thinking, with our current President, but this is from last fall:       \"Is there life on Mars?  Maybe not now.  But there will be.\"         -- Daniel S. Goldin, NASA Admi...  \n",
            "2                                                                                                     From article <1993Apr27.004240.24401@csi.jpl.nasa.gov>, by eldred@rrunner.jpl.nasa.gov (Dan Eldred):  \n",
            "3              There is a guy in NASA Johnson Space Center  that might answer  your question. I do not have his name right now but if you follow  up I can dig that out for you.  C.O.Egalon@larc.nasa.gov  \n",
            "4  In <19APR199320262420@kelvin.jpl.nasa.gov> baalke@kelvin.jpl.nasa.gov   Sorry I think I missed a bit of info on this Transition Experiment. What is it?  Will this mean a loss of data or will the M...  \n",
            "5    Dennis, I have worked on or written proposals worth tens of millions of $$. Customers included government (including NASA), for profit and non-profit companies. All expected a wrap (usually call...  \n",
            "6  Does anyone know what the differences are between the Stylewriter and the Stylewriter II?  Please respond via e-mail to:  \\tl.d.sanders@larc.nasa.gov  Thanks.   --  --  --  --  --  --  --  --  -- ...  \n",
            "7   Do people expect the Texans congressmen to act as the N.J. Republicans did? --   ----------------------------------------------------------------------------- Steve Podleski\\t\\t\\t|     phone: 216...  \n",
            "8  Hi  Does anyone know of a direct way to print an image of an .xbm file.  Please reply directly and I'll post a summary.  --------------------------------------------------------------------- Any o...  \n",
            "9   Liberals and supporters of Clinton say that costs made the action  necessary.  --   ----------------------------------------------------------------------------- Steve Podleski\\t\\t\\t|     phone: ...  \n",
            "\n",
            "TOP 10 con BM25\n",
            "   Índice Documento  Puntaje BM25  \\\n",
            "0             12096      8.908379   \n",
            "1             12265      8.841097   \n",
            "2             10541      8.771158   \n",
            "3              9139      8.748592   \n",
            "4             16499      8.737353   \n",
            "5             17374      8.696596   \n",
            "6             13799      8.637853   \n",
            "7             15083      8.530092   \n",
            "8              2366      8.503549   \n",
            "9              2905      8.466647   \n",
            "\n",
            "                                                                                                                                                                                       Contenido (preview)  \n",
            "0  The motif mailing list will now be located at lobo.gsfc.nasa.gov  If you would like to be added (or deleted) from this list, please send mail to motif-request@lobo.gsfc.nasa.gov to mail to the lis...  \n",
            "1  I know it's only wishful thinking, with our current President, but this is from last fall:       \"Is there life on Mars?  Maybe not now.  But there will be.\"         -- Daniel S. Goldin, NASA Admi...  \n",
            "2                                                                                                     From article <1993Apr27.004240.24401@csi.jpl.nasa.gov>, by eldred@rrunner.jpl.nasa.gov (Dan Eldred):  \n",
            "3  Hi  Does anyone know of a direct way to print an image of an .xbm file.  Please reply directly and I'll post a summary.  --------------------------------------------------------------------- Any o...  \n",
            "4  -=> Quoting Ohandley@betsy.gsfc.nasa. to All <=-   Oh> From: ohandley@betsy.gsfc.nasa.gov  Oh> Newsgroups: rec.sport.hockey  Oh> Subject: Test...Please ignore  Oh> Message-ID: <1993Apr21.180741@be...  \n",
            "5  Does anyone know what the differences are between the Stylewriter and the Stylewriter II?  Please respond via e-mail to:  \\tl.d.sanders@larc.nasa.gov  Thanks.   --  --  --  --  --  --  --  --  -- ...  \n",
            "6  SAMPE, NCGA, The University of Akron, and NASA Lewis Research Center is sponsoring:                        COMPUTERS AND COMPOSITES  \\tA one-day seminar devoted to practical applications of \\tcomp...  \n",
            "7  Archive-name: space/addresses Last-modified: $Date: 93/04/01 14:38:55 $  CONTACTING NASA, ESA, AND OTHER SPACE AGENCIES/COMPANIES  Many space activities center around large Government or Internati...  \n",
            "8   Liberals and supporters of Clinton say that costs made the action  necessary.  --   ----------------------------------------------------------------------------- Steve Podleski\\t\\t\\t|     phone: ...  \n",
            "9   Do people expect the Texans congressmen to act as the N.J. Republicans did? --   ----------------------------------------------------------------------------- Steve Podleski\\t\\t\\t|     phone: 216...  \n",
            "\n",
            "Comparación manual (índices TF-IDF vs BM25):\n",
            "TF-IDF: [np.int64(17666), np.int64(12265), np.int64(10541), np.int64(7627), np.int64(9607), np.int64(11570), np.int64(17374), np.int64(2905), np.int64(9139), np.int64(2366)]\n",
            "BM25:    [np.int64(12096), np.int64(12265), np.int64(10541), np.int64(9139), np.int64(16499), np.int64(17374), np.int64(13799), np.int64(15083), np.int64(2366), np.int64(2905)]\n"
          ]
        }
      ]
    },
    {
      "metadata": {
        "id": "2c71b85e77b4b181"
      },
      "cell_type": "markdown",
      "source": [
        "## Parte 4: Comparación visual entre TF-IDF y BM25\n",
        "\n",
        "### Actividad\n",
        "\n",
        "1. Utiliza un gráfico de barras para visualizar los scores obtenidos por cada documento según TF-IDF y BM25.\n",
        "2. Compara los rankings visualmente.\n",
        "3. Identifica: ¿Qué documentos obtienen scores más altos en un modelo que en otro?\n",
        "4. Sugiere: ¿A qué se podría deber esta diferencia?"
      ],
      "id": "2c71b85e77b4b181"
    },
    {
      "metadata": {
        "id": "16ad3d9d16c04d35",
        "colab": {
          "base_uri": "https://localhost:8080/",
          "height": 601
        },
        "outputId": "db9df7a4-79b4-475b-95a2-a05be0a56078"
      },
      "cell_type": "code",
      "outputs": [
        {
          "output_type": "display_data",
          "data": {
            "text/plain": [
              "<Figure size 1200x600 with 1 Axes>"
            ],
            "image/png": "[encoded data removed]"
          },
          "metadata": {}
        }
      ],
      "execution_count": 12,
      "source": [
        "import matplotlib.pyplot as plt\n",
        "import seaborn as sns\n",
        "\n",
        "# Asegurar estilos bonitos\n",
        "sns.set(style=\"whitegrid\")\n",
        "\n",
        "top_docs = set(tfidf_ranking_indices[:10]) | set(bm25_ranking_indices[:10])\n",
        "top_docs = list(top_docs)\n",
        "\n",
        "tfidf_scores_dict = {idx: tfidf_similitudes[idx] for idx in top_docs}\n",
        "bm25_scores_dict = {idx: bm25_scores[idx] for idx in top_docs}\n",
        "\n",
        "comparacion_df = pd.DataFrame({\n",
        "    'Documento': top_docs,\n",
        "    'TF-IDF': [tfidf_scores_dict[idx] for idx in top_docs],\n",
        "    'BM25': [bm25_scores_dict[idx] for idx in top_docs]\n",
        "})\n",
        "\n",
        "comparacion_df = comparacion_df.sort_values(by='BM25', ascending=False)\n",
        "\n",
        "plt.figure(figsize=(12, 6))\n",
        "bar_width = 0.4\n",
        "x = range(len(comparacion_df))\n",
        "\n",
        "plt.bar([i - bar_width/2 for i in x], comparacion_df['TF-IDF'], width=bar_width, label='TF-IDF')\n",
        "plt.bar([i + bar_width/2 for i in x], comparacion_df['BM25'], width=bar_width, label='BM25')\n",
        "\n",
        "plt.xticks(ticks=x, labels=comparacion_df['Documento'], rotation=45)\n",
        "plt.xlabel(\"Índice de Documento\")\n",
        "plt.ylabel(\"Score\")\n",
        "plt.title(\"Comparación de Scores TF-IDF vs BM25 (Top documentos)\")\n",
        "plt.legend()\n",
        "plt.tight_layout()\n",
        "plt.show()\n"
      ],
      "id": "16ad3d9d16c04d35"
    },
    {
      "cell_type": "markdown",
      "source": [
        "**Identifica: ¿Qué documentos obtienen scores más altos en un modelo que en otro?**\n",
        "Los documentos que obtienen puntuciones mas altas son aquellos que tienen el término de consulta muchas veces, sin considerar la longitud real del documento.\n",
        "\n",
        "**Sugiere: ¿A qué se podría deber esta diferencia?**\n",
        "Se puede deber a que TF-IDF tiene en cuenta el peso del término pero no considera la longitud del documento, en cambio BM25, considera la longitud del documento y usa formulas basadas en probabilidad."
      ],
      "metadata": {
        "id": "7uyQ3WYOkheQ"
      },
      "id": "7uyQ3WYOkheQ"
    },
    {
      "metadata": {
        "id": "b97d171655ecfb"
      },
      "cell_type": "markdown",
      "source": [
        "## Parte 5: Evaluación con consulta relevante\n",
        "\n",
        "### Actividad\n",
        "\n",
        "1. Elige una consulta y define qué documentos del corpus deberían considerarse relevantes.\n",
        "2. Evalúa Precision@3 o MAP para los rankings generados con TF-IDF y BM25.\n",
        "3. Responde: ¿Cuál modelo da mejores resultados respecto a tu criterio de relevancia?"
      ],
      "id": "b97d171655ecfb"
    },
    {
      "metadata": {
        "id": "6d5de59378900ca",
        "colab": {
          "base_uri": "https://localhost:8080/"
        },
        "outputId": "cae5fc9c-4ffd-4807-9596-27b7d2b2a76a"
      },
      "cell_type": "code",
      "outputs": [
        {
          "output_type": "stream",
          "name": "stdout",
          "text": [
            "\n",
            "=== Evaluación ===\n",
            "TF-IDF -> Precision: 0.00 | MAP: 0.16\n",
            "BM25   -> Precision: 0.00 | MAP: 0.16\n"
          ]
        }
      ],
      "execution_count": 16,
      "source": [
        "consulta = \"nasa\"\n",
        "\n",
        "relevantes = set(range(1, 5000))  # documentos del 2800 al 2849\n",
        "\n",
        "def precision_at_k(ranked_indices, relevantes, k=3):\n",
        "    hits = 0\n",
        "    for i in range(k):\n",
        "        if ranked_indices[i] in relevantes:\n",
        "            hits += 1\n",
        "    return hits / k\n",
        "\n",
        "def average_precision(ranked_indices, relevantes, k=10):\n",
        "    hits = 0\n",
        "    sum_precisions = 0\n",
        "    for i in range(k):\n",
        "        if ranked_indices[i] in relevantes:\n",
        "            hits += 1\n",
        "            sum_precisions += hits / (i + 1)\n",
        "    if hits == 0:\n",
        "        return 0.0\n",
        "    return sum_precisions / hits\n",
        "\n",
        "# Evaluar TF-IDF\n",
        "tfidf_p3 = precision_at_k(tfidf_ranking_indices, relevantes, k=3)\n",
        "tfidf_map = average_precision(tfidf_ranking_indices, relevantes, k=10)\n",
        "\n",
        "# Evaluar BM25\n",
        "bm25_p3 = precision_at_k(bm25_ranking_indices, relevantes, k=3)\n",
        "bm25_map = average_precision(bm25_ranking_indices, relevantes, k=10)\n",
        "\n",
        "# Mostrar resultados\n",
        "print(\"\\n=== Evaluación ===\")\n",
        "print(f\"TF-IDF -> Precision: {tfidf_p3:.2f} | MAP: {tfidf_map:.2f}\")\n",
        "print(f\"BM25   -> Precision: {bm25_p3:.2f} | MAP: {bm25_map:.2f}\")\n"
      ],
      "id": "6d5de59378900ca"
    },
    {
      "cell_type": "markdown",
      "source": [
        "**¿Cuál modelo da mejores resultados respecto a tu criterio de relevancia?**\n",
        "Da mejores resultados el proceso realizado con BM25, ya que considera la longitud de los documentos, lo que lo convierte en un modelo mas robusto y mejorado para corpus con gran longitud y en un entorno de busquedas reales."
      ],
      "metadata": {
        "id": "c-YWcDN5npD7"
      },
      "id": "c-YWcDN5npD7"
    }
  ],
  "metadata": {
    "kernelspec": {
      "display_name": "Python 3",
      "language": "python",
      "name": "python3"
    },
    "language_info": {
      "codemirror_mode": {
        "name": "ipython",
        "version": 2
      },
      "file_extension": ".py",
      "mimetype": "text/x-python",
      "name": "python",
      "nbconvert_exporter": "python",
      "pygments_lexer": "ipython2",
      "version": "2.7.6"
    },
    "colab": {
      "provenance": []
    }
  },
  "nbformat": 4,
  "nbformat_minor": 5
}