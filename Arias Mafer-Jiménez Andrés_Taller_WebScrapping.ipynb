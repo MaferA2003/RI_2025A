{
  "cells": [
    {
      "cell_type": "markdown",
      "metadata": {
        "id": "WI2dS-ms81Hz"
      },
      "source": [
        "# Integrantes: María Fernanda Arias y Andrés Jiménez"
      ]
    },
    {
      "cell_type": "markdown",
      "metadata": {
        "id": "zcWIYmcQdJLc"
      },
      "source": [
        "Parte 1: Entender el sitio web objetivo"
      ]
    },
    {
      "cell_type": "code",
      "execution_count": null,
      "metadata": {
        "id": "wCNtrY8CaU9D"
      },
      "outputs": [],
      "source": [
        "import requests\n",
        "from bs4 import BeautifulSoup\n",
        "import pandas as pd\n",
        "import numpy as np\n",
        "import re\n",
        "import nltk\n",
        "from tqdm import tqdm\n",
        "from sklearn.feature_extraction.text import TfidfVectorizer\n",
        "from sklearn.cluster import KMeans\n",
        "from sklearn.metrics.pairwise import cosine_similarity\n",
        "from nltk.corpus import stopwords\n",
        "from nltk.tokenize import word_tokenize"
      ]
    },
    {
      "cell_type": "code",
      "execution_count": null,
      "metadata": {
        "id": "5GChA_kKdHbY"
      },
      "outputs": [],
      "source": [
        "from bs4 import BeautifulSoup\n",
        "import requests"
      ]
    },
    {
      "cell_type": "code",
      "execution_count": null,
      "metadata": {
        "colab": {
          "base_uri": "https://localhost:8080/"
        },
        "id": "9MM0nvvaa8cF",
        "outputId": "d51ebfbf-32b1-4f84-edc3-953a635d1ac0"
      },
      "outputs": [
        {
          "name": "stderr",
          "output_type": "stream",
          "text": [
            "[nltk_data] Downloading package punkt to /root/nltk_data...\n",
            "[nltk_data]   Unzipping tokenizers/punkt.zip.\n",
            "[nltk_data] Downloading package stopwords to /root/nltk_data...\n",
            "[nltk_data]   Unzipping corpora/stopwords.zip.\n"
          ]
        }
      ],
      "source": [
        "# Descargar stopwords si no están disponibles\n",
        "nltk.download('punkt')\n",
        "nltk.download('stopwords')\n",
        "stop_words = set(stopwords.words('english'))"
      ]
    },
    {
      "cell_type": "code",
      "execution_count": null,
      "metadata": {
        "id": "kfB52vCMa40s"
      },
      "outputs": [],
      "source": [
        "# URL principal\n",
        "main_url = \"https://www.allrecipes.com/recipes-a-z-6735880\""
      ]
    },
    {
      "cell_type": "code",
      "execution_count": null,
      "metadata": {
        "id": "qa100XSwcfyd"
      },
      "outputs": [],
      "source": [
        "headers = {\n",
        "    \"User-Agent\": \"Mozilla/5.0 (Windows NT 10.0; Win64; x64) AppleWebKit/537.36 (KHTML, like Gecko) Chrome/131.0.6778.265 Safari/537.36\",\n",
        "    \"Accept-Language\": \"en-US,en;q=0.9\",\n",
        "    \"Accept-Encoding\": \"gzip, deflate, br\",\n",
        "    \"Accept\": \"text/html,application/xhtml+xml,application/xml;q=0.9,image/avif,image/webp,image/apng,/;q=0.8\",\n",
        "    \"Connection\": \"keep-alive\",\n",
        "    \"Upgrade-Insecure-Requests\": \"1\"\n",
        "}"
      ]
    },
    {
      "cell_type": "code",
      "execution_count": null,
      "metadata": {
        "id": "C5ymYL7ccsH6"
      },
      "outputs": [],
      "source": [
        "# Listas para almacenar los datos\n",
        "data = []\n",
        "\n",
        "# Hacer la solicitud inicial\n",
        "response = requests.get(main_url, headers=headers)"
      ]
    },
    {
      "cell_type": "code",
      "execution_count": null,
      "metadata": {
        "colab": {
          "base_uri": "https://localhost:8080/"
        },
        "id": "t1pzbBrPcuar",
        "outputId": "d9453495-15b5-4c27-e44c-f581a681bc07"
      },
      "outputs": [
        {
          "name": "stderr",
          "output_type": "stream",
          "text": [
            "Procesando enlaces principales: 100%|██████████| 378/378 [03:27<00:00,  1.82it/s]\n"
          ]
        }
      ],
      "source": [
        "# Verificar si la solicitud fue exitosa\n",
        "if response.status_code == 200:\n",
        "    # Parsear el HTML de la página principal\n",
        "    soup = BeautifulSoup(response.text, 'html.parser')\n",
        "\n",
        "    # Buscar los enlaces principales\n",
        "    main_items = soup.find_all('li', class_='mntl-link-list__item')\n",
        "\n",
        "    # Usar tqdm para mostrar la barra de progreso\n",
        "    for main_item in tqdm(main_items, desc=\"Procesando enlaces principales\"):\n",
        "        main_link = main_item.find('a')\n",
        "        if main_link:\n",
        "            main_text = main_link.get_text(strip=True)  # Texto del enlace principal\n",
        "            main_href = main_link['href']  # URL del enlace principal\n",
        "\n",
        "            # Hacer una solicitud a la URL del enlace principal\n",
        "            inner_response = requests.get(main_href, headers=headers)\n",
        "\n",
        "            # Verificar si la solicitud fue exitosa\n",
        "            if inner_response.status_code == 200:\n",
        "                # Parsear el HTML de la página interna\n",
        "                inner_soup = BeautifulSoup(inner_response.text, 'html.parser')\n",
        "\n",
        "                # Buscar los enlaces internos (según la clase indicada en tu imagen)\n",
        "                inner_items = inner_soup.find_all('a', class_='comp mntl-card-list-items mntl-universal-card mntl-document-card mntl-card card card--no-image')\n",
        "\n",
        "                for inner_item in inner_items:\n",
        "                    inner_text = inner_item.get_text(strip=True) if inner_item else None\n",
        "                    inner_href = inner_item['href'] if 'href' in inner_item.attrs else None\n",
        "\n",
        "                    # Agregar datos al conjunto de resultados\n",
        "                    data.append({\n",
        "                        'Texto': main_text,\n",
        "                        'URL': main_href,\n",
        "                        'Receta': inner_text,\n",
        "                        'Receta_URL': inner_href\n",
        "                    })\n",
        "\n",
        "else:\n",
        "    print(f\"Error al acceder a la página principal: {response.status_code}\")\n",
        "\n",
        "# Crear un DataFrame con los datos recopilados\n",
        "df = pd.DataFrame(data)"
      ]
    },
    {
      "cell_type": "code",
      "execution_count": null,
      "metadata": {
        "colab": {
          "base_uri": "https://localhost:8080/",
          "height": 773
        },
        "id": "U5YJTtVCiEXw",
        "outputId": "fe965c99-6a6c-4a7c-f62d-5cc552b8185d"
      },
      "outputs": [
        {
          "data": {
            "application/vnd.google.colaboratory.intrinsic+json": {
              "summary": "{\n  \"name\": \"df\",\n  \"rows\": 18954,\n  \"fields\": [\n    {\n      \"column\": \"Texto\",\n      \"properties\": {\n        \"dtype\": \"category\",\n        \"num_unique_values\": 376,\n        \"samples\": [\n          \"Roasts\",\n          \"Tuna Salads\",\n          \"Potato Pancakes\"\n        ],\n        \"semantic_type\": \"\",\n        \"description\": \"\"\n      }\n    },\n    {\n      \"column\": \"URL\",\n      \"properties\": {\n        \"dtype\": \"category\",\n        \"num_unique_values\": 376,\n        \"samples\": [\n          \"https://www.allrecipes.com/recipes/258/main-dish/roasts/\",\n          \"https://www.allrecipes.com/recipes/2809/salad/seafood-salad/tuna-salad/\",\n          \"https://www.allrecipes.com/recipes/1545/side-dish/potatoes/potato-pancakes/\"\n        ],\n        \"semantic_type\": \"\",\n        \"description\": \"\"\n      }\n    },\n    {\n      \"column\": \"Receta\",\n      \"properties\": {\n        \"dtype\": \"string\",\n        \"num_unique_values\": 14807,\n        \"samples\": [\n          \"Simple Whole Roasted Chicken1,086Ratings\",\n          \"Chicken and Rice in Creamy Sauce13Ratings\",\n          \"Air Fryer Chicken Piccata with Lemon-Caper Sauce3Ratings\"\n        ],\n        \"semantic_type\": \"\",\n        \"description\": \"\"\n      }\n    },\n    {\n      \"column\": \"Receta_URL\",\n      \"properties\": {\n        \"dtype\": \"string\",\n        \"num_unique_values\": 14809,\n        \"samples\": [\n          \"https://www.allrecipes.com/recipe/186674/delish-sloppy-joes/\",\n          \"https://www.allrecipes.com/recipe/87884/chicken-and-black-bean-casserole/\",\n          \"https://www.allrecipes.com/recipe/285633/air-fryer-chicken-piccata-with-lemon-caper-sauce/\"\n        ],\n        \"semantic_type\": \"\",\n        \"description\": \"\"\n      }\n    }\n  ]\n}",
              "type": "dataframe",
              "variable_name": "df"
            },
            "text/html": [
              "\n",
              "  <div id=\"df-3589a03c-a5b7-4525-9016-f02e00e7d246\" class=\"colab-df-container\">\n",
              "    <div>\n",
              "<style scoped>\n",
              "    .dataframe tbody tr th:only-of-type {\n",
              "        vertical-align: middle;\n",
              "    }\n",
              "\n",
              "    .dataframe tbody tr th {\n",
              "        vertical-align: top;\n",
              "    }\n",
              "\n",
              "    .dataframe thead th {\n",
              "        text-align: right;\n",
              "    }\n",
              "</style>\n",
              "<table border=\"1\" class=\"dataframe\">\n",
              "  <thead>\n",
              "    <tr style=\"text-align: right;\">\n",
              "      <th></th>\n",
              "      <th>Texto</th>\n",
              "      <th>URL</th>\n",
              "      <th>Receta</th>\n",
              "      <th>Receta_URL</th>\n",
              "    </tr>\n",
              "  </thead>\n",
              "  <tbody>\n",
              "    <tr>\n",
              "      <th>0</th>\n",
              "      <td>Air Fryer Recipes</td>\n",
              "      <td>https://www.allrecipes.com/recipes/23070/every...</td>\n",
              "      <td>Air Fryer Corn on The Cob21Ratings</td>\n",
              "      <td>https://www.allrecipes.com/recipe/266396/air-f...</td>\n",
              "    </tr>\n",
              "    <tr>\n",
              "      <th>1</th>\n",
              "      <td>Air Fryer Recipes</td>\n",
              "      <td>https://www.allrecipes.com/recipes/23070/every...</td>\n",
              "      <td>Air Fryer Peanut Chicken1Rating</td>\n",
              "      <td>https://www.allrecipes.com/air-fryer-peanut-ch...</td>\n",
              "    </tr>\n",
              "    <tr>\n",
              "      <th>2</th>\n",
              "      <td>Air Fryer Recipes</td>\n",
              "      <td>https://www.allrecipes.com/recipes/23070/every...</td>\n",
              "      <td>Air Fryer Crispy Onions</td>\n",
              "      <td>https://www.allrecipes.com/air-fryer-crispy-on...</td>\n",
              "    </tr>\n",
              "    <tr>\n",
              "      <th>3</th>\n",
              "      <td>Air Fryer Recipes</td>\n",
              "      <td>https://www.allrecipes.com/recipes/23070/every...</td>\n",
              "      <td>Air Fryer Hot Honey Glazed Carrots1Rating</td>\n",
              "      <td>https://www.allrecipes.com/air-fryer-hot-honey...</td>\n",
              "    </tr>\n",
              "    <tr>\n",
              "      <th>4</th>\n",
              "      <td>Air Fryer Recipes</td>\n",
              "      <td>https://www.allrecipes.com/recipes/23070/every...</td>\n",
              "      <td>Air Fryer Sauteed Onions</td>\n",
              "      <td>https://www.allrecipes.com/air-fryer-sauteed-o...</td>\n",
              "    </tr>\n",
              "    <tr>\n",
              "      <th>...</th>\n",
              "      <td>...</td>\n",
              "      <td>...</td>\n",
              "      <td>...</td>\n",
              "      <td>...</td>\n",
              "    </tr>\n",
              "    <tr>\n",
              "      <th>18949</th>\n",
              "      <td>Zucchini Breads</td>\n",
              "      <td>https://www.allrecipes.com/recipes/348/bread/q...</td>\n",
              "      <td>Zucchini Bread, Pumpkin Style13Ratings</td>\n",
              "      <td>https://www.allrecipes.com/recipe/152103/zucch...</td>\n",
              "    </tr>\n",
              "    <tr>\n",
              "      <th>18950</th>\n",
              "      <td>Zucchini Breads</td>\n",
              "      <td>https://www.allrecipes.com/recipes/348/bread/q...</td>\n",
              "      <td>Gluten-Free Zucchini Bread (or Muffins)11Ratings</td>\n",
              "      <td>https://www.allrecipes.com/recipe/244775/glute...</td>\n",
              "    </tr>\n",
              "    <tr>\n",
              "      <th>18951</th>\n",
              "      <td>Zucchini Breads</td>\n",
              "      <td>https://www.allrecipes.com/recipes/348/bread/q...</td>\n",
              "      <td>Cherry-Zucchini Bread2Ratings</td>\n",
              "      <td>https://www.allrecipes.com/recipe/277978/cherr...</td>\n",
              "    </tr>\n",
              "    <tr>\n",
              "      <th>18952</th>\n",
              "      <td>Zucchini Breads</td>\n",
              "      <td>https://www.allrecipes.com/recipes/348/bread/q...</td>\n",
              "      <td>Savory Zucchini Muffins38Ratings</td>\n",
              "      <td>https://www.allrecipes.com/recipe/204983/savor...</td>\n",
              "    </tr>\n",
              "    <tr>\n",
              "      <th>18953</th>\n",
              "      <td>Zucchini Breads</td>\n",
              "      <td>https://www.allrecipes.com/recipes/348/bread/q...</td>\n",
              "      <td>Andy's Jalapeño Zucchini Bread3Ratings</td>\n",
              "      <td>https://www.allrecipes.com/recipe/239859/andys...</td>\n",
              "    </tr>\n",
              "  </tbody>\n",
              "</table>\n",
              "<p>18954 rows × 4 columns</p>\n",
              "</div>\n",
              "    <div class=\"colab-df-buttons\">\n",
              "\n",
              "  <div class=\"colab-df-container\">\n",
              "    <button class=\"colab-df-convert\" onclick=\"convertToInteractive('df-3589a03c-a5b7-4525-9016-f02e00e7d246')\"\n",
              "            title=\"Convert this dataframe to an interactive table.\"\n",
              "            style=\"display:none;\">\n",
              "\n",
              "  <svg xmlns=\"http://www.w3.org/2000/svg\" height=\"24px\" viewBox=\"0 -960 960 960\">\n",
              "    <path d=\"M120-120v-720h720v720H120Zm60-500h600v-160H180v160Zm220 220h160v-160H400v160Zm0 220h160v-160H400v160ZM180-400h160v-160H180v160Zm440 0h160v-160H620v160ZM180-180h160v-160H180v160Zm440 0h160v-160H620v160Z\"/>\n",
              "  </svg>\n",
              "    </button>\n",
              "\n",
              "  <style>\n",
              "    .colab-df-container {\n",
              "      display:flex;\n",
              "      gap: 12px;\n",
              "    }\n",
              "\n",
              "    .colab-df-convert {\n",
              "      background-color: #E8F0FE;\n",
              "      border: none;\n",
              "      border-radius: 50%;\n",
              "      cursor: pointer;\n",
              "      display: none;\n",
              "      fill: #1967D2;\n",
              "      height: 32px;\n",
              "      padding: 0 0 0 0;\n",
              "      width: 32px;\n",
              "    }\n",
              "\n",
              "    .colab-df-convert:hover {\n",
              "      background-color: #E2EBFA;\n",
              "      box-shadow: 0px 1px 2px rgba(60, 64, 67, 0.3), 0px 1px 3px 1px rgba(60, 64, 67, 0.15);\n",
              "      fill: #174EA6;\n",
              "    }\n",
              "\n",
              "    .colab-df-buttons div {\n",
              "      margin-bottom: 4px;\n",
              "    }\n",
              "\n",
              "    [theme=dark] .colab-df-convert {\n",
              "      background-color: #3B4455;\n",
              "      fill: #D2E3FC;\n",
              "    }\n",
              "\n",
              "    [theme=dark] .colab-df-convert:hover {\n",
              "      background-color: #434B5C;\n",
              "      box-shadow: 0px 1px 3px 1px rgba(0, 0, 0, 0.15);\n",
              "      filter: drop-shadow(0px 1px 2px rgba(0, 0, 0, 0.3));\n",
              "      fill: #FFFFFF;\n",
              "    }\n",
              "  </style>\n",
              "\n",
              "    <script>\n",
              "      const buttonEl =\n",
              "        document.querySelector('#df-3589a03c-a5b7-4525-9016-f02e00e7d246 button.colab-df-convert');\n",
              "      buttonEl.style.display =\n",
              "        google.colab.kernel.accessAllowed ? 'block' : 'none';\n",
              "\n",
              "      async function convertToInteractive(key) {\n",
              "        const element = document.querySelector('#df-3589a03c-a5b7-4525-9016-f02e00e7d246');\n",
              "        const dataTable =\n",
              "          await google.colab.kernel.invokeFunction('convertToInteractive',\n",
              "                                                    [key], {});\n",
              "        if (!dataTable) return;\n",
              "\n",
              "        const docLinkHtml = 'Like what you see? Visit the ' +\n",
              "          '<a target=\"_blank\" href=https://colab.research.google.com/notebooks/data_table.ipynb>data table notebook</a>'\n",
              "          + ' to learn more about interactive tables.';\n",
              "        element.innerHTML = '';\n",
              "        dataTable['output_type'] = 'display_data';\n",
              "        await google.colab.output.renderOutput(dataTable, element);\n",
              "        const docLink = document.createElement('div');\n",
              "        docLink.innerHTML = docLinkHtml;\n",
              "        element.appendChild(docLink);\n",
              "      }\n",
              "    </script>\n",
              "  </div>\n",
              "\n",
              "\n",
              "    <div id=\"df-df19dd42-3a34-49e3-a9bc-655369ba70af\">\n",
              "      <button class=\"colab-df-quickchart\" onclick=\"quickchart('df-df19dd42-3a34-49e3-a9bc-655369ba70af')\"\n",
              "                title=\"Suggest charts\"\n",
              "                style=\"display:none;\">\n",
              "\n",
              "<svg xmlns=\"http://www.w3.org/2000/svg\" height=\"24px\"viewBox=\"0 0 24 24\"\n",
              "     width=\"24px\">\n",
              "    <g>\n",
              "        <path d=\"M19 3H5c-1.1 0-2 .9-2 2v14c0 1.1.9 2 2 2h14c1.1 0 2-.9 2-2V5c0-1.1-.9-2-2-2zM9 17H7v-7h2v7zm4 0h-2V7h2v10zm4 0h-2v-4h2v4z\"/>\n",
              "    </g>\n",
              "</svg>\n",
              "      </button>\n",
              "\n",
              "<style>\n",
              "  .colab-df-quickchart {\n",
              "      --bg-color: #E8F0FE;\n",
              "      --fill-color: #1967D2;\n",
              "      --hover-bg-color: #E2EBFA;\n",
              "      --hover-fill-color: #174EA6;\n",
              "      --disabled-fill-color: #AAA;\n",
              "      --disabled-bg-color: #DDD;\n",
              "  }\n",
              "\n",
              "  [theme=dark] .colab-df-quickchart {\n",
              "      --bg-color: #3B4455;\n",
              "      --fill-color: #D2E3FC;\n",
              "      --hover-bg-color: #434B5C;\n",
              "      --hover-fill-color: #FFFFFF;\n",
              "      --disabled-bg-color: #3B4455;\n",
              "      --disabled-fill-color: #666;\n",
              "  }\n",
              "\n",
              "  .colab-df-quickchart {\n",
              "    background-color: var(--bg-color);\n",
              "    border: none;\n",
              "    border-radius: 50%;\n",
              "    cursor: pointer;\n",
              "    display: none;\n",
              "    fill: var(--fill-color);\n",
              "    height: 32px;\n",
              "    padding: 0;\n",
              "    width: 32px;\n",
              "  }\n",
              "\n",
              "  .colab-df-quickchart:hover {\n",
              "    background-color: var(--hover-bg-color);\n",
              "    box-shadow: 0 1px 2px rgba(60, 64, 67, 0.3), 0 1px 3px 1px rgba(60, 64, 67, 0.15);\n",
              "    fill: var(--button-hover-fill-color);\n",
              "  }\n",
              "\n",
              "  .colab-df-quickchart-complete:disabled,\n",
              "  .colab-df-quickchart-complete:disabled:hover {\n",
              "    background-color: var(--disabled-bg-color);\n",
              "    fill: var(--disabled-fill-color);\n",
              "    box-shadow: none;\n",
              "  }\n",
              "\n",
              "  .colab-df-spinner {\n",
              "    border: 2px solid var(--fill-color);\n",
              "    border-color: transparent;\n",
              "    border-bottom-color: var(--fill-color);\n",
              "    animation:\n",
              "      spin 1s steps(1) infinite;\n",
              "  }\n",
              "\n",
              "  @keyframes spin {\n",
              "    0% {\n",
              "      border-color: transparent;\n",
              "      border-bottom-color: var(--fill-color);\n",
              "      border-left-color: var(--fill-color);\n",
              "    }\n",
              "    20% {\n",
              "      border-color: transparent;\n",
              "      border-left-color: var(--fill-color);\n",
              "      border-top-color: var(--fill-color);\n",
              "    }\n",
              "    30% {\n",
              "      border-color: transparent;\n",
              "      border-left-color: var(--fill-color);\n",
              "      border-top-color: var(--fill-color);\n",
              "      border-right-color: var(--fill-color);\n",
              "    }\n",
              "    40% {\n",
              "      border-color: transparent;\n",
              "      border-right-color: var(--fill-color);\n",
              "      border-top-color: var(--fill-color);\n",
              "    }\n",
              "    60% {\n",
              "      border-color: transparent;\n",
              "      border-right-color: var(--fill-color);\n",
              "    }\n",
              "    80% {\n",
              "      border-color: transparent;\n",
              "      border-right-color: var(--fill-color);\n",
              "      border-bottom-color: var(--fill-color);\n",
              "    }\n",
              "    90% {\n",
              "      border-color: transparent;\n",
              "      border-bottom-color: var(--fill-color);\n",
              "    }\n",
              "  }\n",
              "</style>\n",
              "\n",
              "      <script>\n",
              "        async function quickchart(key) {\n",
              "          const quickchartButtonEl =\n",
              "            document.querySelector('#' + key + ' button');\n",
              "          quickchartButtonEl.disabled = true;  // To prevent multiple clicks.\n",
              "          quickchartButtonEl.classList.add('colab-df-spinner');\n",
              "          try {\n",
              "            const charts = await google.colab.kernel.invokeFunction(\n",
              "                'suggestCharts', [key], {});\n",
              "          } catch (error) {\n",
              "            console.error('Error during call to suggestCharts:', error);\n",
              "          }\n",
              "          quickchartButtonEl.classList.remove('colab-df-spinner');\n",
              "          quickchartButtonEl.classList.add('colab-df-quickchart-complete');\n",
              "        }\n",
              "        (() => {\n",
              "          let quickchartButtonEl =\n",
              "            document.querySelector('#df-df19dd42-3a34-49e3-a9bc-655369ba70af button');\n",
              "          quickchartButtonEl.style.display =\n",
              "            google.colab.kernel.accessAllowed ? 'block' : 'none';\n",
              "        })();\n",
              "      </script>\n",
              "    </div>\n",
              "\n",
              "  <div id=\"id_f6535ecb-e9e3-496c-9f48-f6887e259f93\">\n",
              "    <style>\n",
              "      .colab-df-generate {\n",
              "        background-color: #E8F0FE;\n",
              "        border: none;\n",
              "        border-radius: 50%;\n",
              "        cursor: pointer;\n",
              "        display: none;\n",
              "        fill: #1967D2;\n",
              "        height: 32px;\n",
              "        padding: 0 0 0 0;\n",
              "        width: 32px;\n",
              "      }\n",
              "\n",
              "      .colab-df-generate:hover {\n",
              "        background-color: #E2EBFA;\n",
              "        box-shadow: 0px 1px 2px rgba(60, 64, 67, 0.3), 0px 1px 3px 1px rgba(60, 64, 67, 0.15);\n",
              "        fill: #174EA6;\n",
              "      }\n",
              "\n",
              "      [theme=dark] .colab-df-generate {\n",
              "        background-color: #3B4455;\n",
              "        fill: #D2E3FC;\n",
              "      }\n",
              "\n",
              "      [theme=dark] .colab-df-generate:hover {\n",
              "        background-color: #434B5C;\n",
              "        box-shadow: 0px 1px 3px 1px rgba(0, 0, 0, 0.15);\n",
              "        filter: drop-shadow(0px 1px 2px rgba(0, 0, 0, 0.3));\n",
              "        fill: #FFFFFF;\n",
              "      }\n",
              "    </style>\n",
              "    <button class=\"colab-df-generate\" onclick=\"generateWithVariable('df')\"\n",
              "            title=\"Generate code using this dataframe.\"\n",
              "            style=\"display:none;\">\n",
              "\n",
              "  <svg xmlns=\"http://www.w3.org/2000/svg\" height=\"24px\"viewBox=\"0 0 24 24\"\n",
              "       width=\"24px\">\n",
              "    <path d=\"M7,19H8.4L18.45,9,17,7.55,7,17.6ZM5,21V16.75L18.45,3.32a2,2,0,0,1,2.83,0l1.4,1.43a1.91,1.91,0,0,1,.58,1.4,1.91,1.91,0,0,1-.58,1.4L9.25,21ZM18.45,9,17,7.55Zm-12,3A5.31,5.31,0,0,0,4.9,8.1,5.31,5.31,0,0,0,1,6.5,5.31,5.31,0,0,0,4.9,4.9,5.31,5.31,0,0,0,6.5,1,5.31,5.31,0,0,0,8.1,4.9,5.31,5.31,0,0,0,12,6.5,5.46,5.46,0,0,0,6.5,12Z\"/>\n",
              "  </svg>\n",
              "    </button>\n",
              "    <script>\n",
              "      (() => {\n",
              "      const buttonEl =\n",
              "        document.querySelector('#id_f6535ecb-e9e3-496c-9f48-f6887e259f93 button.colab-df-generate');\n",
              "      buttonEl.style.display =\n",
              "        google.colab.kernel.accessAllowed ? 'block' : 'none';\n",
              "\n",
              "      buttonEl.onclick = () => {\n",
              "        google.colab.notebook.generateWithVariable('df');\n",
              "      }\n",
              "      })();\n",
              "    </script>\n",
              "  </div>\n",
              "\n",
              "    </div>\n",
              "  </div>\n"
            ],
            "text/plain": [
              "                   Texto                                                URL  \\\n",
              "0      Air Fryer Recipes  https://www.allrecipes.com/recipes/23070/every...   \n",
              "1      Air Fryer Recipes  https://www.allrecipes.com/recipes/23070/every...   \n",
              "2      Air Fryer Recipes  https://www.allrecipes.com/recipes/23070/every...   \n",
              "3      Air Fryer Recipes  https://www.allrecipes.com/recipes/23070/every...   \n",
              "4      Air Fryer Recipes  https://www.allrecipes.com/recipes/23070/every...   \n",
              "...                  ...                                                ...   \n",
              "18949    Zucchini Breads  https://www.allrecipes.com/recipes/348/bread/q...   \n",
              "18950    Zucchini Breads  https://www.allrecipes.com/recipes/348/bread/q...   \n",
              "18951    Zucchini Breads  https://www.allrecipes.com/recipes/348/bread/q...   \n",
              "18952    Zucchini Breads  https://www.allrecipes.com/recipes/348/bread/q...   \n",
              "18953    Zucchini Breads  https://www.allrecipes.com/recipes/348/bread/q...   \n",
              "\n",
              "                                                 Receta  \\\n",
              "0                    Air Fryer Corn on The Cob21Ratings   \n",
              "1                       Air Fryer Peanut Chicken1Rating   \n",
              "2                               Air Fryer Crispy Onions   \n",
              "3             Air Fryer Hot Honey Glazed Carrots1Rating   \n",
              "4                              Air Fryer Sauteed Onions   \n",
              "...                                                 ...   \n",
              "18949            Zucchini Bread, Pumpkin Style13Ratings   \n",
              "18950  Gluten-Free Zucchini Bread (or Muffins)11Ratings   \n",
              "18951                     Cherry-Zucchini Bread2Ratings   \n",
              "18952                  Savory Zucchini Muffins38Ratings   \n",
              "18953            Andy's Jalapeño Zucchini Bread3Ratings   \n",
              "\n",
              "                                              Receta_URL  \n",
              "0      https://www.allrecipes.com/recipe/266396/air-f...  \n",
              "1      https://www.allrecipes.com/air-fryer-peanut-ch...  \n",
              "2      https://www.allrecipes.com/air-fryer-crispy-on...  \n",
              "3      https://www.allrecipes.com/air-fryer-hot-honey...  \n",
              "4      https://www.allrecipes.com/air-fryer-sauteed-o...  \n",
              "...                                                  ...  \n",
              "18949  https://www.allrecipes.com/recipe/152103/zucch...  \n",
              "18950  https://www.allrecipes.com/recipe/244775/glute...  \n",
              "18951  https://www.allrecipes.com/recipe/277978/cherr...  \n",
              "18952  https://www.allrecipes.com/recipe/204983/savor...  \n",
              "18953  https://www.allrecipes.com/recipe/239859/andys...  \n",
              "\n",
              "[18954 rows x 4 columns]"
            ]
          },
          "execution_count": 8,
          "metadata": {},
          "output_type": "execute_result"
        }
      ],
      "source": [
        "df"
      ]
    },
    {
      "cell_type": "code",
      "execution_count": null,
      "metadata": {
        "id": "GdYdg90ojLZQ"
      },
      "outputs": [],
      "source": [
        "# Reduciremos los datos a 100\n",
        "df = df[:100]"
      ]
    },
    {
      "cell_type": "code",
      "execution_count": null,
      "metadata": {
        "colab": {
          "base_uri": "https://localhost:8080/"
        },
        "id": "oCuiXmPwkyBq",
        "outputId": "b0cbed72-d17b-4144-821e-d9d6b1e1d43a"
      },
      "outputs": [
        {
          "name": "stderr",
          "output_type": "stream",
          "text": [
            "/tmp/ipython-input-63-2796870401.py:2: SettingWithCopyWarning: \n",
            "A value is trying to be set on a copy of a slice from a DataFrame.\n",
            "Try using .loc[row_indexer,col_indexer] = value instead\n",
            "\n",
            "See the caveats in the documentation: https://pandas.pydata.org/pandas-docs/stable/user_guide/indexing.html#returning-a-view-versus-a-copy\n",
            "  df['Nombre'] = ''\n",
            "/tmp/ipython-input-63-2796870401.py:3: SettingWithCopyWarning: \n",
            "A value is trying to be set on a copy of a slice from a DataFrame.\n",
            "Try using .loc[row_indexer,col_indexer] = value instead\n",
            "\n",
            "See the caveats in the documentation: https://pandas.pydata.org/pandas-docs/stable/user_guide/indexing.html#returning-a-view-versus-a-copy\n",
            "  df['Ingredientes'] = ''\n",
            "/tmp/ipython-input-63-2796870401.py:4: SettingWithCopyWarning: \n",
            "A value is trying to be set on a copy of a slice from a DataFrame.\n",
            "Try using .loc[row_indexer,col_indexer] = value instead\n",
            "\n",
            "See the caveats in the documentation: https://pandas.pydata.org/pandas-docs/stable/user_guide/indexing.html#returning-a-view-versus-a-copy\n",
            "  df['Image'] = ''\n",
            "/tmp/ipython-input-63-2796870401.py:5: SettingWithCopyWarning: \n",
            "A value is trying to be set on a copy of a slice from a DataFrame.\n",
            "Try using .loc[row_indexer,col_indexer] = value instead\n",
            "\n",
            "See the caveats in the documentation: https://pandas.pydata.org/pandas-docs/stable/user_guide/indexing.html#returning-a-view-versus-a-copy\n",
            "  df['Preparación'] = ''\n",
            "/tmp/ipython-input-63-2796870401.py:6: SettingWithCopyWarning: \n",
            "A value is trying to be set on a copy of a slice from a DataFrame.\n",
            "Try using .loc[row_indexer,col_indexer] = value instead\n",
            "\n",
            "See the caveats in the documentation: https://pandas.pydata.org/pandas-docs/stable/user_guide/indexing.html#returning-a-view-versus-a-copy\n",
            "  df['Descripción'] = ''\n",
            "/tmp/ipython-input-63-2796870401.py:7: SettingWithCopyWarning: \n",
            "A value is trying to be set on a copy of a slice from a DataFrame.\n",
            "Try using .loc[row_indexer,col_indexer] = value instead\n",
            "\n",
            "See the caveats in the documentation: https://pandas.pydata.org/pandas-docs/stable/user_guide/indexing.html#returning-a-view-versus-a-copy\n",
            "  df['Información_nutricional'] = ''\n",
            "/tmp/ipython-input-63-2796870401.py:8: SettingWithCopyWarning: \n",
            "A value is trying to be set on a copy of a slice from a DataFrame.\n",
            "Try using .loc[row_indexer,col_indexer] = value instead\n",
            "\n",
            "See the caveats in the documentation: https://pandas.pydata.org/pandas-docs/stable/user_guide/indexing.html#returning-a-view-versus-a-copy\n",
            "  df['Detalles'] = ''\n",
            "/tmp/ipython-input-63-2796870401.py:9: SettingWithCopyWarning: \n",
            "A value is trying to be set on a copy of a slice from a DataFrame.\n",
            "Try using .loc[row_indexer,col_indexer] = value instead\n",
            "\n",
            "See the caveats in the documentation: https://pandas.pydata.org/pandas-docs/stable/user_guide/indexing.html#returning-a-view-versus-a-copy\n",
            "  df['Rating'] = ''\n",
            "/tmp/ipython-input-63-2796870401.py:10: SettingWithCopyWarning: \n",
            "A value is trying to be set on a copy of a slice from a DataFrame.\n",
            "Try using .loc[row_indexer,col_indexer] = value instead\n",
            "\n",
            "See the caveats in the documentation: https://pandas.pydata.org/pandas-docs/stable/user_guide/indexing.html#returning-a-view-versus-a-copy\n",
            "  df['Comentarios'] = ''\n"
          ]
        }
      ],
      "source": [
        "# Agregar nuevas columnas vacías al DataFrame\n",
        "df['Nombre'] = ''\n",
        "df['Ingredientes'] = ''\n",
        "df['Image'] = ''\n",
        "df['Preparación'] = ''\n",
        "df['Descripción'] = ''\n",
        "df['Información_nutricional'] = ''\n",
        "df['Detalles'] = ''\n",
        "df['Rating'] = ''\n",
        "df['Comentarios'] = ''"
      ]
    },
    {
      "cell_type": "code",
      "execution_count": null,
      "metadata": {
        "colab": {
          "base_uri": "https://localhost:8080/"
        },
        "id": "WoKSnAv93Uar",
        "outputId": "43f12c93-0f45-4f94-d50f-aa45c71cbaec"
      },
      "outputs": [
        {
          "name": "stdout",
          "output_type": "stream",
          "text": [
            "Requirement already satisfied: beautifulsoup4 in /usr/local/lib/python3.11/dist-packages (4.13.4)\n",
            "Collecting selenium\n",
            "  Downloading selenium-4.34.2-py3-none-any.whl.metadata (7.5 kB)\n",
            "Requirement already satisfied: soupsieve>1.2 in /usr/local/lib/python3.11/dist-packages (from beautifulsoup4) (2.7)\n",
            "Requirement already satisfied: typing-extensions>=4.0.0 in /usr/local/lib/python3.11/dist-packages (from beautifulsoup4) (4.14.1)\n",
            "Requirement already satisfied: urllib3~=2.5.0 in /usr/local/lib/python3.11/dist-packages (from urllib3[socks]~=2.5.0->selenium) (2.5.0)\n",
            "Collecting trio~=0.30.0 (from selenium)\n",
            "  Downloading trio-0.30.0-py3-none-any.whl.metadata (8.5 kB)\n",
            "Collecting trio-websocket~=0.12.2 (from selenium)\n",
            "  Downloading trio_websocket-0.12.2-py3-none-any.whl.metadata (5.1 kB)\n",
            "Requirement already satisfied: certifi>=2025.6.15 in /usr/local/lib/python3.11/dist-packages (from selenium) (2025.7.14)\n",
            "Requirement already satisfied: websocket-client~=1.8.0 in /usr/local/lib/python3.11/dist-packages (from selenium) (1.8.0)\n",
            "Requirement already satisfied: attrs>=23.2.0 in /usr/local/lib/python3.11/dist-packages (from trio~=0.30.0->selenium) (25.3.0)\n",
            "Requirement already satisfied: sortedcontainers in /usr/local/lib/python3.11/dist-packages (from trio~=0.30.0->selenium) (2.4.0)\n",
            "Requirement already satisfied: idna in /usr/local/lib/python3.11/dist-packages (from trio~=0.30.0->selenium) (3.10)\n",
            "Collecting outcome (from trio~=0.30.0->selenium)\n",
            "  Downloading outcome-1.3.0.post0-py2.py3-none-any.whl.metadata (2.6 kB)\n",
            "Requirement already satisfied: sniffio>=1.3.0 in /usr/local/lib/python3.11/dist-packages (from trio~=0.30.0->selenium) (1.3.1)\n",
            "Collecting wsproto>=0.14 (from trio-websocket~=0.12.2->selenium)\n",
            "  Downloading wsproto-1.2.0-py3-none-any.whl.metadata (5.6 kB)\n",
            "Requirement already satisfied: pysocks!=1.5.7,<2.0,>=1.5.6 in /usr/local/lib/python3.11/dist-packages (from urllib3[socks]~=2.5.0->selenium) (1.7.1)\n",
            "Requirement already satisfied: h11<1,>=0.9.0 in /usr/local/lib/python3.11/dist-packages (from wsproto>=0.14->trio-websocket~=0.12.2->selenium) (0.16.0)\n",
            "Downloading selenium-4.34.2-py3-none-any.whl (9.4 MB)\n",
            "\u001b[2K   \u001b[90m━━━━━━━━━━━━━━━━━━━━━━━━━━━━━━━━━━━━━━━━\u001b[0m \u001b[32m9.4/9.4 MB\u001b[0m \u001b[31m72.4 MB/s\u001b[0m eta \u001b[36m0:00:00\u001b[0m\n",
            "\u001b[?25hDownloading trio-0.30.0-py3-none-any.whl (499 kB)\n",
            "\u001b[2K   \u001b[90m━━━━━━━━━━━━━━━━━━━━━━━━━━━━━━━━━━━━━━━━\u001b[0m \u001b[32m499.2/499.2 kB\u001b[0m \u001b[31m28.0 MB/s\u001b[0m eta \u001b[36m0:00:00\u001b[0m\n",
            "\u001b[?25hDownloading trio_websocket-0.12.2-py3-none-any.whl (21 kB)\n",
            "Downloading outcome-1.3.0.post0-py2.py3-none-any.whl (10 kB)\n",
            "Downloading wsproto-1.2.0-py3-none-any.whl (24 kB)\n",
            "Installing collected packages: wsproto, outcome, trio, trio-websocket, selenium\n",
            "Successfully installed outcome-1.3.0.post0 selenium-4.34.2 trio-0.30.0 trio-websocket-0.12.2 wsproto-1.2.0\n"
          ]
        }
      ],
      "source": [
        "!pip install beautifulsoup4 selenium\n"
      ]
    },
    {
      "cell_type": "code",
      "execution_count": null,
      "metadata": {
        "colab": {
          "base_uri": "https://localhost:8080/",
          "height": 1000
        },
        "id": "FGyA40sdlEca",
        "outputId": "2660de27-677b-4a86-e93c-63f4de808446"
      },
      "outputs": [
        {
          "name": "stderr",
          "output_type": "stream",
          "text": [
            "\rProcesando URLs:   0%|          | 0/100 [00:00<?, ?it/s]"
          ]
        },
        {
          "name": "stdout",
          "output_type": "stream",
          "text": [
            "\n",
            "➡️ Imagen de la receta: Air Fryer Corn on The Cob\n"
          ]
        },
        {
          "data": {
            "text/html": [
              "<img src=\"https://www.allrecipes.com/thmb/I8WwP6n5uVghfOzRmnIuAsb-ALg=/1500x0/filters:no_upscale():max_bytes(150000):strip_icc()/266396-air-fryer-corn-on-the-cobb-GOLDMAN-R311235-2x1-2317-5b7fdf42acc24fc6a1e160683fe73d8f.jpg\" width=\"300\"/>"
            ],
            "text/plain": [
              "<IPython.core.display.Image object>"
            ]
          },
          "metadata": {},
          "output_type": "display_data"
        },
        {
          "name": "stderr",
          "output_type": "stream",
          "text": [
            "\rProcesando URLs:   1%|          | 1/100 [00:00<00:44,  2.22it/s]"
          ]
        },
        {
          "name": "stdout",
          "output_type": "stream",
          "text": [
            "\n",
            "➡️ Imagen de la receta: Air Fryer Peanut Chicken\n"
          ]
        },
        {
          "data": {
            "text/html": [
              "<img src=\"https://www.allrecipes.com/thmb/ZPso-oD-mSkW2HkGiYdOyuCKBBY=/1500x0/filters:no_upscale():max_bytes(150000):strip_icc()/11728705_Air-Fryer-Peanut-Chicken_Brenda-2x1-eb9dde1fb31a464292153956ac677da5.jpg\" width=\"300\"/>"
            ],
            "text/plain": [
              "<IPython.core.display.Image object>"
            ]
          },
          "metadata": {},
          "output_type": "display_data"
        },
        {
          "name": "stderr",
          "output_type": "stream",
          "text": [
            "\rProcesando URLs:   2%|▏         | 2/100 [00:00<00:43,  2.27it/s]"
          ]
        },
        {
          "name": "stdout",
          "output_type": "stream",
          "text": [
            "\n",
            "➡️ Imagen de la receta: Air Fryer Crispy Onions\n"
          ]
        },
        {
          "data": {
            "text/html": [
              "<img src=\"https://www.allrecipes.com/thmb/1RR3GTpLuhuOSWOVexIC9I3lWOY=/1500x0/filters:no_upscale():max_bytes(150000):strip_icc()/11722288_Air-Fryer-Crispy-Onions_Yolanda-Gutierrez_2x1-b795c6f9e7df44e5a047332eb342e333.jpg\" width=\"300\"/>"
            ],
            "text/plain": [
              "<IPython.core.display.Image object>"
            ]
          },
          "metadata": {},
          "output_type": "display_data"
        },
        {
          "name": "stderr",
          "output_type": "stream",
          "text": [
            "\rProcesando URLs:   3%|▎         | 3/100 [00:01<00:42,  2.30it/s]"
          ]
        },
        {
          "name": "stdout",
          "output_type": "stream",
          "text": [
            "\n",
            "➡️ Imagen de la receta: Air Fryer Hot Honey Glazed Carrots\n"
          ]
        },
        {
          "data": {
            "text/html": [
              "<img src=\"https://www.allrecipes.com/thmb/AjBUAbEz5qVk3PBhwLJywCh5ma4=/1500x0/filters:no_upscale():max_bytes(150000):strip_icc()/11721752_Air-Fryer-Hot-Honey-Glazed-Carrots_Yolanda-Gutierrez_2x1-1bb337e48c1a4c98badfed2f9613ab15.jpg\" width=\"300\"/>"
            ],
            "text/plain": [
              "<IPython.core.display.Image object>"
            ]
          },
          "metadata": {},
          "output_type": "display_data"
        },
        {
          "name": "stderr",
          "output_type": "stream",
          "text": [
            "\rProcesando URLs:   4%|▍         | 4/100 [00:01<00:41,  2.33it/s]"
          ]
        },
        {
          "name": "stdout",
          "output_type": "stream",
          "text": [
            "\n",
            "➡️ Imagen de la receta: Air Fryer Sauteed Onions\n"
          ]
        },
        {
          "data": {
            "text/html": [
              "<img src=\"https://www.allrecipes.com/thmb/4fQ8LQuZDgKQV1dTtE0wph8rNQo=/1500x0/filters:no_upscale():max_bytes(150000):strip_icc()/11721774_Air-Fryer-Sauteed-Onions_Nicole-Russell_2x1-f4f2472a547b413a863f9e06b36e07e3.jpg\" width=\"300\"/>"
            ],
            "text/plain": [
              "<IPython.core.display.Image object>"
            ]
          },
          "metadata": {},
          "output_type": "display_data"
        },
        {
          "name": "stderr",
          "output_type": "stream",
          "text": [
            "\rProcesando URLs:   5%|▌         | 5/100 [00:02<00:53,  1.79it/s]"
          ]
        },
        {
          "name": "stdout",
          "output_type": "stream",
          "text": [
            "\n",
            "➡️ Imagen de la receta: Air Fryer Pasta Tacos\n"
          ]
        },
        {
          "data": {
            "text/html": [
              "<img src=\"https://www.allrecipes.com/thmb/-EOasMoq72qdrmtfC4XZFHG49JA=/1500x0/filters:no_upscale():max_bytes(150000):strip_icc()/11720466-AirFriedPastaTacos-PeytonBeckwith-2x1-a4765c0438a54c28906d08030b71a2d6.jpg\" width=\"300\"/>"
            ],
            "text/plain": [
              "<IPython.core.display.Image object>"
            ]
          },
          "metadata": {},
          "output_type": "display_data"
        },
        {
          "name": "stderr",
          "output_type": "stream",
          "text": [
            "\rProcesando URLs:   6%|▌         | 6/100 [00:02<00:47,  1.98it/s]"
          ]
        },
        {
          "name": "stdout",
          "output_type": "stream",
          "text": [
            "\n",
            "➡️ Imagen de la receta: Copycat Cinnabon Delights Hawaiian Rolls\n"
          ]
        },
        {
          "data": {
            "text/html": [
              "<img src=\"https://www.allrecipes.com/thmb/u9XTs78emDRaqdozmBUaGxR2iK4=/1500x0/filters:no_upscale():max_bytes(150000):strip_icc()/11711161-Copycat-Cinnabon-Delights-HawaiianRolls-Peyton-Beckwith-2x1-261f9b889a314b4282888360a4dac1b2.jpg\" width=\"300\"/>"
            ],
            "text/plain": [
              "<IPython.core.display.Image object>"
            ]
          },
          "metadata": {},
          "output_type": "display_data"
        },
        {
          "name": "stderr",
          "output_type": "stream",
          "text": [
            "\rProcesando URLs:   7%|▋         | 7/100 [00:03<00:43,  2.14it/s]"
          ]
        },
        {
          "name": "stdout",
          "output_type": "stream",
          "text": [
            "\n",
            "➡️ Imagen de la receta: Air Fryer English Muffin Tuna Melt\n"
          ]
        },
        {
          "data": {
            "text/html": [
              "<img src=\"https://www.allrecipes.com/thmb/vrxgPGiGYyZ27ygvBrtIdlq6pFI=/1500x0/filters:no_upscale():max_bytes(150000):strip_icc()/11695943_Air-Fryer-English-Muffin-Tuna-Melt_Yolanda-Gutierrez_2x1-851109794a3a4d8cb2d34bcabcfa7f57.jpg\" width=\"300\"/>"
            ],
            "text/plain": [
              "<IPython.core.display.Image object>"
            ]
          },
          "metadata": {},
          "output_type": "display_data"
        },
        {
          "name": "stderr",
          "output_type": "stream",
          "text": [
            "\rProcesando URLs:   8%|▊         | 8/100 [00:04<00:49,  1.85it/s]"
          ]
        },
        {
          "name": "stdout",
          "output_type": "stream",
          "text": [
            "\n",
            "➡️ Imagen de la receta: Air Fryer Lamb Chops\n"
          ]
        },
        {
          "data": {
            "text/html": [
              "<img src=\"https://www.allrecipes.com/thmb/alKONoPhVML9yoPn0GKrI3_UR7w=/1500x0/filters:no_upscale():max_bytes(150000):strip_icc()/11694499_Air-Fryer-Lamb-Chops_Brenda-Venable_2x1-53a58150cab944eb9016e89d7e91703a.jpg\" width=\"300\"/>"
            ],
            "text/plain": [
              "<IPython.core.display.Image object>"
            ]
          },
          "metadata": {},
          "output_type": "display_data"
        },
        {
          "name": "stderr",
          "output_type": "stream",
          "text": [
            "\rProcesando URLs:   9%|▉         | 9/100 [00:04<00:51,  1.76it/s]"
          ]
        },
        {
          "name": "stdout",
          "output_type": "stream",
          "text": [
            "\n",
            "➡️ Imagen de la receta: Air Fryer Pesto Chicken Quinoa Bowl\n"
          ]
        },
        {
          "data": {
            "text/html": [
              "<img src=\"https://www.allrecipes.com/thmb/KGMOsFyonTiKRJcMTm-lJ7A1gmc=/1500x0/filters:no_upscale():max_bytes(150000):strip_icc()/11691482_Air-Fried-Pesto-Chicken-Quinoa-Bowls_Chef-Mo_2x1-e3d67ceb215a49b5908f3d912525b74f.jpg\" width=\"300\"/>"
            ],
            "text/plain": [
              "<IPython.core.display.Image object>"
            ]
          },
          "metadata": {},
          "output_type": "display_data"
        },
        {
          "name": "stderr",
          "output_type": "stream",
          "text": [
            "\rProcesando URLs:  10%|█         | 10/100 [00:05<00:47,  1.89it/s]"
          ]
        },
        {
          "name": "stdout",
          "output_type": "stream",
          "text": [
            "\n",
            "➡️ Imagen de la receta: Air Fryer Honey Mustard Salmon Bites\n"
          ]
        },
        {
          "data": {
            "text/html": [
              "<img src=\"https://www.allrecipes.com/thmb/U_auGxttWWKHfBe_veVRvyIlN6I=/1500x0/filters:no_upscale():max_bytes(150000):strip_icc()/ALR-air-fryer-honey-mustard-salmon-bites-recipe-11680825-VAT-2x1-c44bd8410bf64882a6506d18d726f2ba.jpg\" width=\"300\"/>"
            ],
            "text/plain": [
              "<IPython.core.display.Image object>"
            ]
          },
          "metadata": {},
          "output_type": "display_data"
        },
        {
          "name": "stderr",
          "output_type": "stream",
          "text": [
            "\rProcesando URLs:  11%|█         | 11/100 [00:05<00:55,  1.61it/s]"
          ]
        },
        {
          "name": "stdout",
          "output_type": "stream",
          "text": [
            "\n",
            "➡️ Imagen de la receta: Air Fryer Honey Mustard Salmon\n"
          ]
        },
        {
          "data": {
            "text/html": [
              "<img src=\"https://www.allrecipes.com/thmb/K2Jg2gJd87cgaiO3e5vRfHpmt68=/1500x0/filters:no_upscale():max_bytes(150000):strip_icc()/ALR-8789582-air-fryer-honey-mustard-salmon-VAT-2x1-5b0d1da566bb454992e36d351560ed69.jpg\" width=\"300\"/>"
            ],
            "text/plain": [
              "<IPython.core.display.Image object>"
            ]
          },
          "metadata": {},
          "output_type": "display_data"
        },
        {
          "name": "stderr",
          "output_type": "stream",
          "text": [
            "\rProcesando URLs:  12%|█▏        | 12/100 [00:06<00:50,  1.76it/s]"
          ]
        },
        {
          "name": "stdout",
          "output_type": "stream",
          "text": [
            "\n",
            "➡️ Imagen de la receta: Panko Sesame Crusted Salmon Bites\n"
          ]
        },
        {
          "data": {
            "text/html": [
              "<img src=\"https://www.allrecipes.com/thmb/hvw2tqregum2hZcNqx65KsV-sT4=/1500x0/filters:no_upscale():max_bytes(150000):strip_icc()/8785036-Panko-sesame-crusted-salmon-ddmfs-step1-081-cc1f396f82f84b599fb65eed891be4d8.jpg\" width=\"300\"/>"
            ],
            "text/plain": [
              "<IPython.core.display.Image object>"
            ]
          },
          "metadata": {},
          "output_type": "display_data"
        },
        {
          "name": "stderr",
          "output_type": "stream",
          "text": [
            "\rProcesando URLs:  13%|█▎        | 13/100 [00:06<00:48,  1.79it/s]"
          ]
        },
        {
          "name": "stdout",
          "output_type": "stream",
          "text": [
            "\n",
            "➡️ Imagen de la receta: 12 Air Fryer Chicken Thigh Recipes to Make for Dinner Tonight\n"
          ]
        },
        {
          "data": {
            "text/html": [
              "<img src=\"https://www.allrecipes.com/thmb/QRv-1t3IOoDvDAFr6iu0HVJde3s=/1500x0/filters:no_upscale():max_bytes(150000):strip_icc()/272659-air-fryer-buttermilk-fried-chicken-GOLDMAN-R311206-2x1-2532-e0f948f75bc74a4b9b78224414ac214e.jpg\" width=\"300\"/>"
            ],
            "text/plain": [
              "<IPython.core.display.Image object>"
            ]
          },
          "metadata": {},
          "output_type": "display_data"
        },
        {
          "name": "stderr",
          "output_type": "stream",
          "text": [
            "\rProcesando URLs:  14%|█▍        | 14/100 [00:07<00:47,  1.81it/s]"
          ]
        },
        {
          "name": "stdout",
          "output_type": "stream",
          "text": [
            "\n",
            "➡️ Imagen de la receta: Wet Wet Wings\n"
          ]
        },
        {
          "data": {
            "text/html": [
              "<img src=\"https://www.allrecipes.com/thmb/_k0Azy4sDT27Scr1-M2MTeG5oTo=/1500x0/filters:no_upscale():max_bytes(150000):strip_icc()/8786824WetWetWingsNicole4x2-fe22178a9e114b38a200f6a0196c7ac4.jpg\" width=\"300\"/>"
            ],
            "text/plain": [
              "<IPython.core.display.Image object>"
            ]
          },
          "metadata": {},
          "output_type": "display_data"
        },
        {
          "name": "stderr",
          "output_type": "stream",
          "text": [
            "\rProcesando URLs:  15%|█▌        | 15/100 [00:07<00:42,  1.98it/s]"
          ]
        },
        {
          "name": "stdout",
          "output_type": "stream",
          "text": [
            "\n",
            "➡️ Imagen de la receta: Air Fried Tossed Taquitos\n"
          ]
        },
        {
          "data": {
            "text/html": [
              "<img src=\"https://www.allrecipes.com/thmb/Ku4WOuIFmSOtBlNZGbXIJcixkUY=/1500x0/filters:no_upscale():max_bytes(150000):strip_icc()/8784154_Air-Fried-Tossed-Taquitos_Peyton-Beckwith_2x1-f1e6544bde8244e3b8dadb269eb931bb.jpg\" width=\"300\"/>"
            ],
            "text/plain": [
              "<IPython.core.display.Image object>"
            ]
          },
          "metadata": {},
          "output_type": "display_data"
        },
        {
          "name": "stderr",
          "output_type": "stream",
          "text": [
            "\rProcesando URLs:  16%|█▌        | 16/100 [00:08<00:39,  2.14it/s]"
          ]
        },
        {
          "name": "stdout",
          "output_type": "stream",
          "text": [
            "\n",
            "➡️ Imagen de la receta: The Genius Ninja Crispi Changed My Mind About Cooking with Air Fryers\n"
          ]
        },
        {
          "data": {
            "text/html": [
              "<img src=\"https://www.allrecipes.com/thmb/wiuAoz1QBQ33J7ngq3mcFNEQjss=/1500x0/filters:no_upscale():max_bytes(150000):strip_icc()/ar-ninja-crispi-tout-87651a017a214508ae927b70bc183f11.jpg\" width=\"300\"/>"
            ],
            "text/plain": [
              "<IPython.core.display.Image object>"
            ]
          },
          "metadata": {},
          "output_type": "display_data"
        },
        {
          "name": "stderr",
          "output_type": "stream",
          "text": [
            "\rProcesando URLs:  17%|█▋        | 17/100 [00:08<00:34,  2.40it/s]"
          ]
        },
        {
          "name": "stdout",
          "output_type": "stream",
          "text": [
            "\n",
            "➡️ Imagen de la receta: Easy Air Fryer Chicken Breast\n"
          ]
        },
        {
          "data": {
            "text/html": [
              "<img src=\"https://www.allrecipes.com/thmb/ZevOZ2_8uuTKopXBqTtt7WobUrE=/1500x0/filters:no_upscale():max_bytes(150000):strip_icc()/ALR-283850-easy-air-fried-chicken-breast-VAT-2x1-5a49b43405254d04b5c73fb85106853b.jpg\" width=\"300\"/>"
            ],
            "text/plain": [
              "<IPython.core.display.Image object>"
            ]
          },
          "metadata": {},
          "output_type": "display_data"
        },
        {
          "name": "stderr",
          "output_type": "stream",
          "text": [
            "\rProcesando URLs:  18%|█▊        | 18/100 [00:09<00:39,  2.06it/s]"
          ]
        },
        {
          "name": "stdout",
          "output_type": "stream",
          "text": [
            "\n",
            "➡️ Imagen de la receta: 18 Air Fryer Appetizers You'll Come Back to Again and Again\n"
          ]
        },
        {
          "data": {
            "text/html": [
              "<img src=\"https://www.allrecipes.com/thmb/pomcgDWXu4uW_mT8mY4fuZaKqNs=/1500x0/filters:no_upscale():max_bytes(150000):strip_icc()/278615-Air-Fryer-Arancini-GOLDMAN-R311198-2x1-3521-c4108884e7b84288976f7e4a8d22baa9.jpg\" width=\"300\"/>"
            ],
            "text/plain": [
              "<IPython.core.display.Image object>"
            ]
          },
          "metadata": {},
          "output_type": "display_data"
        },
        {
          "name": "stderr",
          "output_type": "stream",
          "text": [
            "\rProcesando URLs:  19%|█▉        | 19/100 [00:09<00:39,  2.04it/s]"
          ]
        },
        {
          "name": "stdout",
          "output_type": "stream",
          "text": [
            "\n",
            "➡️ Imagen de la receta: Air Fryer Lemon Garlic Parmesan Chicken\n"
          ]
        },
        {
          "data": {
            "text/html": [
              "<img src=\"https://www.allrecipes.com/thmb/MytE4jMULSpAqrL9g90gz8XHWBk=/1500x0/filters:no_upscale():max_bytes(150000):strip_icc()/8726749-Air-Fryer-Lemon-Garlic-Parmesan-Chicken-ddmfs-5770-2x1-beauty-6b2078b5cb0e4b2ebdb104555e5637d2.jpg\" width=\"300\"/>"
            ],
            "text/plain": [
              "<IPython.core.display.Image object>"
            ]
          },
          "metadata": {},
          "output_type": "display_data"
        },
        {
          "name": "stderr",
          "output_type": "stream",
          "text": [
            "\rProcesando URLs:  20%|██        | 20/100 [00:10<00:37,  2.14it/s]"
          ]
        },
        {
          "name": "stdout",
          "output_type": "stream",
          "text": [
            "\n",
            "➡️ Imagen de la receta: Our 15 Best Air Fryer Thanksgiving Recipes\n"
          ]
        },
        {
          "data": {
            "text/html": [
              "<img src=\"https://www.allrecipes.com/thmb/49m63LWBRokOHDOm1OZt6vedceA=/1500x0/filters:no_upscale():max_bytes(150000):strip_icc()/268653-airfryer-garlic-parsley-baby-potatoes-ddmfs-Beauty-1x2-8236ca89fcec479b9f3f3b155fafba26.jpg\" width=\"300\"/>"
            ],
            "text/plain": [
              "<IPython.core.display.Image object>"
            ]
          },
          "metadata": {},
          "output_type": "display_data"
        },
        {
          "name": "stderr",
          "output_type": "stream",
          "text": [
            "\rProcesando URLs:  21%|██        | 21/100 [00:10<00:36,  2.18it/s]"
          ]
        },
        {
          "name": "stdout",
          "output_type": "stream",
          "text": [
            "\n",
            "➡️ Imagen de la receta: Air Fryer S’Mores\n"
          ]
        },
        {
          "data": {
            "text/html": [
              "<img src=\"https://www.allrecipes.com/thmb/Fu9U-uxYKVED48gl86JtTInuZC8=/1500x0/filters:no_upscale():max_bytes(150000):strip_icc()/8736955_Air-Fryer-Smores_TheDailyGourmet_2x1-702e45d79a2c407ca421adcd91a358b8.jpg\" width=\"300\"/>"
            ],
            "text/plain": [
              "<IPython.core.display.Image object>"
            ]
          },
          "metadata": {},
          "output_type": "display_data"
        },
        {
          "name": "stderr",
          "output_type": "stream",
          "text": [
            "\rProcesando URLs:  22%|██▏       | 22/100 [00:10<00:33,  2.30it/s]"
          ]
        },
        {
          "name": "stdout",
          "output_type": "stream",
          "text": [
            "\n",
            "➡️ Imagen de la receta: Air Fryer Baked Yams\n"
          ]
        },
        {
          "data": {
            "text/html": [
              "<img src=\"https://www.allrecipes.com/thmb/YV2kkcwXwi5kQt_IrevWztmJpq8=/1500x0/filters:no_upscale():max_bytes(150000):strip_icc()/8737640_Air-Fryer-Yams_Yolanda-Gutierrez_2x1-159de2709e584f6bac0f06968cd912da.jpg\" width=\"300\"/>"
            ],
            "text/plain": [
              "<IPython.core.display.Image object>"
            ]
          },
          "metadata": {},
          "output_type": "display_data"
        },
        {
          "name": "stderr",
          "output_type": "stream",
          "text": [
            "\rProcesando URLs:  23%|██▎       | 23/100 [00:11<00:33,  2.33it/s]"
          ]
        },
        {
          "name": "stdout",
          "output_type": "stream",
          "text": [
            "\n",
            "➡️ Imagen de la receta: Lemon Garlic Butter Chicken Spiedini\n"
          ]
        },
        {
          "data": {
            "text/html": [
              "<img src=\"https://www.allrecipes.com/thmb/999Nazx_EH8i52qMxw9JojHlMME=/1500x0/filters:no_upscale():max_bytes(150000):strip_icc()/8727930_Lemon-Garlic-Butter-Chicken-Spiedini_Dotdash-Meredith-Food-Studios_2x1-63ade32e4ea042cba5d14dd719acd75e.jpg\" width=\"300\"/>"
            ],
            "text/plain": [
              "<IPython.core.display.Image object>"
            ]
          },
          "metadata": {},
          "output_type": "display_data"
        },
        {
          "name": "stderr",
          "output_type": "stream",
          "text": [
            "\rProcesando URLs:  24%|██▍       | 24/100 [00:11<00:38,  1.97it/s]"
          ]
        },
        {
          "name": "stdout",
          "output_type": "stream",
          "text": [
            "\n",
            "➡️ Imagen de la receta: Air Fryer Grilled Pimento Cheese\n"
          ]
        },
        {
          "data": {
            "text/html": [
              "<img src=\"https://www.allrecipes.com/thmb/SJr9i5sVZJ-69ztyZgdJ6UV660s=/1500x0/filters:no_upscale():max_bytes(150000):strip_icc()/8720986_Air-Fryer-Grilled-Cheese_Pat-Bernitt_2x1-d81321a542aa497d953aa45bf24df73d.jpg\" width=\"300\"/>"
            ],
            "text/plain": [
              "<IPython.core.display.Image object>"
            ]
          },
          "metadata": {},
          "output_type": "display_data"
        },
        {
          "name": "stderr",
          "output_type": "stream",
          "text": [
            "\rProcesando URLs:  25%|██▌       | 25/100 [00:12<00:35,  2.09it/s]"
          ]
        },
        {
          "name": "stdout",
          "output_type": "stream",
          "text": [
            "\n",
            "➡️ Imagen de la receta: Air Fryer Chicken Parmesan\n"
          ]
        },
        {
          "data": {
            "text/html": [
              "<img src=\"https://www.allrecipes.com/thmb/RmKn-GacFHdDhS6UaOkYfl-QOBw=/1500x0/filters:no_upscale():max_bytes(150000):strip_icc()/8698442-AirFryerChickenParmesan-ddmfs-0248-2x1-hero-ec4b6fae73d441359910526eae062691.jpg\" width=\"300\"/>"
            ],
            "text/plain": [
              "<IPython.core.display.Image object>"
            ]
          },
          "metadata": {},
          "output_type": "display_data"
        },
        {
          "name": "stderr",
          "output_type": "stream",
          "text": [
            "\rProcesando URLs:  26%|██▌       | 26/100 [00:12<00:34,  2.15it/s]"
          ]
        },
        {
          "name": "stdout",
          "output_type": "stream",
          "text": [
            "\n",
            "➡️ Imagen de la receta: Air Fryer Eggplant\n"
          ]
        },
        {
          "data": {
            "text/html": [
              "<img src=\"https://www.allrecipes.com/thmb/aN74s7uHfYBmFRhrL9uBD4wWxmU=/1500x0/filters:no_upscale():max_bytes(150000):strip_icc()/8700773_Air-Fryer-Eggplant_Pat-Bernitt_2x1-22a8e04869ec4b6793c4750fa92356f3.jpg\" width=\"300\"/>"
            ],
            "text/plain": [
              "<IPython.core.display.Image object>"
            ]
          },
          "metadata": {},
          "output_type": "display_data"
        },
        {
          "name": "stderr",
          "output_type": "stream",
          "text": [
            "\rProcesando URLs:  27%|██▋       | 27/100 [00:13<00:32,  2.22it/s]"
          ]
        },
        {
          "name": "stdout",
          "output_type": "stream",
          "text": [
            "\n",
            "➡️ Imagen de la receta: Air Fryer Sriracha Fries\n"
          ]
        },
        {
          "data": {
            "text/html": [
              "<img src=\"https://www.allrecipes.com/thmb/d-yy2kBQ3k1P9kyeDIsXpkR09Uw=/1500x0/filters:no_upscale():max_bytes(150000):strip_icc()/8694021_Air-Fryer-Sriracha-Fries_TheDailyGourmet_2x1-d2eac346704445c183ff7b20ca1c1d8d.jpg\" width=\"300\"/>"
            ],
            "text/plain": [
              "<IPython.core.display.Image object>"
            ]
          },
          "metadata": {},
          "output_type": "display_data"
        },
        {
          "name": "stderr",
          "output_type": "stream",
          "text": [
            "\rProcesando URLs:  28%|██▊       | 28/100 [00:13<00:31,  2.30it/s]"
          ]
        },
        {
          "name": "stdout",
          "output_type": "stream",
          "text": [
            "\n",
            "➡️ Imagen de la receta: Crispy Air Fryer Potato Bites\n"
          ]
        },
        {
          "data": {
            "text/html": [
              "<img src=\"https://www.allrecipes.com/thmb/7tIn5FVU2A9m1VNdmpld-nabI6g=/1500x0/filters:no_upscale():max_bytes(150000):strip_icc()/8682451_Crispy-Air-Fryer-Potato-Bites_Nicole-Russell_2x1-4940029c3e574616be11a8a9dcf59a1c.jpg\" width=\"300\"/>"
            ],
            "text/plain": [
              "<IPython.core.display.Image object>"
            ]
          },
          "metadata": {},
          "output_type": "display_data"
        },
        {
          "name": "stderr",
          "output_type": "stream",
          "text": [
            "\rProcesando URLs:  29%|██▉       | 29/100 [00:14<00:29,  2.43it/s]"
          ]
        },
        {
          "name": "stdout",
          "output_type": "stream",
          "text": [
            "\n",
            "➡️ Imagen de la receta: Copycat Wingstop Cajun Corn\n"
          ]
        },
        {
          "data": {
            "text/html": [
              "<img src=\"https://www.allrecipes.com/thmb/mtH2ynKF22FQ2XD85u_8nuTBp8g=/1500x0/filters:no_upscale():max_bytes(150000):strip_icc()/8681405_Copycat-Wingstop-Cajun-Corn_Dotdash-Meredith-Food-Studios_2x1-850aed34daa442098cf0c46912c276ac.jpg\" width=\"300\"/>"
            ],
            "text/plain": [
              "<IPython.core.display.Image object>"
            ]
          },
          "metadata": {},
          "output_type": "display_data"
        },
        {
          "name": "stderr",
          "output_type": "stream",
          "text": [
            "\rProcesando URLs:  30%|███       | 30/100 [00:14<00:33,  2.08it/s]"
          ]
        },
        {
          "name": "stdout",
          "output_type": "stream",
          "text": [
            "\n",
            "➡️ Imagen de la receta: Air Fryer Po' Boy\n"
          ]
        },
        {
          "data": {
            "text/html": [
              "<img src=\"https://www.allrecipes.com/thmb/eohdXUFdNszOfeSPCPazwZ98gYY=/1500x0/filters:no_upscale():max_bytes(150000):strip_icc()/9214536-36724cff2c604f3a96ed7ad05917212c.jpg\" width=\"300\"/>"
            ],
            "text/plain": [
              "<IPython.core.display.Image object>"
            ]
          },
          "metadata": {},
          "output_type": "display_data"
        },
        {
          "name": "stderr",
          "output_type": "stream",
          "text": [
            "\rProcesando URLs:  31%|███       | 31/100 [00:15<00:32,  2.10it/s]"
          ]
        },
        {
          "name": "stdout",
          "output_type": "stream",
          "text": [
            "\n",
            "➡️ Imagen de la receta: Air Fryer Buffalo Wings\n"
          ]
        },
        {
          "data": {
            "text/html": [
              "<img src=\"https://www.allrecipes.com/thmb/QOXwIdNlJpDLvblsHCzxUyQXZrM=/1500x0/filters:no_upscale():max_bytes(150000):strip_icc()/8645970AirFryerBuffaloWingsRamonaCruz-Peters2x1-84bbf4b4f5d2493085616161bf0f3b14.jpg\" width=\"300\"/>"
            ],
            "text/plain": [
              "<IPython.core.display.Image object>"
            ]
          },
          "metadata": {},
          "output_type": "display_data"
        },
        {
          "name": "stderr",
          "output_type": "stream",
          "text": [
            "\rProcesando URLs:  32%|███▏      | 32/100 [00:15<00:30,  2.21it/s]"
          ]
        },
        {
          "name": "stdout",
          "output_type": "stream",
          "text": [
            "\n",
            "➡️ Imagen de la receta: Air Fryer Smashed Potatoes\n"
          ]
        },
        {
          "data": {
            "text/html": [
              "<img src=\"https://www.allrecipes.com/thmb/QnbBB7kp4lSO7LawTjoltA2JM3w=/1500x0/filters:no_upscale():max_bytes(150000):strip_icc()/8644582ChristinaBailey_AirFryerSmashedPotatoes-horizontal2x3-55a37951b4ca44f4863af11065bcc9f1.jpg\" width=\"300\"/>"
            ],
            "text/plain": [
              "<IPython.core.display.Image object>"
            ]
          },
          "metadata": {},
          "output_type": "display_data"
        },
        {
          "name": "stderr",
          "output_type": "stream",
          "text": [
            "\rProcesando URLs:  33%|███▎      | 33/100 [00:15<00:28,  2.31it/s]"
          ]
        },
        {
          "name": "stdout",
          "output_type": "stream",
          "text": [
            "\n",
            "➡️ Imagen de la receta: Air Fryer Quesadillas\n"
          ]
        },
        {
          "data": {
            "text/html": [
              "<img src=\"https://www.allrecipes.com/thmb/aCXoWLnQ6Xg9psDTs9x1DWonT6k=/1500x0/filters:no_upscale():max_bytes(150000):strip_icc()/8651442_Air-Fryer-Quesadillas_Yolanda-Gutierrez_2x1-bbdb0083bb0249f493285108f234c542.jpg\" width=\"300\"/>"
            ],
            "text/plain": [
              "<IPython.core.display.Image object>"
            ]
          },
          "metadata": {},
          "output_type": "display_data"
        },
        {
          "name": "stderr",
          "output_type": "stream",
          "text": [
            "\rProcesando URLs:  34%|███▍      | 34/100 [00:16<00:30,  2.20it/s]"
          ]
        },
        {
          "name": "stdout",
          "output_type": "stream",
          "text": [
            "\n",
            "➡️ Imagen de la receta: Air Fryer Truffle Polenta Fries\n"
          ]
        },
        {
          "data": {
            "text/html": [
              "<img src=\"https://www.allrecipes.com/thmb/RrSaFvFHDgBwpzdc5CT6jYEVKoE=/1500x0/filters:no_upscale():max_bytes(150000):strip_icc()/8643717_Air-Fyer-Truffle-Polenta-Fries_Nicole-Russell_2x1-05b88a3fd81b412486aab212c2a6d82d.jpg\" width=\"300\"/>"
            ],
            "text/plain": [
              "<IPython.core.display.Image object>"
            ]
          },
          "metadata": {},
          "output_type": "display_data"
        },
        {
          "name": "stderr",
          "output_type": "stream",
          "text": [
            "\rProcesando URLs:  35%|███▌      | 35/100 [00:16<00:29,  2.20it/s]"
          ]
        },
        {
          "name": "stdout",
          "output_type": "stream",
          "text": [
            "\n",
            "➡️ Imagen de la receta: Air Fryer Firecracker Salmon Bites\n"
          ]
        },
        {
          "data": {
            "text/html": [
              "<img src=\"https://www.allrecipes.com/thmb/jkHwRC06E5_rLN9RRUTT-w7Ui1c=/1500x0/filters:no_upscale():max_bytes(150000):strip_icc()/8623119_Air-Fryer-Firecracker-Salmon-Bites_Dotdash-Meredith-Food-Studios_2x1-48a9d2c5af0649af9e44cf060aac098a.jpg\" width=\"300\"/>"
            ],
            "text/plain": [
              "<IPython.core.display.Image object>"
            ]
          },
          "metadata": {},
          "output_type": "display_data"
        },
        {
          "name": "stderr",
          "output_type": "stream",
          "text": [
            "\rProcesando URLs:  36%|███▌      | 36/100 [00:17<00:35,  1.79it/s]"
          ]
        },
        {
          "name": "stdout",
          "output_type": "stream",
          "text": [
            "\n",
            "➡️ Imagen de la receta: Air Fryer Chicken Bites\n"
          ]
        },
        {
          "data": {
            "text/html": [
              "<img src=\"https://www.allrecipes.com/thmb/WxGLl7CvP7EdqfE7lHqHg2J_g3g=/1500x0/filters:no_upscale():max_bytes(150000):strip_icc()/8599352_Air-Fryer-Chicken-Bites_TheDailyGourmet_2x1-baf3eb665de94962a55d759e2a025cab.jpg\" width=\"300\"/>"
            ],
            "text/plain": [
              "<IPython.core.display.Image object>"
            ]
          },
          "metadata": {},
          "output_type": "display_data"
        },
        {
          "name": "stderr",
          "output_type": "stream",
          "text": [
            "\rProcesando URLs:  37%|███▋      | 37/100 [00:18<00:34,  1.83it/s]"
          ]
        },
        {
          "name": "stdout",
          "output_type": "stream",
          "text": [
            "\n",
            "➡️ Imagen de la receta: 4 Ingredient Air Fryer Pepper Poppers\n"
          ]
        },
        {
          "data": {
            "text/html": [
              "<img src=\"https://www.allrecipes.com/thmb/i1nuh_cnRPpvRxEqMxn5xC3sKEE=/1500x0/filters:no_upscale():max_bytes(150000):strip_icc()/8584965_4-Ingredient-Air-Fryer-Pepper-Poppers_Nicole-Russell_2x1-669dce6c0ae74723b0ecb7b5cc4da5a2.jpg\" width=\"300\"/>"
            ],
            "text/plain": [
              "<IPython.core.display.Image object>"
            ]
          },
          "metadata": {},
          "output_type": "display_data"
        },
        {
          "name": "stderr",
          "output_type": "stream",
          "text": [
            "\rProcesando URLs:  38%|███▊      | 38/100 [00:18<00:32,  1.89it/s]"
          ]
        },
        {
          "name": "stdout",
          "output_type": "stream",
          "text": [
            "\n",
            "➡️ Imagen de la receta: Air Fryer Bell Pepper Poppers\n"
          ]
        },
        {
          "data": {
            "text/html": [
              "<img src=\"https://www.allrecipes.com/thmb/jsEU5pkuIBtUZWOETlBnq9DCaf8=/1500x0/filters:no_upscale():max_bytes(150000):strip_icc()/8584648_Air-Fryer-Bell-Pepper-Poppers_Brenda-Venable_2x1-6b6130d012d6495ab449a894c8de2a18.jpg\" width=\"300\"/>"
            ],
            "text/plain": [
              "<IPython.core.display.Image object>"
            ]
          },
          "metadata": {},
          "output_type": "display_data"
        },
        {
          "name": "stderr",
          "output_type": "stream",
          "text": [
            "\rProcesando URLs:  39%|███▉      | 39/100 [00:19<00:31,  1.91it/s]"
          ]
        },
        {
          "name": "stdout",
          "output_type": "stream",
          "text": [
            "\n",
            "➡️ Imagen de la receta: Air Fryer Cinnamon Roll Bites\n"
          ]
        },
        {
          "data": {
            "text/html": [
              "<img src=\"https://www.allrecipes.com/thmb/ko1cErpxWSHFHGkIbDkSlNOhKEs=/1500x0/filters:no_upscale():max_bytes(150000):strip_icc()/8553617_Air-Fryer-Cinnamon-Roll-Bites_Pat-Bernitt_2x1-a59cfbefa9134faab54751a2e172f37c.jpg\" width=\"300\"/>"
            ],
            "text/plain": [
              "<IPython.core.display.Image object>"
            ]
          },
          "metadata": {},
          "output_type": "display_data"
        },
        {
          "name": "stderr",
          "output_type": "stream",
          "text": [
            "\rProcesando URLs:  40%|████      | 40/100 [00:19<00:31,  1.90it/s]"
          ]
        },
        {
          "name": "stdout",
          "output_type": "stream",
          "text": [
            "\n",
            "➡️ Imagen de la receta: Air Fryer Ham and Cheese Wraps\n"
          ]
        },
        {
          "data": {
            "text/html": [
              "<img src=\"https://www.allrecipes.com/thmb/ckOoVQGmIwgw0YdwoqkB-uChYX0=/1500x0/filters:no_upscale():max_bytes(150000):strip_icc()/8365118_Air-Fryer-Ham-and-Cheese-Wraps_Nicole-Russell_2x1-c649875ecf7341e28403df93d707f2f6.jpg\" width=\"300\"/>"
            ],
            "text/plain": [
              "<IPython.core.display.Image object>"
            ]
          },
          "metadata": {},
          "output_type": "display_data"
        },
        {
          "name": "stderr",
          "output_type": "stream",
          "text": [
            "\rProcesando URLs:  41%|████      | 41/100 [00:20<00:28,  2.06it/s]"
          ]
        },
        {
          "name": "stdout",
          "output_type": "stream",
          "text": [
            "\n",
            "➡️ Imagen de la receta: Air Fryer Buffalo Cauliflower\n"
          ]
        },
        {
          "data": {
            "text/html": [
              "<img src=\"https://www.allrecipes.com/thmb/aMDUwh1nZ5d54ksLtFG2VD08rYg=/1500x0/filters:no_upscale():max_bytes(150000):strip_icc()/8537908-Air-Fryer-Buffalo-Cauliflower-lutzflcat-2x1-1-3471784fd32e49559f562e28a31e7292.jpg\" width=\"300\"/>"
            ],
            "text/plain": [
              "<IPython.core.display.Image object>"
            ]
          },
          "metadata": {},
          "output_type": "display_data"
        },
        {
          "name": "stderr",
          "output_type": "stream",
          "text": [
            "\rProcesando URLs:  42%|████▏     | 42/100 [00:20<00:33,  1.73it/s]"
          ]
        },
        {
          "name": "stdout",
          "output_type": "stream",
          "text": [
            "\n",
            "➡️ Imagen de la receta: Air Fryer Honey-Mustard Chicken Thighs\n"
          ]
        },
        {
          "data": {
            "text/html": [
              "<img src=\"https://www.allrecipes.com/thmb/mBRebVq6L9zTZ5fUtQBzv06mYHc=/1500x0/filters:no_upscale():max_bytes(150000):strip_icc()/7970816_Air-Fryer-Honey-Mustard-Chicken-Thighs_Bibi_2x1-ae67b19985bf469d842380f9f878b46f.jpg\" width=\"300\"/>"
            ],
            "text/plain": [
              "<IPython.core.display.Image object>"
            ]
          },
          "metadata": {},
          "output_type": "display_data"
        },
        {
          "name": "stderr",
          "output_type": "stream",
          "text": [
            "\rProcesando URLs:  43%|████▎     | 43/100 [00:21<00:29,  1.92it/s]"
          ]
        },
        {
          "name": "stdout",
          "output_type": "stream",
          "text": [
            "\n",
            "➡️ Imagen de la receta: Air Fryer Hearts of Palm Sticks\n"
          ]
        },
        {
          "data": {
            "text/html": [
              "<img src=\"https://www.allrecipes.com/thmb/AJ4koFjY3rLPE9mOiWtaJJHU9Ww=/1500x0/filters:no_upscale():max_bytes(150000):strip_icc()/7814346_Air-Fryer-Hearts-of-Palm-Sticks_Soup-Loving-Nicole_2x1-9407f7d4c71741ba9d889d357c2b9077.jpg\" width=\"300\"/>"
            ],
            "text/plain": [
              "<IPython.core.display.Image object>"
            ]
          },
          "metadata": {},
          "output_type": "display_data"
        },
        {
          "name": "stderr",
          "output_type": "stream",
          "text": [
            "\rProcesando URLs:  44%|████▍     | 44/100 [00:21<00:26,  2.08it/s]"
          ]
        },
        {
          "name": "stdout",
          "output_type": "stream",
          "text": [
            "\n",
            "➡️ Imagen de la receta: Air Fryer Cheesy Bacon Ranch French Fries\n"
          ]
        },
        {
          "data": {
            "text/html": [
              "<img src=\"https://www.allrecipes.com/thmb/4jOg29IroNYOSbpJ0RXb_nBsbew=/1500x0/filters:no_upscale():max_bytes(150000):strip_icc()/7560981_Air-Fryer-Cheesy-Bacon-Ranch-Fries-Soup-Loving-Nicole_2x1-111b98227816490e937cea7aae78b828.jpg\" width=\"300\"/>"
            ],
            "text/plain": [
              "<IPython.core.display.Image object>"
            ]
          },
          "metadata": {},
          "output_type": "display_data"
        },
        {
          "name": "stderr",
          "output_type": "stream",
          "text": [
            "\rProcesando URLs:  45%|████▌     | 45/100 [00:22<00:25,  2.17it/s]"
          ]
        },
        {
          "name": "stdout",
          "output_type": "stream",
          "text": [
            "\n",
            "➡️ Imagen de la receta: Air Fryer Mini Dark Chocolate Cake with Brown Butter Frosting\n"
          ]
        },
        {
          "data": {
            "text/html": [
              "<img src=\"https://www.allrecipes.com/thmb/ZUNW5h50QyI9UT2w0QjQomlInzY=/1500x0/filters:no_upscale():max_bytes(150000):strip_icc()/7509612-air-fryer-mini-dark-chocolate-cake-with-brown-butter-frosting-GOLDMAN-R311671-2x1-2717-5eb29dad03b849bd9c3014e1d30be5ca.jpg\" width=\"300\"/>"
            ],
            "text/plain": [
              "<IPython.core.display.Image object>"
            ]
          },
          "metadata": {},
          "output_type": "display_data"
        },
        {
          "name": "stderr",
          "output_type": "stream",
          "text": [
            "\rProcesando URLs:  46%|████▌     | 46/100 [00:22<00:24,  2.21it/s]"
          ]
        },
        {
          "name": "stdout",
          "output_type": "stream",
          "text": [
            "\n",
            "➡️ Imagen de la receta: Air Fryer Spanakopita\n"
          ]
        },
        {
          "data": {
            "text/html": [
              "<img src=\"https://www.allrecipes.com/thmb/Dr5YY45XGhlu6tZz7JKBTqmTc5s=/1500x0/filters:no_upscale():max_bytes(150000):strip_icc()/7510155-air-fryer-spanikopita-PASSANO-3768-2x1-8a3759f84d30448f8de3723465a52b70.jpg\" width=\"300\"/>"
            ],
            "text/plain": [
              "<IPython.core.display.Image object>"
            ]
          },
          "metadata": {},
          "output_type": "display_data"
        },
        {
          "name": "stderr",
          "output_type": "stream",
          "text": [
            "\rProcesando URLs:  47%|████▋     | 47/100 [00:22<00:22,  2.33it/s]"
          ]
        },
        {
          "name": "stdout",
          "output_type": "stream",
          "text": [
            "\n",
            "➡️ Imagen de la receta: Air Fryer Pecan Crusted Trout\n"
          ]
        },
        {
          "data": {
            "text/html": [
              "<img src=\"https://www.allrecipes.com/thmb/NfryyrJfkix-0vW9caUnOtE2esc=/1500x0/filters:no_upscale():max_bytes(150000):strip_icc()/7510184-air-fryer-pecan-crusted-trout-GOLDMAN-R311166-2x1-3288-2543df51491b48fc9b48276ccb7931ab.jpg\" width=\"300\"/>"
            ],
            "text/plain": [
              "<IPython.core.display.Image object>"
            ]
          },
          "metadata": {},
          "output_type": "display_data"
        },
        {
          "name": "stderr",
          "output_type": "stream",
          "text": [
            "\rProcesando URLs:  48%|████▊     | 48/100 [00:23<00:21,  2.39it/s]"
          ]
        },
        {
          "name": "stdout",
          "output_type": "stream",
          "text": [
            "\n",
            "➡️ Imagen de la receta: Air Fryer Blooming Onion\n"
          ]
        },
        {
          "data": {
            "text/html": [
              "<img src=\"https://www.allrecipes.com/thmb/w5yBIWIGzaZ5OnIdR3GUnseOWjA=/1500x0/filters:no_upscale():max_bytes(150000):strip_icc()/7546676-Air-Fryer-Blooming-Onion-R311158-10043-1-2x1-230650b2b373441db056513262601aec.jpg\" width=\"300\"/>"
            ],
            "text/plain": [
              "<IPython.core.display.Image object>"
            ]
          },
          "metadata": {},
          "output_type": "display_data"
        },
        {
          "name": "stderr",
          "output_type": "stream",
          "text": [
            "\rProcesando URLs:  49%|████▉     | 49/100 [00:24<00:27,  1.89it/s]"
          ]
        },
        {
          "name": "stdout",
          "output_type": "stream",
          "text": [
            "\n",
            "➡️ Imagen de la receta: Air Fryer Tempura Vegetables\n"
          ]
        },
        {
          "data": {
            "text/html": [
              "<img src=\"https://www.allrecipes.com/thmb/lDCcTLkjjkAlTam-TIv24-6jfnw=/1500x0/filters:no_upscale():max_bytes(150000):strip_icc()/7510181-airfryer-tempura-vegetables-KH-031623-9778-2x1-3aaf2610abe84462b8ee45887ef873a0.jpg\" width=\"300\"/>"
            ],
            "text/plain": [
              "<IPython.core.display.Image object>"
            ]
          },
          "metadata": {},
          "output_type": "display_data"
        },
        {
          "name": "stderr",
          "output_type": "stream",
          "text": [
            "\rProcesando URLs:  50%|█████     | 50/100 [00:24<00:25,  1.99it/s]"
          ]
        },
        {
          "name": "stdout",
          "output_type": "stream",
          "text": [
            "\n",
            "➡️ Imagen de la receta: Air Fryer Turtle Cheesecake\n"
          ]
        },
        {
          "data": {
            "text/html": [
              "<img src=\"https://www.allrecipes.com/thmb/793m--vWkkVNLn7p7IZ3lHxXM6s=/1500x0/filters:no_upscale():max_bytes(150000):strip_icc()/7511366-Air-Fryer-Turtle-CheesecakeGOLDMAN-R311400-2x1-5592-a714ee019cbe4c349e7521e33d9321eb.jpg\" width=\"300\"/>"
            ],
            "text/plain": [
              "<IPython.core.display.Image object>"
            ]
          },
          "metadata": {},
          "output_type": "display_data"
        },
        {
          "name": "stderr",
          "output_type": "stream",
          "text": [
            "\rProcesando URLs:  51%|█████     | 51/100 [00:25<00:24,  1.98it/s]"
          ]
        },
        {
          "name": "stdout",
          "output_type": "stream",
          "text": [
            "\n",
            "➡️ Imagen de la receta: Air Fryer Samosas\n"
          ]
        },
        {
          "data": {
            "text/html": [
              "<img src=\"https://www.allrecipes.com/thmb/34mGArAGj_dB8IbXmJ-HRoRoXko=/1500x0/filters:no_upscale():max_bytes(150000):strip_icc()/7510128-air-fryer-samosas-BP_M7009192_R307417_7810-2x1-892852e94af841a7963d0efbc5cda896.jpg\" width=\"300\"/>"
            ],
            "text/plain": [
              "<IPython.core.display.Image object>"
            ]
          },
          "metadata": {},
          "output_type": "display_data"
        },
        {
          "name": "stderr",
          "output_type": "stream",
          "text": [
            "\rProcesando URLs:  52%|█████▏    | 52/100 [00:25<00:24,  1.97it/s]"
          ]
        },
        {
          "name": "stdout",
          "output_type": "stream",
          "text": [
            "\n",
            "➡️ Imagen de la receta: Air Fryer Roasted Vegetables with Gremolata and Red Pepper Aioli\n"
          ]
        },
        {
          "data": {
            "text/html": [
              "<img src=\"https://www.allrecipes.com/thmb/fRpb0W1OM3nxeCTcxMZgh31ztHM=/1500x0/filters:no_upscale():max_bytes(150000):strip_icc()/7510058-air-fryer-roasted-vegetables-with-gremolata-and-red-pepper-aioli-GOLDMAN-R311662-2x1-2251-b2134ddac17d4d6d80ebd42698e9a8db.jpg\" width=\"300\"/>"
            ],
            "text/plain": [
              "<IPython.core.display.Image object>"
            ]
          },
          "metadata": {},
          "output_type": "display_data"
        },
        {
          "name": "stderr",
          "output_type": "stream",
          "text": [
            "\rProcesando URLs:  53%|█████▎    | 53/100 [00:25<00:22,  2.10it/s]"
          ]
        },
        {
          "name": "stdout",
          "output_type": "stream",
          "text": [
            "\n",
            "➡️ Imagen de la receta: Crab Rangoon in the Air Fryer\n"
          ]
        },
        {
          "data": {
            "text/html": [
              "<img src=\"https://www.allrecipes.com/thmb/tQpoDbhWdywRu1yLBaaXvyGUHc4=/1500x0/filters:no_upscale():max_bytes(150000):strip_icc()/7511370-air-fryer-crab-rangoon-7009192_R307640_JD_8175-2x1-3376f61221e6476abeff6ec0e2282607.jpg\" width=\"300\"/>"
            ],
            "text/plain": [
              "<IPython.core.display.Image object>"
            ]
          },
          "metadata": {},
          "output_type": "display_data"
        },
        {
          "name": "stderr",
          "output_type": "stream",
          "text": [
            "\rProcesando URLs:  54%|█████▍    | 54/100 [00:26<00:20,  2.20it/s]"
          ]
        },
        {
          "name": "stdout",
          "output_type": "stream",
          "text": [
            "\n",
            "➡️ Imagen de la receta: Air Fryer Everything-Bagel Salmon Dinner\n"
          ]
        },
        {
          "data": {
            "text/html": [
              "<img src=\"https://www.allrecipes.com/thmb/Z-vZ9BQAJZhE-IcrsJVFNyqHbo4=/1500x0/filters:no_upscale():max_bytes(150000):strip_icc()/7509518-air-fryer-everything-salmon-dinner-KH_063022_AR11068-2x1-285c8083ea444daab4aaebbdb72d2d83.jpg\" width=\"300\"/>"
            ],
            "text/plain": [
              "<IPython.core.display.Image object>"
            ]
          },
          "metadata": {},
          "output_type": "display_data"
        },
        {
          "name": "stderr",
          "output_type": "stream",
          "text": [
            "\rProcesando URLs:  55%|█████▌    | 55/100 [00:27<00:23,  1.91it/s]"
          ]
        },
        {
          "name": "stdout",
          "output_type": "stream",
          "text": [
            "\n",
            "➡️ Imagen de la receta: Air Fryer Crispy Pickle Chips with Creole Dipping Sauce\n"
          ]
        },
        {
          "data": {
            "text/html": [
              "<img src=\"https://www.allrecipes.com/thmb/VQ9-c1PjC3uh1knr00dgVWs0Tgw=/1500x0/filters:no_upscale():max_bytes(150000):strip_icc()/7509784-air-fryer-pickle-chips-GOLDMAN-R311655-2x1-1468-fa2e6b162ae54006bce253458418c4db.jpg\" width=\"300\"/>"
            ],
            "text/plain": [
              "<IPython.core.display.Image object>"
            ]
          },
          "metadata": {},
          "output_type": "display_data"
        },
        {
          "name": "stderr",
          "output_type": "stream",
          "text": [
            "\rProcesando URLs:  56%|█████▌    | 56/100 [00:27<00:21,  2.02it/s]"
          ]
        },
        {
          "name": "stdout",
          "output_type": "stream",
          "text": [
            "\n",
            "➡️ Imagen de la receta: Air Fryer Raspberry Brownie Bites\n"
          ]
        },
        {
          "data": {
            "text/html": [
              "<img src=\"https://www.allrecipes.com/thmb/tX3Et7P6tA2rfxuyHgBK5QMiCFs=/1500x0/filters:no_upscale():max_bytes(150000):strip_icc()/7509875-raspberry-brownie-bites-GOLDMAN-R311666-2x1-2158-29f2f12a2ac246beb25d4ebc068c283a.jpg\" width=\"300\"/>"
            ],
            "text/plain": [
              "<IPython.core.display.Image object>"
            ]
          },
          "metadata": {},
          "output_type": "display_data"
        },
        {
          "name": "stderr",
          "output_type": "stream",
          "text": [
            "\rProcesando URLs:  57%|█████▋    | 57/100 [00:27<00:20,  2.14it/s]"
          ]
        },
        {
          "name": "stdout",
          "output_type": "stream",
          "text": [
            "\n",
            "➡️ Imagen de la receta: Air Fryer Sweet Potato Chips\n"
          ]
        },
        {
          "data": {
            "text/html": [
              "<img src=\"https://www.allrecipes.com/thmb/b59OC_YHMkF8xNEY3TZc8qGsgCg=/1500x0/filters:no_upscale():max_bytes(150000):strip_icc()/7510177-air-fryer-sweet-potato-chips-GOLDMAN-R311171-2x1-1406-289296c7d8994d1e9394c06c6689c5a5.jpg\" width=\"300\"/>"
            ],
            "text/plain": [
              "<IPython.core.display.Image object>"
            ]
          },
          "metadata": {},
          "output_type": "display_data"
        },
        {
          "name": "stderr",
          "output_type": "stream",
          "text": [
            "\rProcesando URLs:  58%|█████▊    | 58/100 [00:28<00:18,  2.23it/s]"
          ]
        },
        {
          "name": "stdout",
          "output_type": "stream",
          "text": [
            "\n",
            "➡️ Imagen de la receta: Air Fryer Green Bean Fries\n"
          ]
        },
        {
          "data": {
            "text/html": [
              "<img src=\"https://www.allrecipes.com/thmb/ZJ2Ucm-hgcB0zxu_iGsk4k2QbZg=/1500x0/filters:no_upscale():max_bytes(150000):strip_icc()/7509535-Air-Fryer-Green-Bean-Fries-R311157-10130-2x1-4e76f837159d4d6ba2444ee4880c85e6.jpg\" width=\"300\"/>"
            ],
            "text/plain": [
              "<IPython.core.display.Image object>"
            ]
          },
          "metadata": {},
          "output_type": "display_data"
        },
        {
          "name": "stderr",
          "output_type": "stream",
          "text": [
            "\rProcesando URLs:  59%|█████▉    | 59/100 [00:28<00:18,  2.23it/s]"
          ]
        },
        {
          "name": "stdout",
          "output_type": "stream",
          "text": [
            "\n",
            "➡️ Imagen de la receta: Air Fryer Loaded Egg Salad Sandwiches\n"
          ]
        },
        {
          "data": {
            "text/html": [
              "<img src=\"https://www.allrecipes.com/thmb/FqcLSre2d70eIL_m9pu9pwokoiM=/1500x0/filters:no_upscale():max_bytes(150000):strip_icc()/7509591-air-fryer-loaded-egg-salad-sandwiches-KH-031523-9628-1-2x1-5f08a9511c4f4d39ad49261de3a7df3a.jpg\" width=\"300\"/>"
            ],
            "text/plain": [
              "<IPython.core.display.Image object>"
            ]
          },
          "metadata": {},
          "output_type": "display_data"
        },
        {
          "name": "stderr",
          "output_type": "stream",
          "text": [
            "\rProcesando URLs:  60%|██████    | 60/100 [00:29<00:17,  2.33it/s]"
          ]
        },
        {
          "name": "stdout",
          "output_type": "stream",
          "text": [
            "\n",
            "➡️ Imagen de la receta: Air Fryer Chicken Tenders\n"
          ]
        },
        {
          "data": {
            "text/html": [
              "<img src=\"https://www.allrecipes.com/thmb/vXD28AEFuyo8smuYHvBMOA5YX6o=/1500x0/filters:no_upscale():max_bytes(150000):strip_icc()/7509380-air-fryer-chicken-tenders-MID-M7004348-071-2x1-7f47d82cc9784b0aa1cebede412ec91a.jpg\" width=\"300\"/>"
            ],
            "text/plain": [
              "<IPython.core.display.Image object>"
            ]
          },
          "metadata": {},
          "output_type": "display_data"
        },
        {
          "name": "stderr",
          "output_type": "stream",
          "text": [
            "\rProcesando URLs:  61%|██████    | 61/100 [00:29<00:20,  1.90it/s]"
          ]
        },
        {
          "name": "stdout",
          "output_type": "stream",
          "text": [
            "\n",
            "➡️ Imagen de la receta: Air Fryer Garlic Green Beans\n"
          ]
        },
        {
          "data": {
            "text/html": [
              "<img src=\"https://www.allrecipes.com/thmb/v_O_iIDKyOrptSknDGcsbamp6LE=/1500x0/filters:no_upscale():max_bytes(150000):strip_icc()/7511002_Air-Fryer-Garlic-Green-Beans_SoupLovingNicole_2x1-82583e6eea9748f9ae1a9f15a26c05b6.jpg\" width=\"300\"/>"
            ],
            "text/plain": [
              "<IPython.core.display.Image object>"
            ]
          },
          "metadata": {},
          "output_type": "display_data"
        },
        {
          "name": "stderr",
          "output_type": "stream",
          "text": [
            "\rProcesando URLs:  62%|██████▏   | 62/100 [00:30<00:21,  1.74it/s]"
          ]
        },
        {
          "name": "stdout",
          "output_type": "stream",
          "text": [
            "\n",
            "➡️ Imagen de la receta: Air Fryer Green Beans\n"
          ]
        },
        {
          "data": {
            "text/html": [
              "<img src=\"https://www.allrecipes.com/thmb/mDlfI-u4biZQtdvpdwuLSt6Ef0k=/1500x0/filters:no_upscale():max_bytes(150000):strip_icc()/7510925_Air-Fryer-Green-Beans_France-C_2x1-cf24687303ee49388d029e1da9085e0a.jpg\" width=\"300\"/>"
            ],
            "text/plain": [
              "<IPython.core.display.Image object>"
            ]
          },
          "metadata": {},
          "output_type": "display_data"
        },
        {
          "name": "stderr",
          "output_type": "stream",
          "text": [
            "\rProcesando URLs:  63%|██████▎   | 63/100 [00:31<00:20,  1.85it/s]"
          ]
        },
        {
          "name": "stdout",
          "output_type": "stream",
          "text": [
            "\n",
            "➡️ Imagen de la receta: Air Fryer Chicken Strips\n"
          ]
        },
        {
          "data": {
            "text/html": [
              "<img src=\"https://www.allrecipes.com/thmb/QeMmkzD2uXiRiSltfjtdNCkPsNw=/1500x0/filters:no_upscale():max_bytes(150000):strip_icc()/7501758_Sir-Fryer-Chicken-Tenders_JohnGalt_2x1-6f2e633635ce464f84c2d5dc523963b7.jpg\" width=\"300\"/>"
            ],
            "text/plain": [
              "<IPython.core.display.Image object>"
            ]
          },
          "metadata": {},
          "output_type": "display_data"
        },
        {
          "name": "stderr",
          "output_type": "stream",
          "text": [
            "\rProcesando URLs:  64%|██████▍   | 64/100 [00:31<00:19,  1.89it/s]"
          ]
        },
        {
          "name": "stdout",
          "output_type": "stream",
          "text": [
            "\n",
            "➡️ Imagen de la receta: Grilled Cajun Corn\n"
          ]
        },
        {
          "data": {
            "text/html": [
              "<img src=\"https://www.allrecipes.com/thmb/fkzyYmKj3lddR0JWV4GVVhhHrb8=/1500x0/filters:no_upscale():max_bytes(150000):strip_icc()/11759894-grilled-cajun-corn-recipe-VAT-002-beauty-2x1-02a36da0294e4a19842271accd25ad2d.jpg\" width=\"300\"/>"
            ],
            "text/plain": [
              "<IPython.core.display.Image object>"
            ]
          },
          "metadata": {},
          "output_type": "display_data"
        },
        {
          "name": "stderr",
          "output_type": "stream",
          "text": [
            "\rProcesando URLs:  65%|██████▌   | 65/100 [00:32<00:19,  1.84it/s]"
          ]
        },
        {
          "name": "stdout",
          "output_type": "stream",
          "text": [
            "\n",
            "➡️ Imagen de la receta: Pickle Lemonade\n"
          ]
        },
        {
          "data": {
            "text/html": [
              "<img src=\"https://www.allrecipes.com/thmb/MyFD0iUpCn6bKHs3hYcKa2RIfBc=/1500x0/filters:no_upscale():max_bytes(150000):strip_icc()/11759477-pickle-lemonade-recipe-VAT-001-Beauty-2x1-c8f68bf93a1f408f8f4d3fd1ce6cf43b.jpg\" width=\"300\"/>"
            ],
            "text/plain": [
              "<IPython.core.display.Image object>"
            ]
          },
          "metadata": {},
          "output_type": "display_data"
        },
        {
          "name": "stderr",
          "output_type": "stream",
          "text": [
            "\rProcesando URLs:  66%|██████▌   | 66/100 [00:32<00:17,  1.97it/s]"
          ]
        },
        {
          "name": "stdout",
          "output_type": "stream",
          "text": [
            "\n",
            "➡️ Imagen de la receta: Freddo Cappuccino\n"
          ]
        },
        {
          "data": {
            "text/html": [
              "<img src=\"https://www.allrecipes.com/thmb/UWwIYuRwNIPl1b6bPNoesde5JC8=/1500x0/filters:no_upscale():max_bytes(150000):strip_icc()/11751610-freddo-cappuccino-recipe-VAT-002-beauty-2x1-2c57ed458317416b8020209e67d2e49c.jpg\" width=\"300\"/>"
            ],
            "text/plain": [
              "<IPython.core.display.Image object>"
            ]
          },
          "metadata": {},
          "output_type": "display_data"
        },
        {
          "name": "stderr",
          "output_type": "stream",
          "text": [
            "\rProcesando URLs:  67%|██████▋   | 67/100 [00:33<00:18,  1.76it/s]"
          ]
        },
        {
          "name": "stdout",
          "output_type": "stream",
          "text": [
            "\n",
            "➡️ Imagen de la receta: Copycat Orange Dreamsicle Frosty\n"
          ]
        },
        {
          "data": {
            "text/html": [
              "<img src=\"https://www.allrecipes.com/thmb/vXOEBb9ecanL91MF3z-aFuP_JwM=/1500x0/filters:no_upscale():max_bytes(150000):strip_icc()/11770412_Copycat-Orange-Dreamsicle-Frosty_Yolanda-Gutierrez_2x1-c81f483af4204fe8a947b05e1d311f65.jpg\" width=\"300\"/>"
            ],
            "text/plain": [
              "<IPython.core.display.Image object>"
            ]
          },
          "metadata": {},
          "output_type": "display_data"
        },
        {
          "name": "stderr",
          "output_type": "stream",
          "text": [
            "\rProcesando URLs:  68%|██████▊   | 68/100 [00:33<00:17,  1.84it/s]"
          ]
        },
        {
          "name": "stdout",
          "output_type": "stream",
          "text": [
            "\n",
            "➡️ Imagen de la receta: Cowboy Butter Spaghetti\n"
          ]
        },
        {
          "data": {
            "text/html": [
              "<img src=\"https://www.allrecipes.com/thmb/NN-oQ9JPGsk7Uytp3fq6A_8tCUg=/1500x0/filters:no_upscale():max_bytes(150000):strip_icc()/11763244-cowboy-butter-spaghetti-recipe-VAT-010-beauty-2x1-c0f58a9de4c0440b8d403a0c8dc4c9d4.jpg\" width=\"300\"/>"
            ],
            "text/plain": [
              "<IPython.core.display.Image object>"
            ]
          },
          "metadata": {},
          "output_type": "display_data"
        },
        {
          "name": "stderr",
          "output_type": "stream",
          "text": [
            "\rProcesando URLs:  69%|██████▉   | 69/100 [00:34<00:15,  1.96it/s]"
          ]
        },
        {
          "name": "stdout",
          "output_type": "stream",
          "text": [
            "\n",
            "➡️ Imagen de la receta: Tzatziki Chicken Naan Pizza\n"
          ]
        },
        {
          "data": {
            "text/html": [
              "<img src=\"https://www.allrecipes.com/thmb/Fl5MF40T0fpNtleEPasJs0R8vmM=/1500x0/filters:no_upscale():max_bytes(150000):strip_icc()/11768334_Tzatziki-Chicken-Naan-Pizza_Chef-Mo_2x1-80f711168a994b2895450f58eead7839.jpg\" width=\"300\"/>"
            ],
            "text/plain": [
              "<IPython.core.display.Image object>"
            ]
          },
          "metadata": {},
          "output_type": "display_data"
        },
        {
          "name": "stderr",
          "output_type": "stream",
          "text": [
            "\rProcesando URLs:  70%|███████   | 70/100 [00:34<00:14,  2.13it/s]"
          ]
        },
        {
          "name": "stdout",
          "output_type": "stream",
          "text": [
            "\n",
            "➡️ Imagen de la receta: One-Pan Creamy Chicken and Vegetable Pasta\n"
          ]
        },
        {
          "data": {
            "text/html": [
              "<img src=\"https://www.allrecipes.com/thmb/m01M3h0IHgue_ImC4siOh7Huw7U=/1500x0/filters:no_upscale():max_bytes(150000):strip_icc()/11768915_One-Pan-Creamy-Chicken-Pasta-with-Vegetables_Brenda-Venable_2x1-f11ebfe9166c4c7eb6ef2b2fdfef0f4f.jpg\" width=\"300\"/>"
            ],
            "text/plain": [
              "<IPython.core.display.Image object>"
            ]
          },
          "metadata": {},
          "output_type": "display_data"
        },
        {
          "name": "stderr",
          "output_type": "stream",
          "text": [
            "\rProcesando URLs:  71%|███████   | 71/100 [00:34<00:12,  2.23it/s]"
          ]
        },
        {
          "name": "stdout",
          "output_type": "stream",
          "text": [
            "\n",
            "➡️ Imagen de la receta: Hot Honey Butter Skillet Corn\n"
          ]
        },
        {
          "data": {
            "text/html": [
              "<img src=\"https://www.allrecipes.com/thmb/RON2CvdArMi0s3kN-6gI-3WuEQU=/1500x0/filters:no_upscale():max_bytes(150000):strip_icc()/11768612_Hot-Honey-Butter-Skillet-Corn_Yolamda-Gutierrez_2x1-e8bce41cf96f48cd809624054348fdad.jpg\" width=\"300\"/>"
            ],
            "text/plain": [
              "<IPython.core.display.Image object>"
            ]
          },
          "metadata": {},
          "output_type": "display_data"
        },
        {
          "name": "stderr",
          "output_type": "stream",
          "text": [
            "\rProcesando URLs:  72%|███████▏  | 72/100 [00:35<00:12,  2.27it/s]"
          ]
        },
        {
          "name": "stdout",
          "output_type": "stream",
          "text": [
            "\n",
            "➡️ Imagen de la receta: Mango Ketchup\n"
          ]
        },
        {
          "data": {
            "text/html": [
              "<img src=\"https://www.allrecipes.com/thmb/VXmLlIEcGyrzaZwGVMxvbsRTJQg=/1500x0/filters:no_upscale():max_bytes(150000):strip_icc()/11769418_Mango-Ketchup_Pat-Bernitt_2x1-f853c8220a1c4738b5a2ce314972b504.jpg\" width=\"300\"/>"
            ],
            "text/plain": [
              "<IPython.core.display.Image object>"
            ]
          },
          "metadata": {},
          "output_type": "display_data"
        },
        {
          "name": "stderr",
          "output_type": "stream",
          "text": [
            "\rProcesando URLs:  73%|███████▎  | 73/100 [00:35<00:11,  2.30it/s]"
          ]
        },
        {
          "name": "stdout",
          "output_type": "stream",
          "text": [
            "\n",
            "➡️ Imagen de la receta: Sweet Corn Gazpacho\n"
          ]
        },
        {
          "data": {
            "text/html": [
              "<img src=\"https://www.allrecipes.com/thmb/3_YuOzBJa5f9dgmbRSEBjvMR6iU=/1500x0/filters:no_upscale():max_bytes(150000):strip_icc()/11768539_Sweet-Corn-Gazpacho_Pat-Bernitt_2x1-e51af89a294e49fa9821e225764ae36e.jpg\" width=\"300\"/>"
            ],
            "text/plain": [
              "<IPython.core.display.Image object>"
            ]
          },
          "metadata": {},
          "output_type": "display_data"
        },
        {
          "name": "stderr",
          "output_type": "stream",
          "text": [
            "\rProcesando URLs:  74%|███████▍  | 74/100 [00:36<00:13,  1.93it/s]"
          ]
        },
        {
          "name": "stdout",
          "output_type": "stream",
          "text": [
            "\n",
            "➡️ Imagen de la receta: Lemon Blackberry Blondies\n"
          ]
        },
        {
          "data": {
            "text/html": [
              "<img src=\"https://www.allrecipes.com/thmb/8cXX_MtVfUW4PkNtLE_n5pcN1Mc=/1500x0/filters:no_upscale():max_bytes(150000):strip_icc()/11766059_Lemon-Blackberry-Blondies_Kim-Shupe_2x1-0324841411074ef6987ef4cef8f57272.png\" width=\"300\"/>"
            ],
            "text/plain": [
              "<IPython.core.display.Image object>"
            ]
          },
          "metadata": {},
          "output_type": "display_data"
        },
        {
          "name": "stderr",
          "output_type": "stream",
          "text": [
            "\rProcesando URLs:  75%|███████▌  | 75/100 [00:36<00:12,  2.08it/s]"
          ]
        },
        {
          "name": "stdout",
          "output_type": "stream",
          "text": [
            "\n",
            "➡️ Imagen de la receta: Steak and Broccoli Stir Fry\n"
          ]
        },
        {
          "data": {
            "text/html": [
              "<img src=\"https://www.allrecipes.com/thmb/VQz8mY5Zn24FjbE8llm1ajvSvLg=/1500x0/filters:no_upscale():max_bytes(150000):strip_icc()/11760887_Steak-and-Broccoli-Stir-fry_Shelia-Johnson_2x1-ec6b129a5f2c4c5c9967a4f1d9b31a3c.jpg\" width=\"300\"/>"
            ],
            "text/plain": [
              "<IPython.core.display.Image object>"
            ]
          },
          "metadata": {},
          "output_type": "display_data"
        },
        {
          "name": "stderr",
          "output_type": "stream",
          "text": [
            "\rProcesando URLs:  76%|███████▌  | 76/100 [00:37<00:11,  2.10it/s]"
          ]
        },
        {
          "name": "stdout",
          "output_type": "stream",
          "text": [
            "\n",
            "➡️ Imagen de la receta: Savory Palmiers\n"
          ]
        },
        {
          "data": {
            "text/html": [
              "<img src=\"https://www.allrecipes.com/thmb/VUPTgbQK_47NsJfBrB7lSJHWvF0=/1500x0/filters:no_upscale():max_bytes(150000):strip_icc()/11763621_Savory-Palmiers_LaDonna-Langwell_2x1-da98c9c08d4f416a80df09c05a7081df.jpg\" width=\"300\"/>"
            ],
            "text/plain": [
              "<IPython.core.display.Image object>"
            ]
          },
          "metadata": {},
          "output_type": "display_data"
        },
        {
          "name": "stderr",
          "output_type": "stream",
          "text": [
            "\rProcesando URLs:  77%|███████▋  | 77/100 [00:37<00:10,  2.20it/s]"
          ]
        },
        {
          "name": "stdout",
          "output_type": "stream",
          "text": [
            "\n",
            "➡️ Imagen de la receta: Miso Ramen with Asparagus and Mushrooms\n"
          ]
        },
        {
          "data": {
            "text/html": [
              "<img src=\"https://www.allrecipes.com/thmb/T_MWQnjx3O15EQBpYF4RfMrmFzU=/1500x0/filters:no_upscale():max_bytes(150000):strip_icc()/11765179_Miso-Ramen-with-Asparagus-and-Mushrooms_Nicole-Russell_2x1-9fc5d1b1e9e94f8cb77588cf3eea7a49.jpg\" width=\"300\"/>"
            ],
            "text/plain": [
              "<IPython.core.display.Image object>"
            ]
          },
          "metadata": {},
          "output_type": "display_data"
        },
        {
          "name": "stderr",
          "output_type": "stream",
          "text": [
            "\rProcesando URLs:  78%|███████▊  | 78/100 [00:38<00:09,  2.26it/s]"
          ]
        },
        {
          "name": "stdout",
          "output_type": "stream",
          "text": [
            "\n",
            "➡️ Imagen de la receta: Slow Cooker Beef Tips and Gravy\n"
          ]
        },
        {
          "data": {
            "text/html": [
              "<img src=\"https://www.allrecipes.com/thmb/w855u85-_zkg3Tx34OMHOMZ4orw=/1500x0/filters:no_upscale():max_bytes(150000):strip_icc()/11748455-slow-cooker-beef-tips-and-gravy-recipe-VAT-001-2x1-8429812df304490eb9c9dcaa7eb0dc31.jpg\" width=\"300\"/>"
            ],
            "text/plain": [
              "<IPython.core.display.Image object>"
            ]
          },
          "metadata": {},
          "output_type": "display_data"
        },
        {
          "name": "stderr",
          "output_type": "stream",
          "text": [
            "\rProcesando URLs:  79%|███████▉  | 79/100 [00:38<00:08,  2.33it/s]"
          ]
        },
        {
          "name": "stdout",
          "output_type": "stream",
          "text": [
            "\n",
            "➡️ Imagen de la receta: 4-Ingredient Egg Avocado Toast\n"
          ]
        },
        {
          "data": {
            "text/html": [
              "<img src=\"https://www.allrecipes.com/thmb/glrj7xVjxHMqh9QVCfATY9IPsjE=/1500x0/filters:no_upscale():max_bytes(150000):strip_icc()/11763246_4-Ingredient-Egg-Avocado-Toast_Yolanda-Gutierrez_2x1-09cbe7b7c8d24b9db37e05656632a38b.jpg\" width=\"300\"/>"
            ],
            "text/plain": [
              "<IPython.core.display.Image object>"
            ]
          },
          "metadata": {},
          "output_type": "display_data"
        },
        {
          "name": "stderr",
          "output_type": "stream",
          "text": [
            "\rProcesando URLs:  80%|████████  | 80/100 [00:39<00:10,  1.90it/s]"
          ]
        },
        {
          "name": "stdout",
          "output_type": "stream",
          "text": [
            "\n",
            "➡️ Imagen de la receta: Bacon Jalapeño Corn\n"
          ]
        },
        {
          "data": {
            "text/html": [
              "<img src=\"https://www.allrecipes.com/thmb/G-WEn2Bk2xLo9ugsl2wDCL70l44=/1500x0/filters:no_upscale():max_bytes(150000):strip_icc()/11764770_Bacon-Jalapeno-Corn_Pat-Bernitt_2x1-3b76dea1e4d64e68aac27cd04eb2144d.jpg\" width=\"300\"/>"
            ],
            "text/plain": [
              "<IPython.core.display.Image object>"
            ]
          },
          "metadata": {},
          "output_type": "display_data"
        },
        {
          "name": "stderr",
          "output_type": "stream",
          "text": [
            "\rProcesando URLs:  81%|████████  | 81/100 [00:39<00:09,  2.08it/s]"
          ]
        },
        {
          "name": "stdout",
          "output_type": "stream",
          "text": [
            "\n",
            "➡️ Imagen de la receta: The Easiest 30-Minute Cottage Cheese Muffins You Can Make in a Blender\n"
          ]
        },
        {
          "data": {
            "text/html": [
              "<img src=\"https://www.allrecipes.com/thmb/zrOA4KNX5ly21XDqvYtNdliIfIc=/1500x0/filters:no_upscale():max_bytes(150000):strip_icc()/11744086-cottage-cheese-blender-muffins-VAT-019-2x1-4aa978dcc9c3405a88999c4fefea0543.jpg\" width=\"300\"/>"
            ],
            "text/plain": [
              "<IPython.core.display.Image object>"
            ]
          },
          "metadata": {},
          "output_type": "display_data"
        },
        {
          "name": "stderr",
          "output_type": "stream",
          "text": [
            "\rProcesando URLs:  82%|████████▏ | 82/100 [00:40<00:08,  2.06it/s]"
          ]
        },
        {
          "name": "stdout",
          "output_type": "stream",
          "text": [
            "\n",
            "➡️ Imagen de la receta: Scarborough Fair Roasted Vegetables\n"
          ]
        },
        {
          "data": {
            "text/html": [
              "<img src=\"https://www.allrecipes.com/thmb/y-CT9NRrNzs97CIOzT7wjcPAu2k=/1500x0/filters:no_upscale():max_bytes(150000):strip_icc()/11763940_Scarborough-Fair-Roasted-Vegetables_Brenda-Venable_2x1-a090b5dc6ec5407daeb066750bf31c86.jpg\" width=\"300\"/>"
            ],
            "text/plain": [
              "<IPython.core.display.Image object>"
            ]
          },
          "metadata": {},
          "output_type": "display_data"
        },
        {
          "name": "stderr",
          "output_type": "stream",
          "text": [
            "\rProcesando URLs:  83%|████████▎ | 83/100 [00:40<00:07,  2.13it/s]"
          ]
        },
        {
          "name": "stdout",
          "output_type": "stream",
          "text": [
            "\n",
            "➡️ Imagen de la receta: Strawberry Frozen Yogurt Bark\n"
          ]
        },
        {
          "data": {
            "text/html": [
              "<img src=\"https://www.allrecipes.com/thmb/i3_TGZRHiulSNOVYYMnKpf0xeFg=/1500x0/filters:no_upscale():max_bytes(150000):strip_icc()/11763552_Frozen-Yogurt-Bark_TheDailyGourmet_2x1-5350fc9c98644171954c53409b62bf1f.jpg\" width=\"300\"/>"
            ],
            "text/plain": [
              "<IPython.core.display.Image object>"
            ]
          },
          "metadata": {},
          "output_type": "display_data"
        },
        {
          "name": "stderr",
          "output_type": "stream",
          "text": [
            "\rProcesando URLs:  84%|████████▍ | 84/100 [00:40<00:07,  2.28it/s]"
          ]
        },
        {
          "name": "stdout",
          "output_type": "stream",
          "text": [
            "\n",
            "➡️ Imagen de la receta: French Dip Sliders\n"
          ]
        },
        {
          "data": {
            "text/html": [
              "<img src=\"https://www.allrecipes.com/thmb/zNbXswjfbeSegOSEq2izE7jFShI=/1500x0/filters:no_upscale():max_bytes(150000):strip_icc()/11751199-french-dip-sliders-recipe-VAT-014-2x1-f766b9e1398c45c4ac7acdc3dca53473.jpg\" width=\"300\"/>"
            ],
            "text/plain": [
              "<IPython.core.display.Image object>"
            ]
          },
          "metadata": {},
          "output_type": "display_data"
        },
        {
          "name": "stderr",
          "output_type": "stream",
          "text": [
            "\rProcesando URLs:  85%|████████▌ | 85/100 [00:41<00:06,  2.32it/s]"
          ]
        },
        {
          "name": "stdout",
          "output_type": "stream",
          "text": [
            "\n",
            "➡️ Imagen de la receta: Chicken Tortilla Soup with Charred Corn and Fire-Roasted Tomatoes\n"
          ]
        },
        {
          "data": {
            "text/html": [
              "<img src=\"https://www.allrecipes.com/thmb/tXil0MfcpuPvluPOf4PzakQ5Oys=/1500x0/filters:no_upscale():max_bytes(150000):strip_icc()/11748641-chicken-tortilla-soup-with-charred-corn-and-fire-roasted-tomatoes-recipe-VAT-001-2x1-3123fbd4402a4daab5dcb385f4587d7f.jpg\" width=\"300\"/>"
            ],
            "text/plain": [
              "<IPython.core.display.Image object>"
            ]
          },
          "metadata": {},
          "output_type": "display_data"
        },
        {
          "name": "stderr",
          "output_type": "stream",
          "text": [
            "\rProcesando URLs:  86%|████████▌ | 86/100 [00:42<00:07,  1.96it/s]"
          ]
        },
        {
          "name": "stdout",
          "output_type": "stream",
          "text": [
            "\n",
            "➡️ Imagen de la receta: Fresh Salmon Patties\n"
          ]
        },
        {
          "data": {
            "text/html": [
              "<img src=\"https://www.allrecipes.com/thmb/vaSUdlDfR4JMWfxwLtijTnMuoHo=/1500x0/filters:no_upscale():max_bytes(150000):strip_icc()/11760442_Fresh-Salmon-Patties_TheDailyGourmet_2x1-cca436b6a5a84fbdb9f59220e996c72d.jpg\" width=\"300\"/>"
            ],
            "text/plain": [
              "<IPython.core.display.Image object>"
            ]
          },
          "metadata": {},
          "output_type": "display_data"
        },
        {
          "name": "stderr",
          "output_type": "stream",
          "text": [
            "\rProcesando URLs:  87%|████████▋ | 87/100 [00:42<00:06,  1.92it/s]"
          ]
        },
        {
          "name": "stdout",
          "output_type": "stream",
          "text": [
            "\n",
            "➡️ Imagen de la receta: 15-Minute Creamy Garlic Basil Pasta\n"
          ]
        },
        {
          "data": {
            "text/html": [
              "<img src=\"https://www.allrecipes.com/thmb/J-gUBEbPa4a4IhuG3gGpNnk1NYc=/1500x0/filters:no_upscale():max_bytes(150000):strip_icc()/11759962_10-Minute-Creamy-Garlic-Pasta-Sauce_TheDailyGourmet_2x1-a36d8e1c70d54aa3806981ca20e80b28.jpg\" width=\"300\"/>"
            ],
            "text/plain": [
              "<IPython.core.display.Image object>"
            ]
          },
          "metadata": {},
          "output_type": "display_data"
        },
        {
          "name": "stderr",
          "output_type": "stream",
          "text": [
            "\rProcesando URLs:  88%|████████▊ | 88/100 [00:43<00:06,  1.95it/s]"
          ]
        },
        {
          "name": "stdout",
          "output_type": "stream",
          "text": [
            "\n",
            "➡️ Imagen de la receta: Rhubarb Olive Oil Cake\n"
          ]
        },
        {
          "data": {
            "text/html": [
              "<img src=\"https://www.allrecipes.com/thmb/kpQNlKgSR9w8EGROWi75gxLCu4M=/1500x0/filters:no_upscale():max_bytes(150000):strip_icc()/11760405_Rhubarb-Olive-Oil-Cake_Kim-Shupe_2x1-930c809ee77e41449411d542ae96e9aa.jpg\" width=\"300\"/>"
            ],
            "text/plain": [
              "<IPython.core.display.Image object>"
            ]
          },
          "metadata": {},
          "output_type": "display_data"
        },
        {
          "name": "stderr",
          "output_type": "stream",
          "text": [
            "\rProcesando URLs:  89%|████████▉ | 89/100 [00:43<00:05,  1.96it/s]"
          ]
        },
        {
          "name": "stdout",
          "output_type": "stream",
          "text": [
            "\n",
            "➡️ Imagen de la receta: Grilled Chicken and Strawberry Mason Jar Salad with Poppyseed Dressing\n"
          ]
        },
        {
          "data": {
            "text/html": [
              "<img src=\"https://www.allrecipes.com/thmb/ITVgdWk8hpBZLCy-Lrr2gBTqYPw=/1500x0/filters:no_upscale():max_bytes(150000):strip_icc()/11759592_Grilled-Chicken-and-Strawberry-Mason-Jar-Salad-with-Poppyseed-Dressing_Brenda-Venable_2x1-3a62d3947a834e5bbe97536362eb1092.jpg\" width=\"300\"/>"
            ],
            "text/plain": [
              "<IPython.core.display.Image object>"
            ]
          },
          "metadata": {},
          "output_type": "display_data"
        },
        {
          "name": "stderr",
          "output_type": "stream",
          "text": [
            "\rProcesando URLs:  90%|█████████ | 90/100 [00:44<00:05,  1.99it/s]"
          ]
        },
        {
          "name": "stdout",
          "output_type": "stream",
          "text": [
            "\n",
            "➡️ Imagen de la receta: One-Pan Creamy Baked Salmon and Orzo\n"
          ]
        },
        {
          "data": {
            "text/html": [
              "<img src=\"https://www.allrecipes.com/thmb/rwtJBf62NtNT_ny7-V0rt71XaXU=/1500x0/filters:no_upscale():max_bytes(150000):strip_icc()/11753709_One-Pan-Creamy-Baked-Salmon-and-Orzo_TheDailyGourmet_2x1-dacb4f81258b4b659b3cb6c97fc2a068.jpg\" width=\"300\"/>"
            ],
            "text/plain": [
              "<IPython.core.display.Image object>"
            ]
          },
          "metadata": {},
          "output_type": "display_data"
        },
        {
          "name": "stderr",
          "output_type": "stream",
          "text": [
            "\rProcesando URLs:  91%|█████████ | 91/100 [00:44<00:04,  2.01it/s]"
          ]
        },
        {
          "name": "stdout",
          "output_type": "stream",
          "text": [
            "\n",
            "➡️ Imagen de la receta: These Naturally Blue Blueberry Cookies Will Win Your Summertime Potlucks\n"
          ]
        },
        {
          "data": {
            "text/html": [
              "<img src=\"https://www.allrecipes.com/thmb/8i2n4umIqP4zsRCko4wtWKzErsU=/1500x0/filters:no_upscale():max_bytes(150000):strip_icc()/11759886_Best-Ever-Blueberry-Cookies_Kim_2x1-55df7baa993e4db0be1d5919625fbe05.jpg\" width=\"300\"/>"
            ],
            "text/plain": [
              "<IPython.core.display.Image object>"
            ]
          },
          "metadata": {},
          "output_type": "display_data"
        },
        {
          "name": "stderr",
          "output_type": "stream",
          "text": [
            "\rProcesando URLs:  92%|█████████▏| 92/100 [00:45<00:04,  1.84it/s]"
          ]
        },
        {
          "name": "stdout",
          "output_type": "stream",
          "text": [
            "\n",
            "➡️ Imagen de la receta: Homemade Protein Powder\n"
          ]
        },
        {
          "data": {
            "text/html": [
              "<img src=\"https://www.allrecipes.com/thmb/ao6cnePxtBrlYYOmcPOwCH3KiUc=/1500x0/filters:no_upscale():max_bytes(150000):strip_icc()/11751215HomemadeProteinPowderTheDailyuGourmet4x2-0c87d52d8e2549a4b12a690f067eba75.jpg\" width=\"300\"/>"
            ],
            "text/plain": [
              "<IPython.core.display.Image object>"
            ]
          },
          "metadata": {},
          "output_type": "display_data"
        },
        {
          "name": "stderr",
          "output_type": "stream",
          "text": [
            "\rProcesando URLs:  93%|█████████▎| 93/100 [00:45<00:03,  1.95it/s]"
          ]
        },
        {
          "name": "stdout",
          "output_type": "stream",
          "text": [
            "\n",
            "➡️ Imagen de la receta: Lemon Garlic Butter Beans\n"
          ]
        },
        {
          "data": {
            "text/html": [
              "<img src=\"https://www.allrecipes.com/thmb/Xf7jQjIBPXoxVytIi7GgvzCGRUI=/1500x0/filters:no_upscale():max_bytes(150000):strip_icc()/11756738_Lemon-Garlic-Butter-Beans_Pat-Bernitt_2x1-de35a7dfe8eb425a9b6a49213370cecd.jpg\" width=\"300\"/>"
            ],
            "text/plain": [
              "<IPython.core.display.Image object>"
            ]
          },
          "metadata": {},
          "output_type": "display_data"
        },
        {
          "name": "stderr",
          "output_type": "stream",
          "text": [
            "\rProcesando URLs:  94%|█████████▍| 94/100 [00:46<00:02,  2.06it/s]"
          ]
        },
        {
          "name": "stdout",
          "output_type": "stream",
          "text": [
            "\n",
            "➡️ Imagen de la receta: 4-Ingredient Pesto Tortellini Bake\n"
          ]
        },
        {
          "data": {
            "text/html": [
              "<img src=\"https://www.allrecipes.com/thmb/tlSrj96E-0woN3UGsHYFdFiNx1M=/1500x0/filters:no_upscale():max_bytes(150000):strip_icc()/11748620-4-ingredient-pesto-tortellini-bake-recipe-VAT-001-2x1-a673c48724d64b6e8c7f2cffa3bf95d1.jpg\" width=\"300\"/>"
            ],
            "text/plain": [
              "<IPython.core.display.Image object>"
            ]
          },
          "metadata": {},
          "output_type": "display_data"
        },
        {
          "name": "stderr",
          "output_type": "stream",
          "text": [
            "\rProcesando URLs:  95%|█████████▌| 95/100 [00:46<00:02,  2.11it/s]"
          ]
        },
        {
          "name": "stdout",
          "output_type": "stream",
          "text": [
            "\n",
            "➡️ Imagen de la receta: Iced London Fog\n"
          ]
        },
        {
          "data": {
            "text/html": [
              "<img src=\"https://www.allrecipes.com/thmb/1dybvrLLaPLvZCoB2TcQJH3I5f8=/1500x0/filters:no_upscale():max_bytes(150000):strip_icc()/11752200_Iced-London-Fog_YolandaGutierrez_2x1-afc84cd8738b40f289ab4c68d098d52a.jpg\" width=\"300\"/>"
            ],
            "text/plain": [
              "<IPython.core.display.Image object>"
            ]
          },
          "metadata": {},
          "output_type": "display_data"
        },
        {
          "name": "stderr",
          "output_type": "stream",
          "text": [
            "\rProcesando URLs:  96%|█████████▌| 96/100 [00:46<00:01,  2.17it/s]"
          ]
        },
        {
          "name": "stdout",
          "output_type": "stream",
          "text": [
            "\n",
            "➡️ Imagen de la receta: Sheet Pan Za'atar Chicken Thighs and Vegetables\n"
          ]
        },
        {
          "data": {
            "text/html": [
              "<img src=\"https://www.allrecipes.com/thmb/fqTlgPGZyJnEqpoOJ-JhdVn_8gs=/1500x0/filters:no_upscale():max_bytes(150000):strip_icc()/11753376_Sheet-Pan-Zaatar-Chicken-Thighs-and-Vegetables_Brenda-Venable_2x1-a166342bb46f4e05af05e4ab0b67e1c3.jpg\" width=\"300\"/>"
            ],
            "text/plain": [
              "<IPython.core.display.Image object>"
            ]
          },
          "metadata": {},
          "output_type": "display_data"
        },
        {
          "name": "stderr",
          "output_type": "stream",
          "text": [
            "\rProcesando URLs:  97%|█████████▋| 97/100 [00:47<00:01,  2.27it/s]"
          ]
        },
        {
          "name": "stdout",
          "output_type": "stream",
          "text": [
            "\n",
            "➡️ Imagen de la receta: Smoked Queso Dip\n"
          ]
        },
        {
          "data": {
            "text/html": [
              "<img src=\"https://www.allrecipes.com/thmb/-EKv9IjH6zbRTfGe9MJj07afCWA=/1500x0/filters:no_upscale():max_bytes(150000):strip_icc()/11754302_Smoked-Queso-Dip_Nicole-Russell_2x1-40ca3d86c1de4799ad83f354aa32ff2c.jpg\" width=\"300\"/>"
            ],
            "text/plain": [
              "<IPython.core.display.Image object>"
            ]
          },
          "metadata": {},
          "output_type": "display_data"
        },
        {
          "name": "stderr",
          "output_type": "stream",
          "text": [
            "\rProcesando URLs:  98%|█████████▊| 98/100 [00:47<00:00,  2.22it/s]"
          ]
        },
        {
          "name": "stdout",
          "output_type": "stream",
          "text": [
            "\n",
            "➡️ Imagen de la receta: Pineapple Teriyaki Chicken\n"
          ]
        },
        {
          "data": {
            "text/html": [
              "<img src=\"https://www.allrecipes.com/thmb/AvPa045EOzvnUDOBmulhf0wK3j4=/1500x0/filters:no_upscale():max_bytes(150000):strip_icc()/11739737-Pineapple-Teriyaki-Chicken-VAT-011-2x1-f1e2b55fb2a84c519274150dfb4a77ed.jpg\" width=\"300\"/>"
            ],
            "text/plain": [
              "<IPython.core.display.Image object>"
            ]
          },
          "metadata": {},
          "output_type": "display_data"
        },
        {
          "name": "stderr",
          "output_type": "stream",
          "text": [
            "\rProcesando URLs:  99%|█████████▉| 99/100 [00:48<00:00,  1.79it/s]"
          ]
        },
        {
          "name": "stdout",
          "output_type": "stream",
          "text": [
            "\n",
            "➡️ Imagen de la receta: Frozen Peach Bellini\n"
          ]
        },
        {
          "data": {
            "text/html": [
              "<img src=\"https://www.allrecipes.com/thmb/QfRLsGdfJhxxbt6siW9as_WC2MA=/1500x0/filters:no_upscale():max_bytes(150000):strip_icc()/11751640_Frozen-Peach-Bellini_Kim-Shupe_2x1-d650d60ef18b4f4487df22e6a762d51b.jpg\" width=\"300\"/>"
            ],
            "text/plain": [
              "<IPython.core.display.Image object>"
            ]
          },
          "metadata": {},
          "output_type": "display_data"
        },
        {
          "name": "stderr",
          "output_type": "stream",
          "text": [
            "Procesando URLs: 100%|██████████| 100/100 [00:49<00:00,  2.04it/s]\n"
          ]
        }
      ],
      "source": [
        "# Iterar por cada URL\n",
        "from IPython.display import Image, display\n",
        "for i, url in enumerate(tqdm(df['Receta_URL'], desc=\"Procesando URLs\")):\n",
        "    try:\n",
        "        response = requests.get(url, headers=headers)\n",
        "        response.raise_for_status()\n",
        "        soup = BeautifulSoup(response.content, 'html.parser')\n",
        "\n",
        "        ### Nombre (Título de la receta principal)\n",
        "        h1 = soup.find('h1')\n",
        "        df.at[i, 'Nombre'] = h1.get_text(strip=True) if h1 else 'No encontrado'\n",
        "\n",
        "        ### Descripción (og:title)\n",
        "\n",
        "        title = soup.find(\"meta\", {\"property\": \"og:title\"})[\"content\"]\n",
        "        description = soup.find(\"meta\", attrs={\"name\": \"description\"})[\"content\"]\n",
        "        df.at[i, 'Descripción'] = description\n",
        "\n",
        "        rating = soup.select_one(\"#mm-recipes-review-bar__rating_1-0\")\n",
        "        df.at[i, 'Rating'] = rating.get_text(strip=True) if rating else 'No encontrado'\n",
        "\n",
        "\n",
        "        ### Ingredientes\n",
        "        ingredientes_list = soup.find_all(\"li\", class_=\"mm-recipes-structured-ingredients__list-item\")\n",
        "        ingredientes_text = [ingrediente.get_text(strip=True) for ingrediente in ingredientes_list]\n",
        "        df.at[i, 'Ingredientes'] = ', '.join(ingredientes_text) if ingredientes_text else 'No encontrado'\n",
        "\n",
        "        ### Preparación / Pasos\n",
        "        pasos_section = soup.find_all(\"li\", class_=\"mntl-sc-block-group--LI\")\n",
        "        pasos_text = []\n",
        "        if pasos_section:\n",
        "            for j, step in enumerate(pasos_section, 1):\n",
        "                texto = step.get_text(strip=True)\n",
        "                if texto:\n",
        "                    pasos_text.append(f\"{j}. {texto}\")\n",
        "        df.at[i, 'Preparación'] = ' '.join(pasos_text) if pasos_text else 'No encontrado'\n",
        "\n",
        "        ### Información Nutricional\n",
        "        nutrition_table = soup.find(\"table\", class_=\"mm-recipes-nutrition-facts-summary__table\")\n",
        "        nutricion = []\n",
        "        if nutrition_table:\n",
        "            rows = nutrition_table.find_all(\"tr\")\n",
        "            for row in rows:\n",
        "                cols = row.find_all(\"td\")\n",
        "                if len(cols) == 2:\n",
        "                    label = cols[0].get_text(strip=True)\n",
        "                    value = cols[1].get_text(strip=True)\n",
        "                    nutricion.append(f\"{label}: {value}\")\n",
        "        df.at[i, 'Información_nutricional'] = ', '.join(nutricion) if nutricion else 'No encontrado'\n",
        "\n",
        "        ### Detalles adicionales\n",
        "        detalles = soup.select(\".mm-recipes-details__item\")\n",
        "        detalles_text = []\n",
        "        for item in detalles:\n",
        "            label = item.select_one(\".mm-recipes-details__label\")\n",
        "            value = item.select_one(\".mm-recipes-details__value\")\n",
        "            if label and value:\n",
        "                detalles_text.append(f\"{label.get_text(strip=True)}: {value.get_text(strip=True)}\")\n",
        "        df.at[i, 'Detalles'] = ', '.join(detalles_text) if detalles_text else 'No encontrado'\n",
        "\n",
        "        ### Rating\n",
        "        rating = soup.select_one(\"#mm-recipes-review-bar__rating_1-0\")\n",
        "        df.at[i, 'Rating'] = rating.get_text(strip=True) if rating else 'No encontrado'\n",
        "\n",
        "        ### Comentarios\n",
        "        comentarios = []\n",
        "        for r in soup.select(\".photo-dialog__item\"):\n",
        "            author = r.select_one(\".photo-dialog__profile--linked\")\n",
        "            date = r.select_one(\".ugc-review__date\")\n",
        "            text = r.select_one(\".ugc-review__text\")\n",
        "            stars = len(r.select(\".ugc-review__rating svg.icon-star\"))\n",
        "            if author and date and text and stars > 0:\n",
        "                comentarios.append(f\"{author.text.strip()} ({date.text.strip()} - {stars}/5): {text.text.strip()}\")\n",
        "            if len(comentarios) == 5:\n",
        "                break\n",
        "        df.at[i, 'Comentarios'] = '\\n'.join(comentarios) if comentarios else 'No se encontraron comentarios'\n",
        "        ### Imagen\n",
        "        image_meta = soup.find(\"meta\", property=\"og:image\")\n",
        "        image_url = image_meta[\"content\"] if image_meta else None\n",
        "        df.at[i, 'image_url'] = image_url if image_url else 'No disponible'\n",
        "\n",
        "        if image_url:\n",
        "            print(f\"\\n➡️ Imagen de la receta: {df.at[i, 'Nombre']}\")\n",
        "            display(Image(url=image_url, width=300))  # tamaño reducido\n",
        "        else:\n",
        "            print(\"No se encontró imagen.\")\n",
        "\n",
        "    except Exception as e:\n",
        "        print(f\"❌ Error procesando la URL {url}: {e}\")\n",
        "        df.at[i, 'Nombre'] = 'Error'\n",
        "        df.at[i, 'Ingredientes'] = 'Error'\n",
        "        df.at[i, 'Image'] = 'Error'\n",
        "        df.at[i, 'Preparación'] = 'Error'\n",
        "        df.at[i, 'Descripción'] = 'Error'\n",
        "        df.at[i, 'Información_nutricional'] = 'Error'\n",
        "        df.at[i, 'Detalles'] = 'Error'\n",
        "        df.at[i, 'Rating'] = 'Error'\n",
        "        df.at[i, 'Comentarios'] = 'Error'"
      ]
    },
    {
      "cell_type": "code",
      "execution_count": null,
      "metadata": {
        "colab": {
          "base_uri": "https://localhost:8080/"
        },
        "id": "l6t45-hS-RGY",
        "outputId": "61025597-27ab-4cba-b2b4-fa84402c5480"
      },
      "outputs": [
        {
          "name": "stdout",
          "output_type": "stream",
          "text": [
            "                      Nombre  \\\n",
            "0  Air Fryer Corn on The Cob   \n",
            "1   Air Fryer Peanut Chicken   \n",
            "2    Air Fryer Crispy Onions   \n",
            "\n",
            "                                           image_url  \n",
            "0  https://www.allrecipes.com/thmb/I8WwP6n5uVghfO...  \n",
            "1  https://www.allrecipes.com/thmb/ZPso-oD-mSkW2H...  \n",
            "2  https://www.allrecipes.com/thmb/1RR3GTpLuhuOSW...  \n"
          ]
        }
      ],
      "source": [
        "print(df[['Nombre', 'image_url']].head(3))\n"
      ]
    },
    {
      "cell_type": "code",
      "execution_count": null,
      "metadata": {
        "id": "Kk0qfStEmYGc"
      },
      "outputs": [],
      "source": [
        "def clean_text(raw_text):\n",
        "    \"\"\"\n",
        "    Preprocesa texto eliminando caracteres especiales, palabras vacías (stopwords),\n",
        "    y dejando solo palabras relevantes.\n",
        "\n",
        "    Args:\n",
        "        raw_text (str): Texto original a procesar.\n",
        "\n",
        "    Returns:\n",
        "        str: Texto limpio y preprocesado.\n",
        "    \"\"\"\n",
        "    # Convertir a minúsculas\n",
        "    raw_text = raw_text.lower()\n",
        "    # Sustituir caracteres especiales por espacios\n",
        "    raw_text = re.sub(r'[^a-zA-Z]', ' ', raw_text)\n",
        "    # Tokenizar texto\n",
        "    tokens = word_tokenize(raw_text)\n",
        "    # Filtrar palabras que no sean relevantes (stopwords y palabras cortas)\n",
        "    meaningful_words = filter(lambda word: word not in stop_words and len(word) > 2, tokens)\n",
        "    return ' '.join(meaningful_words)"
      ]
    },
    {
      "cell_type": "code",
      "execution_count": null,
      "metadata": {
        "colab": {
          "base_uri": "https://localhost:8080/"
        },
        "id": "I28q4KCZnKEx",
        "outputId": "98629ebd-8fb6-4961-aed8-4fa46165eefd"
      },
      "outputs": [
        {
          "name": "stderr",
          "output_type": "stream",
          "text": [
            "[nltk_data] Downloading package punkt_tab to /root/nltk_data...\n",
            "[nltk_data]   Unzipping tokenizers/punkt_tab.zip.\n"
          ]
        },
        {
          "data": {
            "text/plain": [
              "True"
            ]
          },
          "execution_count": 13,
          "metadata": {},
          "output_type": "execute_result"
        }
      ],
      "source": [
        "import nltk\n",
        "nltk.download('punkt_tab')"
      ]
    },
    {
      "cell_type": "code",
      "execution_count": null,
      "metadata": {
        "colab": {
          "base_uri": "https://localhost:8080/"
        },
        "id": "PdPatMUYmx_n",
        "outputId": "ac93e5ac-aac2-431b-8ed0-b8d108a00959"
      },
      "outputs": [
        {
          "name": "stderr",
          "output_type": "stream",
          "text": [
            "/tmp/ipython-input-67-4006254799.py:2: SettingWithCopyWarning: \n",
            "A value is trying to be set on a copy of a slice from a DataFrame.\n",
            "Try using .loc[row_indexer,col_indexer] = value instead\n",
            "\n",
            "See the caveats in the documentation: https://pandas.pydata.org/pandas-docs/stable/user_guide/indexing.html#returning-a-view-versus-a-copy\n",
            "  df['corpus'] = (\n",
            "/tmp/ipython-input-67-4006254799.py:15: SettingWithCopyWarning: \n",
            "A value is trying to be set on a copy of a slice from a DataFrame.\n",
            "Try using .loc[row_indexer,col_indexer] = value instead\n",
            "\n",
            "See the caveats in the documentation: https://pandas.pydata.org/pandas-docs/stable/user_guide/indexing.html#returning-a-view-versus-a-copy\n",
            "  df['tokens'] = df['corpus'].apply(clean_text)\n"
          ]
        }
      ],
      "source": [
        "# Combinar columnas relevantes en un solo campo corpus\n",
        "df['corpus'] = (\n",
        "    df['Nombre'].fillna('') + ' ' +\n",
        "    df['Rating'].fillna('') + ' ' +\n",
        "    df['Descripción'].fillna('') + ' ' +\n",
        "    df['Ingredientes'].fillna('') + ' ' +\n",
        "    df['image_url'].fillna('') + ' ' +\n",
        "    df['Preparación'].fillna('') + ' ' +\n",
        "    df['Información_nutricional'].fillna('') + ' ' +\n",
        "    df['Detalles'].fillna('') + ' ' +\n",
        "    df['Comentarios'].fillna('')\n",
        ")\n",
        "\n",
        "# Aplicar función de limpieza a todo el corpus\n",
        "df['tokens'] = df['corpus'].apply(clean_text)"
      ]
    },
    {
      "cell_type": "code",
      "execution_count": null,
      "metadata": {
        "id": "LKGQ4PuMnVLH"
      },
      "outputs": [],
      "source": [
        "# Generación de embeddings utilizando TF-IDF\n",
        "tfidf_vectorizer = TfidfVectorizer(max_features=1000)\n",
        "recipe_embeddings = tfidf_vectorizer.fit_transform(df['tokens'])"
      ]
    },
    {
      "cell_type": "code",
      "execution_count": null,
      "metadata": {
        "id": "sYRD75a3nuC0"
      },
      "outputs": [],
      "source": [
        "from sklearn.metrics.pairwise import cosine_similarity\n",
        "\n",
        "def search_similar_recipes(user_query, embedding_matrix, recipe_df, tfidf_vectorizer):\n",
        "    \"\"\"\n",
        "    Busca recetas similares a una consulta proporcionada por el usuario usando similitud de coseno.\n",
        "\n",
        "    \"\"\"\n",
        "\n",
        "    # Preprocess the user query\n",
        "    processed_query = clean_text(user_query)\n",
        "    # tfidf expects a string, not a list of tokens\n",
        "    joined_query = \" \".join(processed_query.split())\n",
        "\n",
        "    # Vectorize the query\n",
        "    query_embedding = tfidf_vectorizer.transform([joined_query])\n",
        "\n",
        "    # Calculate cosine similarities\n",
        "    similarity_scores = cosine_similarity(query_embedding, embedding_matrix).flatten()\n",
        "\n",
        "    # Add similarity scores to a copy of the DataFrame\n",
        "    recipe_df = recipe_df.copy()\n",
        "    recipe_df['similarity'] = similarity_scores\n",
        "\n",
        "    # Sort and select the top 10 recipes\n",
        "    top_recipes = recipe_df.sort_values(by='similarity', ascending=False).head(10)\n",
        "\n",
        "    # Return all relevant columns for printing\n",
        "    return top_recipes[['Nombre', 'Ingredientes', 'image_url', 'Preparación', 'Información_nutricional', 'Rating', 'similarity', 'Descripción', 'Detalles', 'Comentarios', 'Receta_URL', 'cluster']]"
      ]
    },
    {
      "cell_type": "code",
      "execution_count": null,
      "metadata": {
        "colab": {
          "base_uri": "https://localhost:8080/"
        },
        "id": "AAbZFFf7ngLB",
        "outputId": "25a72de3-dd86-487b-9029-9700f9cc865e"
      },
      "outputs": [
        {
          "name": "stdout",
          "output_type": "stream",
          "text": [
            "Realizando clustering con K-means...\n"
          ]
        },
        {
          "name": "stderr",
          "output_type": "stream",
          "text": [
            "/tmp/ipython-input-69-3356880454.py:18: SettingWithCopyWarning: \n",
            "A value is trying to be set on a copy of a slice from a DataFrame.\n",
            "Try using .loc[row_indexer,col_indexer] = value instead\n",
            "\n",
            "See the caveats in the documentation: https://pandas.pydata.org/pandas-docs/stable/user_guide/indexing.html#returning-a-view-versus-a-copy\n",
            "  df['cluster'] = cluster_recipes(recipe_embeddings, num_clusters=10)\n"
          ]
        }
      ],
      "source": [
        "def cluster_recipes(embedding_matrix, num_clusters=10):\n",
        "    \"\"\"\n",
        "    Realiza agrupamiento (clustering) de recetas basado en los embeddings generados.\n",
        "\n",
        "    Args:\n",
        "        embedding_matrix (sparse matrix): Matriz de embeddings generada.\n",
        "        num_clusters (int): Número de clusters a formar.\n",
        "\n",
        "    Returns:\n",
        "        list: Etiquetas de cluster asignadas a cada receta.\n",
        "    \"\"\"\n",
        "    print(\"Realizando clustering con K-means...\")\n",
        "    kmeans_model = KMeans(n_clusters=num_clusters, random_state=42)\n",
        "    cluster_labels = kmeans_model.fit_predict(embedding_matrix)\n",
        "    return cluster_labels\n",
        "\n",
        "# Agregar etiquetas de cluster a los datos\n",
        "df['cluster'] = cluster_recipes(recipe_embeddings, num_clusters=10)"
      ]
    },
    {
      "cell_type": "code",
      "execution_count": null,
      "metadata": {
        "colab": {
          "base_uri": "https://localhost:8080/",
          "height": 1000
        },
        "id": "jgeU7VnCn_pz",
        "outputId": "670a3b37-da66-4aaf-eff7-d40a60f03a1c"
      },
      "outputs": [
        {
          "name": "stdout",
          "output_type": "stream",
          "text": [
            "Recetas similares encontradas:\n",
            "\n",
            "\n",
            "Receta: Lemon Garlic Butter Chicken Spiedini\n",
            "URL: https://www.allrecipes.com/lemon-garlic-butter-chicken-spiedini-recipe-8727930\n",
            "Similitud: 0.4507\n",
            "Cluster: 2\n",
            "            \n",
            "Rating: 4.7\n",
            "\n",
            "Descripción:\n",
            "These lemon garlic butter chicken spiedini are air-fried crispy, golden breaded chicken skewers with a light lemon garlic butter drizzle.\n",
            "\n",
            "Ingredientes:\n",
            "- 1/2cupextra-virgin olive oil\n",
            "- 1/4cupwhite wine\n",
            "- such as Pinot Grigio\n",
            "- 3tablespoonslemon juice\n",
            "- divided\n",
            "- 1teaspoonlemon zest\n",
            "- 4clovesgarlic\n",
            "- finely minced\n",
            "- divided\n",
            "- 1/4teaspooncrushed red pepper flakes\n",
            "- 1/4teaspoondriedoregano\n",
            "- 2teaspoonskosher salt\n",
            "- divided\n",
            "- 1teaspoonfreshly ground blackpepper\n",
            "- divided\n",
            "- 2poundsskinless boneless chicken thighs\n",
            "- cut into 1 1/2 inch pieces\n",
            "- 2/3cupItalian breadcrumbs\n",
            "- 2/3cuppanko\n",
            "- 1/2cupgrated Parmesan cheese\n",
            "- 1/2teaspoongarlic powder\n",
            "- 6 (6 to 8 inch)skewers\n",
            "- olive oilcooking spray\n",
            "- 4tablespoonsbutter\n",
            "- 2teaspoonsfinely choppedfresh parsley\n",
            "\n",
            "Pasos:\n",
            "1. 1\n",
            "2. Whisk together olive oil, wine, 2 tablespoons lemon juice, lemon zest, 1/2 of the garlic, crushed red pepper, oregano, 1 teaspoon salt, and 1/2 teaspoon pepper in a bowl\n",
            "3. Add chicken and toss to coat\n",
            "4. Cover and refrigerate 30 minutes to 1 hour\n",
            "5. 2\n",
            "6. Stir together remaining salt and pepper with bread crumbs, panko, Parmesan cheese, and garlic powder in a shallow dish\n",
            "7. Remove chicken from marinade and toss to coat in breadcrumb mixture, pressing to adhere as necessary\n",
            "8. Thread chicken onto skewers and coat with olive oil cooking spray\n",
            "9. 3\n",
            "10. Preheat an air fryer to 390 degrees F (198 degrees C)\n",
            "11. Air fry until chicken is no longer pink at the center and juices run clear, and is until lightly golden brown and crisp, about 12 minutes\n",
            "12. An instant read thermometer, inserted near the center, should read 165 degrees F (74 degrees C)\n",
            "13. 4\n",
            "14. Meanwhile, melt butter with remaining garlic in a microwave-safe dish on High in the microwave, about 10 seconds\n",
            "15. Stir in remaining lemon juice and parsley\n",
            "16. Drizzle butter mixture over chicken just before serving\n",
            "17. Dotdash Meredith Food StudiosFrom the EditorNutrition data for this recipe includes the full amount of breading and marinade ingredients\n",
            "18. The actual amount of breading and marinade consumed will vary\n",
            "\n",
            "Imagen:\n"
          ]
        },
        {
          "data": {
            "text/html": [
              "<img src=\"https://www.allrecipes.com/thmb/999Nazx_EH8i52qMxw9JojHlMME=/1500x0/filters:no_upscale():max_bytes(150000):strip_icc()/8727930_Lemon-Garlic-Butter-Chicken-Spiedini_Dotdash-Meredith-Food-Studios_2x1-63ade32e4ea042cba5d14dd719acd75e.jpg\" width=\"300\"/>"
            ],
            "text/plain": [
              "<IPython.core.display.Image object>"
            ]
          },
          "metadata": {},
          "output_type": "display_data"
        },
        {
          "name": "stdout",
          "output_type": "stream",
          "text": [
            "\n",
            "\n",
            "Información nutricional:\n",
            "636: Calories, 41g: Fat, 21g: Carbs, 43g: Protein\n",
            "\n",
            "Detalles:\n",
            "Prep Time:: 15 mins, Cook Time:: 15 mins, Total Time:: 30 mins, Servings:: 6\n",
            "\n",
            "Comentarios:\n",
            "WendyH (01/02/2025 - 2/5): Extremely oily and soggy tasting. Flavor of garlic was good. May be better with chicken breast meat, but way too much oil from the marinade.\n",
            "Russ (11/24/2024 - 4/5): I made these a few evenings ago exactly per the recipe. They were pretty good. For my taste, they just still need *something...although I'll make them again for sure. Next time perhaps some type of paprika, or minced jalapeno...I liked using the skewers, and I will definitely revisit this one. r-\n",
            "\n",
            "============================================================\n",
            "\n",
            "\n",
            "Receta: Air Fryer Chicken Bites\n",
            "URL: https://www.allrecipes.com/air-fryer-chicken-bites-recipe-8599352\n",
            "Similitud: 0.4141\n",
            "Cluster: 2\n",
            "            \n",
            "Rating: 4.0\n",
            "\n",
            "Descripción:\n",
            "These air fryer chicken bites, seasoned with lemon, garlic, and Italian herbs, are a perfect addition to an appetizer tray, great to add to a salad, or as a main dish for a family dinner.\n",
            "\n",
            "Ingredientes:\n",
            "- 1poundskinless\n",
            "- boneless chicken breasts\n",
            "- cut into bite-sized pieces\n",
            "- 3tablespoonsbutter\n",
            "- melted\n",
            "- 1tablespoonolive oil\n",
            "- 1teaspoonlemon juice\n",
            "- or to taste\n",
            "- 3clovesgarlic\n",
            "- minced\n",
            "- 1teaspoonItalian seasoning\n",
            "- 1teaspoonsalt\n",
            "- 1teaspoonpaprika\n",
            "- 1/2teaspooncayenne pepper (optional)\n",
            "\n",
            "Pasos:\n",
            "1. 1\n",
            "2. Preheat an air fryer to 350 degrees F (175 degrees C) setting  for 5 minutes\n",
            "3. 2\n",
            "4. Stir melted butter, olive oil, lemon juice, garlic, Italian seasoning, salt, paprika, and cayenne together in a large bowl\n",
            "5. Add chicken pieces, and toss to coat thoroughly\n",
            "6. Place chicken pieces in a single layer in the air fryer basket\n",
            "7. You may have to cook them in batches\n",
            "8. 3\n",
            "9. Air fry in the preheated fryer until chicken is no longer pink at the center and juices run clear, 8 to 10 minutes\n",
            "10. An instant-read thermometer inserted near the center should read 165 degrees F (74 degrees C)\n",
            "\n",
            "Imagen:\n"
          ]
        },
        {
          "data": {
            "text/html": [
              "<img src=\"https://www.allrecipes.com/thmb/WxGLl7CvP7EdqfE7lHqHg2J_g3g=/1500x0/filters:no_upscale():max_bytes(150000):strip_icc()/8599352_Air-Fryer-Chicken-Bites_TheDailyGourmet_2x1-baf3eb665de94962a55d759e2a025cab.jpg\" width=\"300\"/>"
            ],
            "text/plain": [
              "<IPython.core.display.Image object>"
            ]
          },
          "metadata": {},
          "output_type": "display_data"
        },
        {
          "name": "stdout",
          "output_type": "stream",
          "text": [
            "\n",
            "\n",
            "Información nutricional:\n",
            "299: Calories, 16g: Fat, 1g: Carbs, 36g: Protein\n",
            "\n",
            "Detalles:\n",
            "Prep Time:: 10 mins, Cook Time:: 10 mins, Total Time:: 20 mins, Servings:: 4\n",
            "\n",
            "Comentarios:\n",
            "No se encontraron comentarios\n",
            "\n",
            "============================================================\n",
            "\n",
            "\n",
            "Receta: Air Fryer Lemon Garlic Parmesan Chicken\n",
            "URL: https://www.allrecipes.com/air-fryer-lemon-garlic-parmesan-chicken-recipe-8726749\n",
            "Similitud: 0.4126\n",
            "Cluster: 2\n",
            "            \n",
            "Rating: 5.0\n",
            "\n",
            "Descripción:\n",
            "These simple lemon garlic Parmesan chicken thighs are cooked in the air fryer. Seasoned with lemon zest, garlic, and oregano and coated in Parmesan cheese they come out juicy and tender\n",
            "\n",
            "Ingredientes:\n",
            "- 1 1/2poundsskinless boneless chicken thighs\n",
            "- 3clovesgarlic\n",
            "- minced\n",
            "- 1teaspoonlemon zest\n",
            "- 1teaspoonpaprika\n",
            "- 1teaspoondried oregano\n",
            "- 1/2teaspoonsalt\n",
            "- 1/4teaspooncrushed red pepper\n",
            "- 1/2cupfreshlygrated parmesan cheese\n",
            "- 1/4cuppanko bread crumbs\n",
            "- cooking spray\n",
            "\n",
            "Pasos:\n",
            "1. 1\n",
            "2. Gather all ingredients\n",
            "3. Dotdash Meredith Food Studios 2\n",
            "4. Preheat an air fryer to 400 degrees F (200 degrees C)\n",
            "5. 3\n",
            "6. Place chicken in a large bowl\n",
            "7. Add garlic, lemon zest, paprika, oregano, salt, and crushed red pepper; toss to coat chicken in the seasonings\n",
            "8. Dotdash Meredith Food Studios 4\n",
            "9. Combine Parmesan cheese and panko in a shallow dish\n",
            "10. Dredge chicken in Parmesan mixture to coat\n",
            "11. Sprinkle any remaining mixture over chicken; pat to adhere\n",
            "12. Dotdash Meredith Food Studios 5\n",
            "13. Coat the chicken generously with cooking spray\n",
            "14. Dotdash Meredith Food Studios 6\n",
            "15. Lightly coat air fryer basket with cooking spray\n",
            "16. Place chicken in prepared basket (cook in batches, if needed)\n",
            "17. Air fry 12 minutes or until an instant-read thermometer inserted in the center reads 170 degrees F (77 degrees C)\n",
            "18. Dotdash Meredith Food Studios 7\n",
            "19. Serve immediately\n",
            "20. Dotdash Meredith Food StudiosRecipe TipServe with a simple salad\n",
            "21. Whisk together 3 tablespoons lemon juice, 3 tablespoons olive oil, and 1 tablespoon honey in a large bowl\n",
            "22. Add 6 cups baby arugula and/or baby spinach and toss to coat\n",
            "\n",
            "Imagen:\n"
          ]
        },
        {
          "data": {
            "text/html": [
              "<img src=\"https://www.allrecipes.com/thmb/MytE4jMULSpAqrL9g90gz8XHWBk=/1500x0/filters:no_upscale():max_bytes(150000):strip_icc()/8726749-Air-Fryer-Lemon-Garlic-Parmesan-Chicken-ddmfs-5770-2x1-beauty-6b2078b5cb0e4b2ebdb104555e5637d2.jpg\" width=\"300\"/>"
            ],
            "text/plain": [
              "<IPython.core.display.Image object>"
            ]
          },
          "metadata": {},
          "output_type": "display_data"
        },
        {
          "name": "stdout",
          "output_type": "stream",
          "text": [
            "\n",
            "\n",
            "Información nutricional:\n",
            "365: Calories, 17g: Fat, 8g: Carbs, 46g: Protein\n",
            "\n",
            "Detalles:\n",
            "Prep Time:: 20 mins, Cook Time:: 12 mins, Total Time:: 32 mins, Servings:: 4\n",
            "\n",
            "Comentarios:\n",
            "No se encontraron comentarios\n",
            "\n",
            "============================================================\n",
            "\n",
            "\n",
            "Receta: Air Fryer Chicken Tenders\n",
            "URL: https://www.allrecipes.com/air-fryer-chicken-tenders-recipe-7509380\n",
            "Similitud: 0.3636\n",
            "Cluster: 2\n",
            "            \n",
            "Rating: No encontrado\n",
            "\n",
            "Descripción:\n",
            "Air fryer cooked chicken tenders are quick and easy to make and will surely become a family favorite.\n",
            "\n",
            "Ingredientes:\n",
            "- cooking spray\n",
            "- 1largeegg\n",
            "- 1/2cuppanko bread crumbs\n",
            "- 2tablespoonscanola oil\n",
            "- 8chicken tenders (about 1 lb.)\n",
            "- choppedfresh parsley\n",
            "- for garnish (optional)\n",
            "- 2tablespoonshoney mustard sauce\n",
            "\n",
            "Pasos:\n",
            "1. 1\n",
            "2. Preheat air fryer to 350 degrees F (175 degrees C)\n",
            "3. Coat basket with cooking spray\n",
            "4. 2\n",
            "5. Whisk egg in a small bowl\n",
            "6. In another bowl, stir together panko and oil until loose and crumbly\n",
            "7. 3\n",
            "8. Dip each chicken tender into egg, allowing excess to drip off\n",
            "9. Dip chicken in panko mixture to coat completely\n",
            "10. Working in batches if needed, arrange chicken in an even layer in the air fryer basket\n",
            "11. 4\n",
            "12. Cook until chicken is no longer pink in the center and the juices run clear, about 12 minutes\n",
            "13. An instant-read thermometer inserted into the center should read at least 165 degrees F (74 degrees C)\n",
            "14. Garnish with parsley and serve with honey-mustard sauce\n",
            "\n",
            "Imagen:\n"
          ]
        },
        {
          "data": {
            "text/html": [
              "<img src=\"https://www.allrecipes.com/thmb/vXD28AEFuyo8smuYHvBMOA5YX6o=/1500x0/filters:no_upscale():max_bytes(150000):strip_icc()/7509380-air-fryer-chicken-tenders-MID-M7004348-071-2x1-7f47d82cc9784b0aa1cebede412ec91a.jpg\" width=\"300\"/>"
            ],
            "text/plain": [
              "<IPython.core.display.Image object>"
            ]
          },
          "metadata": {},
          "output_type": "display_data"
        },
        {
          "name": "stdout",
          "output_type": "stream",
          "text": [
            "\n",
            "\n",
            "Información nutricional:\n",
            "509: Calories, 31g: Fat, 33g: Carbs, 25g: Protein\n",
            "\n",
            "Detalles:\n",
            "Prep Time:: 10 mins, Cook Time:: 12 mins, Total Time:: 22 mins, Servings:: 4, Yield:: 8 chicken tenders\n",
            "\n",
            "Comentarios:\n",
            "No se encontraron comentarios\n",
            "\n",
            "============================================================\n",
            "\n",
            "\n",
            "Receta: Air Fryer Chicken Strips\n",
            "URL: https://www.allrecipes.com/air-fryer-chicken-tenders-recipe-7501758\n",
            "Similitud: 0.3425\n",
            "Cluster: 2\n",
            "            \n",
            "Rating: No encontrado\n",
            "\n",
            "Descripción:\n",
            "These spicy marinated and breaded air fryer chicken tenders will leave you smiling and wanting more, and they can be made gluten-free with a couple of simple substitutions.\n",
            "\n",
            "Ingredientes:\n",
            "- 2poundsskinless\n",
            "- boneless chicken breasts\n",
            "- 1cupdillpickle juice\n",
            "- 1cupmilk\n",
            "- 1tablespoonliquid smoke\n",
            "- 3largeeggs\n",
            "- at room temperature\n",
            "- 1/2cupranch dressing\n",
            "- 2cupsall purpose flour\n",
            "- divided\n",
            "- 1/2cupbread crumbs\n",
            "- 4teaspoonspaprika\n",
            "- 1tablespoonwhite pepper\n",
            "- 2teaspoonsgarlic salt\n",
            "- 2teaspoonsconfectioners' sugar\n",
            "- 1teaspoondriedthyme\n",
            "- 1teaspoondriedbasil\n",
            "- 1teaspoondriedoregano\n",
            "- 1teaspooncelery salt\n",
            "- 1teaspoonfreshly groundblack pepper\n",
            "- 1teaspoondry mustard\n",
            "- 1teaspoonground ginger\n",
            "- 1/2teaspoonchili powder\n",
            "- 1/2teaspoonsea salt\n",
            "- coconut oil cooking spray\n",
            "\n",
            "Pasos:\n",
            "1. 1\n",
            "2. Slice chicken breasts into 1-inch strips lengthwise and place in a shallow pan\n",
            "3. 2\n",
            "4. Whisk pickle juice, milk, and liquid smoke together in a cup; pour over chicken, and place chicken into the refrigerator to marinate for 30 minutes\n",
            "5. 3\n",
            "6. Meanwhile, whisk eggs and ranch dressing together in a shallow bowl\n",
            "7. Place 1 cup flour in a separate shallow bowl\n",
            "8. 4\n",
            "9. Whisk remaining 1 cup flour, breadcrumbs, paprika, white pepper, garlic salt, confectioners’ sugar, thyme, basil, oregano, celery salt, black pepper, dry mustard, ginger, chili powder, and salt together in a third shallow bowl\n",
            "10. 5\n",
            "11. Preheat the air fryer to 350 degrees F (175 degrees C)\n",
            "12. Drain chicken strips and thoroughly dry with paper towels\n",
            "13. 6\n",
            "14. Dredge chicken strips in flour\n",
            "15. then dip strips in egg mixture, letting the excess drip back into the bowl\n",
            "16. Drop chicken strips, 1 at a time, in the breadcrumb mixture and coat thoroughly\n",
            "17. 7\n",
            "18. Lay strips in a single layer without touching into the air fryer basket\n",
            "19. You may have to work in batches\n",
            "20. Thoroughly spray with coconut oil\n",
            "21. 8\n",
            "22. Air fry for 6 minutes\n",
            "23. Turn chicken over; spray with coconut oil, and continue to air fry until juices run clear and chicken is no longer pink at the center, about 6 more minutes\n",
            "24. An instant read thermometer inserted near the center should read at least 165 degrees F (74 degrees C)\n",
            "25. Repeat with remaining chicken pieces\n",
            "\n",
            "Imagen:\n"
          ]
        },
        {
          "data": {
            "text/html": [
              "<img src=\"https://www.allrecipes.com/thmb/QeMmkzD2uXiRiSltfjtdNCkPsNw=/1500x0/filters:no_upscale():max_bytes(150000):strip_icc()/7501758_Sir-Fryer-Chicken-Tenders_JohnGalt_2x1-6f2e633635ce464f84c2d5dc523963b7.jpg\" width=\"300\"/>"
            ],
            "text/plain": [
              "<IPython.core.display.Image object>"
            ]
          },
          "metadata": {},
          "output_type": "display_data"
        },
        {
          "name": "stdout",
          "output_type": "stream",
          "text": [
            "\n",
            "\n",
            "Información nutricional:\n",
            "753: Calories, 22g: Fat, 64g: Carbs, 70g: Protein\n",
            "\n",
            "Detalles:\n",
            "Prep Time:: 15 mins, Cook Time:: 15 mins, Marinate Time:: 30 mins, Total Time:: 1 hr, Servings:: 5\n",
            "\n",
            "Comentarios:\n",
            "No se encontraron comentarios\n",
            "\n",
            "============================================================\n",
            "\n",
            "\n",
            "Receta: Air Fryer Honey-Mustard Chicken Thighs\n",
            "URL: https://www.allrecipes.com/air-fryer-honey-mustard-chicken-thighs-recipe-7970816\n",
            "Similitud: 0.3275\n",
            "Cluster: 2\n",
            "            \n",
            "Rating: 4.8\n",
            "\n",
            "Descripción:\n",
            "These air fryer honey-mustard chicken thighs prove that simple chicken recipes don’t have to be boring! Jazz up your chicken thighs with this tasty, smoky, honey-mustard sauce.\n",
            "\n",
            "Ingredientes:\n",
            "- 4boneless skinless chicken thighs\n",
            "- 1/2teaspoononion powder\n",
            "- 1/2teaspoongarlic powder\n",
            "- 1/2teaspoonsmoked paprika\n",
            "- 1/4teaspoonsalt\n",
            "- or to taste\n",
            "- 1/4teaspoonfreshly groundblack pepper\n",
            "- or to taste\n",
            "- 2tablespoonshoney\n",
            "- 2tablespoonsDijon mustard\n",
            "- olive oil cooking spray\n",
            "\n",
            "Pasos:\n",
            "1. 1\n",
            "2. Preheat the air fryer to 390 degrees F (198 degrees C), if recommended by the manufacturer\n",
            "3. Pat chicken thighs dry with paper towels\n",
            "4. 2\n",
            "5. For sauce, combine onion powder, garlic powder, smoked paprika, salt, and pepper in a small bowl\n",
            "6. Stir in  honey and Dijon mustard\n",
            "7. 3\n",
            "8. Spray one side of chicken thighs with olive oil spray, and place oiled side down in the air fryer in a single layer\n",
            "9. Brush the tops of the chicken thighs with the sauce\n",
            "10. 4\n",
            "11. Air fry at 390 degrees F (198 degrees C) for 8 minutes\n",
            "12. 5\n",
            "13. Carefully turn chicken thighs, and brush with remaining sauce\n",
            "14. Continue air frying until internal temperature of chicken reaches 165 degrees F (74 degrees C), when tested with an instant-read thermometer, 6 to 8 minutes more\n",
            "15. Serve warm\n",
            "16. Cook’s NoteThis recipe was developed for a 5\n",
            "17. 3 quart, basket-style air fryer\n",
            "18. Different sizes and models may yield different results\n",
            "\n",
            "Imagen:\n"
          ]
        },
        {
          "data": {
            "text/html": [
              "<img src=\"https://www.allrecipes.com/thmb/mBRebVq6L9zTZ5fUtQBzv06mYHc=/1500x0/filters:no_upscale():max_bytes(150000):strip_icc()/7970816_Air-Fryer-Honey-Mustard-Chicken-Thighs_Bibi_2x1-ae67b19985bf469d842380f9f878b46f.jpg\" width=\"300\"/>"
            ],
            "text/plain": [
              "<IPython.core.display.Image object>"
            ]
          },
          "metadata": {},
          "output_type": "display_data"
        },
        {
          "name": "stdout",
          "output_type": "stream",
          "text": [
            "\n",
            "\n",
            "Información nutricional:\n",
            "364: Calories, 20g: Fat, 10g: Carbs, 38g: Protein\n",
            "\n",
            "Detalles:\n",
            "Prep Time:: 5 mins, Cook Time:: 15 mins, Total Time:: 20 mins, Servings:: 4\n",
            "\n",
            "Comentarios:\n",
            "No se encontraron comentarios\n",
            "\n",
            "============================================================\n",
            "\n",
            "\n",
            "Receta: Easy Air Fryer Chicken Breast\n",
            "URL: https://www.allrecipes.com/recipe/283850/easy-air-fried-chicken-breast/\n",
            "Similitud: 0.3176\n",
            "Cluster: 2\n",
            "            \n",
            "Rating: 4.9\n",
            "\n",
            "Descripción:\n",
            "This air fryer chicken breast is perfectly seasoned outside and air fried until golden, tender, and incredibly juicy inside for a quick and easy dinner.\n",
            "\n",
            "Ingredientes:\n",
            "- 1(8 ounce)chicken breast\n",
            "- 2teaspoonsolive oil\n",
            "- 1/4teaspoongarlic powder\n",
            "- or to taste\n",
            "- salt and freshly ground black pepper to taste\n",
            "\n",
            "Pasos:\n",
            "1. 1\n",
            "2. Gather all ingredients\n",
            "3. Preheat an air fryer to 360 degrees F (182 degrees C)\n",
            "4. Allrecipes / Qi Ai 2\n",
            "5. Brush both sides of chicken breast with olive oil; season with garlic powder, salt, and pepper on one side\n",
            "6. Place chicken breast, seasoned-side down, into the air fryer basket and sprinkle the other side with garlic powder, salt, and pepper\n",
            "7. Allrecipes / Qi Ai 3\n",
            "8. Cook in the preheated air fryer for 9 minutes\n",
            "9. Flip chicken and continue cooking until no longer pink in the center and the juices run clear, about 9 more minutes\n",
            "10. An instant-read thermometer inserted into the center should read at least 165 degrees F (74 degrees C)\n",
            "11. Allrecipes / Qi Ai 4\n",
            "12. Transfer chicken breast to a plate and loosely cover with aluminum foil\n",
            "13. Let rest for 5 minutes before serving\n",
            "14. Allrecipes / Qi Ai\n",
            "\n",
            "Imagen:\n"
          ]
        },
        {
          "data": {
            "text/html": [
              "<img src=\"https://www.allrecipes.com/thmb/ZevOZ2_8uuTKopXBqTtt7WobUrE=/1500x0/filters:no_upscale():max_bytes(150000):strip_icc()/ALR-283850-easy-air-fried-chicken-breast-VAT-2x1-5a49b43405254d04b5c73fb85106853b.jpg\" width=\"300\"/>"
            ],
            "text/plain": [
              "<IPython.core.display.Image object>"
            ]
          },
          "metadata": {},
          "output_type": "display_data"
        },
        {
          "name": "stdout",
          "output_type": "stream",
          "text": [
            "\n",
            "\n",
            "Información nutricional:\n",
            "456: Calories, 17g: Fat, 1g: Carbs, 70g: Protein\n",
            "\n",
            "Detalles:\n",
            "Prep Time:: 5 mins, Cook Time:: 20 mins, Additional Time:: 5 mins, Total Time:: 30 mins, Servings:: 1, Yield:: 1 chicken breast\n",
            "\n",
            "Comentarios:\n",
            "Jennifer Cox (11/19/2024 - 5/5): I used mesquite marinated checked breast\n",
            "Deb C (02/11/2022 - 5/5): This recipe is so quick and easy. I seasoned the chicken breast on both sides and then lightly pounded it so that it would be an even thickness which reduced the baking time by a couple of minutes. The chicken breast was delicious and moist.\n",
            "\n",
            "============================================================\n",
            "\n",
            "\n",
            "Receta: Air Fryer Chicken Parmesan\n",
            "URL: https://www.allrecipes.com/air-fryer-chicken-parmesan-recipe-8698442\n",
            "Similitud: 0.2950\n",
            "Cluster: 2\n",
            "            \n",
            "Rating: 4.5\n",
            "\n",
            "Descripción:\n",
            "The air fryer is perfect for making chicken Parmesan. No need to fuss with deep-frying and the chicken turns out cruspy and golden brown with lots of cheese and sauce.\n",
            "\n",
            "Ingredientes:\n",
            "- 2(8-ounce)boneless skinless chicken breasts\n",
            "- patted dry\n",
            "- 3/4teaspoonkosher salt\n",
            "- divided\n",
            "- 1/2teaspoonfreshly groundblack pepper\n",
            "- divided\n",
            "- 1/3cupall purpose flour\n",
            "- 2largeeggs\n",
            "- lightly beaten\n",
            "- 1 1/2cupsseasoned panko (Japanese-style breadcrumbs)\n",
            "- 1/4cupfreshly grated Parmesan cheese\n",
            "- plus more for garnish\n",
            "- 2tablespoonsolive oil\n",
            "- 1/4teaspooncrushed red pepper\n",
            "- 1/4teaspoongarlic powder\n",
            "- 1cupjarredmarinara sauce\n",
            "- plus more for serving\n",
            "- 1cupshredded low-moisture\n",
            "- part-skimmozzarella cheese\n",
            "\n",
            "Pasos:\n",
            "1. 1\n",
            "2. Gather all ingredients\n",
            "3. Dotdash Meredith Food Studios 2\n",
            "4. On a cutting board, butterfly chicken by cutting each breast in half widthwise to create 4 thin pieces of chicken; season both sides with 1/2teaspoon of the salt and 1/4 teaspoon of the black pepper\n",
            "5. Dotdash Meredith Food Studios 3\n",
            "6. Place flour, egg, and panko in 3 separate shallow dishes\n",
            "7. Add Parmesan, oil, crushed red pepper, and garlic powder to panko; stir to coat\n",
            "8. Add remaining 1/4 teaspoon salt and remaining 1/4 teaspoon black pepper to flour; stir to combine\n",
            "9. Working with 1 chicken piece at a time, dredge chicken in flour; shake off excess\n",
            "10. Dip in egg; let excess drip off\n",
            "11. Dredge in panko mixture to coat; place on a plate\n",
            "12. Dotdash Meredith Food Studios 4\n",
            "13. Preheat a 6-quart air fryer to 400 degrees F (200 degrees C) for 2 minutes\n",
            "14. Working in two batches, add 2 chicken cutlets to the air fryer basket in a single layer\n",
            "15. Cook until chicken is golden brown on both sides, about 5 minutes per side\n",
            "16. Dotdash Meredith Food Studios 5\n",
            "17. Top each chicken piece with 1/4 cup marinara and 1/4 cup mozzarella cheese\n",
            "18. Dotdash Meredith Food Studios 6\n",
            "19. Snugly fit all 4 breasts in a single layer in air fryer basket; cook at 400 degrees F (200 degrees C) until cheese is melted and browned and a thermometer inserted into the thickest portion of chicken registers 165 degrees F (73 degrees C), 2 to 3 minutes\n",
            "20. Dotdash Meredith Food Studios\n",
            "\n",
            "Imagen:\n"
          ]
        },
        {
          "data": {
            "text/html": [
              "<img src=\"https://www.allrecipes.com/thmb/RmKn-GacFHdDhS6UaOkYfl-QOBw=/1500x0/filters:no_upscale():max_bytes(150000):strip_icc()/8698442-AirFryerChickenParmesan-ddmfs-0248-2x1-hero-ec4b6fae73d441359910526eae062691.jpg\" width=\"300\"/>"
            ],
            "text/plain": [
              "<IPython.core.display.Image object>"
            ]
          },
          "metadata": {},
          "output_type": "display_data"
        },
        {
          "name": "stdout",
          "output_type": "stream",
          "text": [
            "\n",
            "\n",
            "Información nutricional:\n",
            "582: Calories, 18g: Fat, 45g: Carbs, 57g: Protein\n",
            "\n",
            "Detalles:\n",
            "Prep Time:: 15 mins, Cook Time:: 25 mins, Total Time:: 40 mins, Servings:: 4\n",
            "\n",
            "Comentarios:\n",
            "No se encontraron comentarios\n",
            "\n",
            "============================================================\n",
            "\n",
            "\n",
            "Receta: Sheet Pan Za'atar Chicken Thighs and Vegetables\n",
            "URL: https://www.allrecipes.com/sheet-pan-za-atar-chicken-thighs-and-vegetables-recipe-11753376\n",
            "Similitud: 0.2817\n",
            "Cluster: 2\n",
            "            \n",
            "Rating: No encontrado\n",
            "\n",
            "Descripción:\n",
            "This sheet pan za’atar chicken thighs and vegetables is a great introduction to the flavor of za'atar, a warm spice blend from the Middle East. Chicken thighs roast on a bed of zucchini, yellow summer squash, red bell pepper, and red onion, and if you like, cherry tomatoes.\n",
            "\n",
            "Ingredientes:\n",
            "- 2yellow squash\n",
            "- cut into 1-inch chunks\n",
            "- 2zucchini\n",
            "- cut into 1-inch chunks\n",
            "- 1red bell pepper\n",
            "- cut into 1-inch pieces\n",
            "- 1red onion\n",
            "- cut into eighths\n",
            "- 5tablespoonsolive oil\n",
            "- divided\n",
            "- 3tablespoonsza’atar seasoning\n",
            "- divided\n",
            "- salt and freshly ground black pepper to taste\n",
            "- 1 1/2poundsskinless boneless chicken thighs\n",
            "- 6cherry tomatoes\n",
            "- halved (optional)\n",
            "- chopped fresh parsley for garnish (optional)\n",
            "\n",
            "Pasos:\n",
            "1. 1\n",
            "2. Preheat the oven to 425 degrees F (220 degrees C) and line a rimmed baking sheet with parchment paper or foil\n",
            "3. 2\n",
            "4. Combine yellow squash, zucchini, bell pepper, and red onion pieces in a large bowl\n",
            "5. Pour 3 tablespoons olive oil over vegetables and stir\n",
            "6. Sprinkle with 2 tablespoons za’atar and stir to coat evenly\n",
            "7. Season with salt and pepper\n",
            "8. Spread vegetables on the prepared sheet pan\n",
            "9. 3\n",
            "10. Pat chicken dry with paper towels, drizzle with remaining olive oil on both sides, and sprinkle remaining za’atar seasoning on both sides of chicken\n",
            "11. Season chicken with salt and pepper\n",
            "12. Nestle chicken pieces into vegetables\n",
            "13. 4\n",
            "14. Bake in the center of the preheated oven for 20 minutes\n",
            "15. Add cherry tomatoes; bake until chicken is no longer pink at the center and juices run clear, about 10 minutes more\n",
            "16. An instant-read thermometer inserted in the center of chicken should read 165 degrees F (74 degrees C)\n",
            "17. 5\n",
            "18. To serve, place chicken and vegetables on a serving plate and garnish with fresh chopped parsley\n",
            "\n",
            "Imagen:\n"
          ]
        },
        {
          "data": {
            "text/html": [
              "<img src=\"https://www.allrecipes.com/thmb/fqTlgPGZyJnEqpoOJ-JhdVn_8gs=/1500x0/filters:no_upscale():max_bytes(150000):strip_icc()/11753376_Sheet-Pan-Zaatar-Chicken-Thighs-and-Vegetables_Brenda-Venable_2x1-a166342bb46f4e05af05e4ab0b67e1c3.jpg\" width=\"300\"/>"
            ],
            "text/plain": [
              "<IPython.core.display.Image object>"
            ]
          },
          "metadata": {},
          "output_type": "display_data"
        },
        {
          "name": "stdout",
          "output_type": "stream",
          "text": [
            "\n",
            "\n",
            "Información nutricional:\n",
            "508: Calories, 32g: Fat, 16g: Carbs, 45g: Protein\n",
            "\n",
            "Detalles:\n",
            "Prep Time:: 15 mins, Cook Time:: 30 mins, Total Time:: 45 mins, Servings:: 4\n",
            "\n",
            "Comentarios:\n",
            "No se encontraron comentarios\n",
            "\n",
            "============================================================\n",
            "\n",
            "\n",
            "Receta: Air Fryer Peanut Chicken\n",
            "URL: https://www.allrecipes.com/air-fryer-peanut-chicken-recipe-11728705\n",
            "Similitud: 0.2582\n",
            "Cluster: 2\n",
            "            \n",
            "Rating: 5.0\n",
            "\n",
            "Descripción:\n",
            "In this air fryer peanut chicken recipe, boneless, skinless chicken thighs are marinated in a spicy-sweet peanut marinade. Rice or noodles work with this dish, or cut it into bite-sized pieces and serve over a salad.\n",
            "\n",
            "Ingredientes:\n",
            "- 2tablespoonsThai sweet chili sauce\n",
            "- 1tablespoonsoy sauce\n",
            "- 1tablespoonSriracha\n",
            "- or to taste\n",
            "- 1lime\n",
            "- zested and juiced\n",
            "- 1teaspoongranulated garlic\n",
            "- 1tablespoonmincedfresh ginger\n",
            "- 1/3cupcreamy peanut butter\n",
            "- salt to taste\n",
            "- 6skinless\n",
            "- boneless chicken thighs\n",
            "- cooking spray\n",
            "- 2cupscooked rice\n",
            "- or as needed\n",
            "- chopped cilantro\n",
            "- sliced scallions\n",
            "- julienne cucumbers\n",
            "- and carrots (optional)\n",
            "- chopped salt-free\n",
            "- dry-roasted peanuts(optional)\n",
            "\n",
            "Pasos:\n",
            "1. 1\n",
            "2. Combine chili sauce, soy sauce, Sriracha, lime zest, lime juice, granulated garlic, minced ginger, peanut butter, and salt to taste in a large resealable plastic bag\n",
            "3. Gently move and mash the ingredients inside the bag until well blended\n",
            "4. 2\n",
            "5. Add chicken to the bag, and squeeze out as much air as possible\n",
            "6. Move chicken around inside the bag until each piece is coated in marinade\n",
            "7. Marinate in the refrigerator for at least 30 minutes and up to 24 hours\n",
            "8. 3\n",
            "9. Preheat an air fryer to 350 degrees F (180 degrees C), or according to manufacturer’s recommendations\n",
            "10. 4\n",
            "11. Spray the cooking surface of the air fryer with cooking spray\n",
            "12. 5\n",
            "13. Take chicken pieces from the bag, and allow the marinade to drip back into the bag\n",
            "14. Place chicken pieces in the air fryer in a single layer and air fry for 20 to 22 minutes, turning halfway through, until an instant-read thermometer inserted near the center reads 165 degrees F (74 degrees C)\n",
            "15. 6\n",
            "16. Meanwhile, add about 1/2 cup of water to the unused marinade, and mix contents; pour into a microwave-safe container\n",
            "17. Microwave on High, until marinade comes to a boil, and cook about 1 minute longer; watch carefully to see it does not boil over\n",
            "18. 7\n",
            "19. Serve chicken over rice, with sauce on the side as a dip\n",
            "20. Garnish with chopped cilantro, sliced scallions, julienne cucumbers and carrots, and chopped peanuts, as desired\n",
            "21. Cook’s NoteSeveral ingredients in the sauce are salty; taste before seasoning with salt\n",
            "\n",
            "Imagen:\n"
          ]
        },
        {
          "data": {
            "text/html": [
              "<img src=\"https://www.allrecipes.com/thmb/ZPso-oD-mSkW2HkGiYdOyuCKBBY=/1500x0/filters:no_upscale():max_bytes(150000):strip_icc()/11728705_Air-Fryer-Peanut-Chicken_Brenda-2x1-eb9dde1fb31a464292153956ac677da5.jpg\" width=\"300\"/>"
            ],
            "text/plain": [
              "<IPython.core.display.Image object>"
            ]
          },
          "metadata": {},
          "output_type": "display_data"
        },
        {
          "name": "stdout",
          "output_type": "stream",
          "text": [
            "\n",
            "\n",
            "Información nutricional:\n",
            "727: Calories, 40g: Fat, 37g: Carbs, 60g: Protein\n",
            "\n",
            "Detalles:\n",
            "Prep Time:: 15 mins, Cook Time:: 20 mins, Marinate Time:: 30 mins, Total Time:: 1 hr 5 mins, Servings:: 4\n",
            "\n",
            "Comentarios:\n",
            "No se encontraron comentarios\n",
            "\n",
            "============================================================\n",
            "\n"
          ]
        }
      ],
      "source": [
        "def example_query_run(user_query, recipe_df, tfidf_vectorizer):\n",
        "    \"\"\"\n",
        "    Ejecuta una consulta de ejemplo y muestra los resultados completos.\n",
        "\n",
        "    Args:\n",
        "        user_query (str): Consulta del usuario.\n",
        "        recipe_df (DataFrame): DataFrame con las recetas ya procesadas.\n",
        "        tfidf_vectorizer (TfidfVectorizer): Vectorizador entrenado.\n",
        "    \"\"\"\n",
        "    results = search_similar_recipes(user_query, recipe_embeddings, recipe_df, tfidf_vectorizer)\n",
        "    print(\"Recetas similares encontradas:\\n\")\n",
        "\n",
        "    for _, row in results.iterrows():\n",
        "        ingredientes = '\\n'.join(f\"- {i.strip()}\" for i in row['Ingredientes'].split(','))\n",
        "        preparacion = '\\n'.join(f\"{idx+1}. {p.strip()}\" for idx, p in enumerate(row['Preparación'].split('.')) if p.strip())\n",
        "\n",
        "        print(f\"\"\"\n",
        "Receta: {row['Nombre']}\n",
        "URL: {row.get('Receta_URL', 'No disponible')}\n",
        "Similitud: {row['similarity']:.4f}\n",
        "Cluster: {row.get('cluster', 'N/A')}\n",
        "\n",
        "Rating: {row['Rating']}\n",
        "\n",
        "Descripción:\n",
        "{row['Descripción']}\n",
        "\n",
        "Ingredientes:\n",
        "{ingredientes}\n",
        "\n",
        "Pasos:\n",
        "{preparacion}\n",
        "\"\"\")\n",
        "        if row.get('image_url') and row['image_url'] != 'No disponible':\n",
        "            print(\"Imagen:\")\n",
        "            display(Image(url=row['image_url'], width=300))\n",
        "        else:\n",
        "            print(\"Imagen no disponible\")\n",
        "\n",
        "        print(f\"\"\"\n",
        "\n",
        "Información nutricional:\n",
        "{row['Información_nutricional']}\n",
        "\n",
        "Detalles:\n",
        "{row['Detalles']}\n",
        "\n",
        "Comentarios:\n",
        "{row['Comentarios']}\n",
        "\n",
        "{'='*60}\n",
        "\"\"\")\n",
        "\n",
        "# Ejecutar consulta\n",
        "user_query_example = \"chicken with lemon\"\n",
        "example_query_run(user_query_example, df, tfidf_vectorizer)"
      ]
    }
  ],
  "metadata": {
    "colab": {
      "provenance": []
    },
    "kernelspec": {
      "display_name": "Python 3",
      "name": "python3"
    },
    "language_info": {
      "name": "python"
    }
  },
  "nbformat": 4,
  "nbformat_minor": 0
}
